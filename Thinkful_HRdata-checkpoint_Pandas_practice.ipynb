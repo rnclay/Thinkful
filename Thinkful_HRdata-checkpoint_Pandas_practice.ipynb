{
 "cells": [
  {
   "cell_type": "markdown",
   "metadata": {},
   "source": [
    "# Human Resources Data Set\n",
    "\n",
    "## Source: https://www.kaggle.com/rhuebner/human-resources-data-set \n",
    "\n",
    "### Synopsis\n",
    "\n",
    "### Introduction:\n",
    "This is a **fictitious** data set designed to allow the exploration of human resource (*HR*) metric data. I chose this data set because I feel HR data provides compelling questions data science can help answer, like: ***What are some strategies we could implement to improve employee productivity?*** ***Which teams are really working best together?*** ***How do we target our high impact employees?*** ***How much should we be paying our employees, really?*** , to name just a few.\n",
    "\n",
    "In this report I focus primarily on the company's ***pay*** distribution and evaluate it against these other variables: ***sex***, ***age***, ***performance score***, and ***position***, to explore whether or not there are meaningful relationships.  \n",
    "\n",
    "### Problems: \n",
    "Due to the **fictitious** nature of this data set there are inherent biases. Those biases are baked into the data set. Even though this is training data and would most certainly be a small sample size and **shouldn't** be used to make statistical judgements to be applied to other companies, the ***data science*** techniques used here, and the ***insights*** gained here can be beneficial for future work. Knowing **how** to look for, and having clues about **what** to look for, can be beneficial when explorting a more robust and *\"wild\"* data set. \n",
    "\n",
    "I needed to rename the columns in *lower case* and *snake_case*, and add a row of data in order to properly use the ***slicing***, ***groupby***, and ***plotting*** techniques learned along the way.\n",
    "\n",
    "### Data Description:\n",
    "The imported data was in .csv format. The data set contains 28 columns. Cells In cells ***2-8*** I'm prepping the data for analysis. My analyses starts in cell ***9***.\n"
   ]
  },
  {
   "cell_type": "code",
   "execution_count": 1,
   "metadata": {},
   "outputs": [],
   "source": [
    "import pandas as pd\n",
    "import numpy as np\n",
    "import statistics\n",
    "import matplotlib.pyplot as plt"
   ]
  },
  {
   "cell_type": "code",
   "execution_count": 2,
   "metadata": {
    "scrolled": true
   },
   "outputs": [
    {
     "data": {
      "text/html": [
       "<div>\n",
       "<style scoped>\n",
       "    .dataframe tbody tr th:only-of-type {\n",
       "        vertical-align: middle;\n",
       "    }\n",
       "\n",
       "    .dataframe tbody tr th {\n",
       "        vertical-align: top;\n",
       "    }\n",
       "\n",
       "    .dataframe thead th {\n",
       "        text-align: right;\n",
       "    }\n",
       "</style>\n",
       "<table border=\"1\" class=\"dataframe\">\n",
       "  <thead>\n",
       "    <tr style=\"text-align: right;\">\n",
       "      <th></th>\n",
       "      <th>Employee Name</th>\n",
       "      <th>Employee Number</th>\n",
       "      <th>MarriedID</th>\n",
       "      <th>MaritalStatusID</th>\n",
       "      <th>GenderID</th>\n",
       "      <th>EmpStatus_ID</th>\n",
       "      <th>DeptID</th>\n",
       "      <th>Perf_ScoreID</th>\n",
       "      <th>Age</th>\n",
       "      <th>Pay Rate</th>\n",
       "      <th>...</th>\n",
       "      <th>Date of Hire</th>\n",
       "      <th>Days Employed</th>\n",
       "      <th>Date of Termination</th>\n",
       "      <th>Reason For Term</th>\n",
       "      <th>Employment Status</th>\n",
       "      <th>Department</th>\n",
       "      <th>Position</th>\n",
       "      <th>Manager Name</th>\n",
       "      <th>Employee Source</th>\n",
       "      <th>Performance Score</th>\n",
       "    </tr>\n",
       "  </thead>\n",
       "  <tbody>\n",
       "  </tbody>\n",
       "</table>\n",
       "<p>0 rows × 28 columns</p>\n",
       "</div>"
      ],
      "text/plain": [
       "Empty DataFrame\n",
       "Columns: [Employee Name, Employee Number, MarriedID, MaritalStatusID, GenderID, EmpStatus_ID, DeptID, Perf_ScoreID, Age, Pay Rate, State, Zip, DOB, Sex, MaritalDesc, CitizenDesc, Hispanic/Latino, RaceDesc, Date of Hire, Days Employed, Date of Termination, Reason For Term, Employment Status, Department, Position, Manager Name, Employee Source, Performance Score]\n",
       "Index: []\n",
       "\n",
       "[0 rows x 28 columns]"
      ]
     },
     "execution_count": 2,
     "metadata": {},
     "output_type": "execute_result"
    }
   ],
   "source": [
    "df = pd.read_csv('C:\\\\HRdataset_v9.csv')\n",
    "df.head(0)\n"
   ]
  },
  {
   "cell_type": "code",
   "execution_count": 3,
   "metadata": {},
   "outputs": [
    {
     "data": {
      "text/html": [
       "<div>\n",
       "<style scoped>\n",
       "    .dataframe tbody tr th:only-of-type {\n",
       "        vertical-align: middle;\n",
       "    }\n",
       "\n",
       "    .dataframe tbody tr th {\n",
       "        vertical-align: top;\n",
       "    }\n",
       "\n",
       "    .dataframe thead th {\n",
       "        text-align: right;\n",
       "    }\n",
       "</style>\n",
       "<table border=\"1\" class=\"dataframe\">\n",
       "  <thead>\n",
       "    <tr style=\"text-align: right;\">\n",
       "      <th></th>\n",
       "      <th>employee name</th>\n",
       "      <th>employee number</th>\n",
       "      <th>marriedid</th>\n",
       "      <th>maritalstatusid</th>\n",
       "      <th>genderid</th>\n",
       "      <th>empstatus_id</th>\n",
       "      <th>deptid</th>\n",
       "      <th>perf_scoreid</th>\n",
       "      <th>age</th>\n",
       "      <th>pay rate</th>\n",
       "      <th>...</th>\n",
       "      <th>date of hire</th>\n",
       "      <th>days employed</th>\n",
       "      <th>date of termination</th>\n",
       "      <th>reason for term</th>\n",
       "      <th>employment status</th>\n",
       "      <th>department</th>\n",
       "      <th>position</th>\n",
       "      <th>manager name</th>\n",
       "      <th>employee source</th>\n",
       "      <th>performance score</th>\n",
       "    </tr>\n",
       "  </thead>\n",
       "  <tbody>\n",
       "  </tbody>\n",
       "</table>\n",
       "<p>0 rows × 28 columns</p>\n",
       "</div>"
      ],
      "text/plain": [
       "Empty DataFrame\n",
       "Columns: [employee name, employee number, marriedid, maritalstatusid, genderid, empstatus_id, deptid, perf_scoreid, age, pay rate, state, zip, dob, sex, maritaldesc, citizendesc, hispanic/latino, racedesc, date of hire, days employed, date of termination, reason for term, employment status, department, position, manager name, employee source, performance score]\n",
       "Index: []\n",
       "\n",
       "[0 rows x 28 columns]"
      ]
     },
     "execution_count": 3,
     "metadata": {},
     "output_type": "execute_result"
    }
   ],
   "source": [
    "df.rename(str.lower, axis = 'columns', inplace = True) \n",
    "df.head(0)"
   ]
  },
  {
   "cell_type": "code",
   "execution_count": 4,
   "metadata": {},
   "outputs": [
    {
     "data": {
      "text/html": [
       "<div>\n",
       "<style scoped>\n",
       "    .dataframe tbody tr th:only-of-type {\n",
       "        vertical-align: middle;\n",
       "    }\n",
       "\n",
       "    .dataframe tbody tr th {\n",
       "        vertical-align: top;\n",
       "    }\n",
       "\n",
       "    .dataframe thead th {\n",
       "        text-align: right;\n",
       "    }\n",
       "</style>\n",
       "<table border=\"1\" class=\"dataframe\">\n",
       "  <thead>\n",
       "    <tr style=\"text-align: right;\">\n",
       "      <th></th>\n",
       "      <th>employee_name</th>\n",
       "      <th>employee_number</th>\n",
       "      <th>marriedid</th>\n",
       "      <th>maritalstatusid</th>\n",
       "      <th>genderid</th>\n",
       "      <th>empstatus_id</th>\n",
       "      <th>deptid</th>\n",
       "      <th>perf_scoreid</th>\n",
       "      <th>age</th>\n",
       "      <th>pay_rate</th>\n",
       "      <th>...</th>\n",
       "      <th>date_of_hire</th>\n",
       "      <th>days_employed</th>\n",
       "      <th>date_of_termination</th>\n",
       "      <th>reason_for_term</th>\n",
       "      <th>employment_status</th>\n",
       "      <th>department</th>\n",
       "      <th>position</th>\n",
       "      <th>manager_name</th>\n",
       "      <th>employee_source</th>\n",
       "      <th>performance_score</th>\n",
       "    </tr>\n",
       "  </thead>\n",
       "  <tbody>\n",
       "  </tbody>\n",
       "</table>\n",
       "<p>0 rows × 28 columns</p>\n",
       "</div>"
      ],
      "text/plain": [
       "Empty DataFrame\n",
       "Columns: [employee_name, employee_number, marriedid, maritalstatusid, genderid, empstatus_id, deptid, perf_scoreid, age, pay_rate, state, zip, dob, sex, maritaldesc, citizendesc, hispanic/latino, racedesc, date_of_hire, days_employed, date_of_termination, reason_for_term, employment_status, department, position, manager_name, employee_source, performance_score]\n",
       "Index: []\n",
       "\n",
       "[0 rows x 28 columns]"
      ]
     },
     "execution_count": 4,
     "metadata": {},
     "output_type": "execute_result"
    }
   ],
   "source": [
    "df.rename(columns= {'employee name':'employee_name', 'employee number': 'employee_number', 'pay rate':'pay_rate',\n",
    "         'date of hire': 'date_of_hire','days employed':'days_employed', 'date of termination': 'date_of_termination',\n",
    "         'reason for term': 'reason_for_term', 'employment status': 'employment_status', 'manager name':'manager_name',\n",
    "         'employee source': 'employee_source', 'performance score': 'performance_score'}, inplace=True)\n",
    "df.head(0)"
   ]
  },
  {
   "cell_type": "code",
   "execution_count": 5,
   "metadata": {},
   "outputs": [
    {
     "data": {
      "text/html": [
       "<div>\n",
       "<style scoped>\n",
       "    .dataframe tbody tr th:only-of-type {\n",
       "        vertical-align: middle;\n",
       "    }\n",
       "\n",
       "    .dataframe tbody tr th {\n",
       "        vertical-align: top;\n",
       "    }\n",
       "\n",
       "    .dataframe thead th {\n",
       "        text-align: right;\n",
       "    }\n",
       "</style>\n",
       "<table border=\"1\" class=\"dataframe\">\n",
       "  <thead>\n",
       "    <tr style=\"text-align: right;\">\n",
       "      <th></th>\n",
       "      <th>employee_name</th>\n",
       "      <th>employee_number</th>\n",
       "      <th>marriedid</th>\n",
       "      <th>maritalstatusid</th>\n",
       "      <th>genderid</th>\n",
       "      <th>empstatus_id</th>\n",
       "      <th>deptid</th>\n",
       "      <th>perf_scoreid</th>\n",
       "      <th>age</th>\n",
       "      <th>pay_rate</th>\n",
       "      <th>...</th>\n",
       "      <th>date_of_hire</th>\n",
       "      <th>days_employed</th>\n",
       "      <th>date_of_termination</th>\n",
       "      <th>reason_for_term</th>\n",
       "      <th>employment_status</th>\n",
       "      <th>department</th>\n",
       "      <th>position</th>\n",
       "      <th>manager_name</th>\n",
       "      <th>employee_source</th>\n",
       "      <th>performance_review</th>\n",
       "    </tr>\n",
       "  </thead>\n",
       "  <tbody>\n",
       "  </tbody>\n",
       "</table>\n",
       "<p>0 rows × 28 columns</p>\n",
       "</div>"
      ],
      "text/plain": [
       "Empty DataFrame\n",
       "Columns: [employee_name, employee_number, marriedid, maritalstatusid, genderid, empstatus_id, deptid, perf_scoreid, age, pay_rate, state, zip, dob, sex, maritaldesc, citizendesc, hispanic/latino, racedesc, date_of_hire, days_employed, date_of_termination, reason_for_term, employment_status, department, position, manager_name, employee_source, performance_review]\n",
       "Index: []\n",
       "\n",
       "[0 rows x 28 columns]"
      ]
     },
     "execution_count": 5,
     "metadata": {},
     "output_type": "execute_result"
    }
   ],
   "source": [
    "df.rename(index=str, columns={'performance_score':'performance_review'}, inplace =True)\n",
    "df.head(0)"
   ]
  },
  {
   "cell_type": "code",
   "execution_count": 6,
   "metadata": {},
   "outputs": [],
   "source": [
    "df['performance_review'].replace({'Fully Meets':'fully_meets','90-day meets':'fully_meets',\n",
    "                                  'N/A- too early to review':'too_early_to_review',\n",
    "                                  'Exceptional':'exceptional','Needs improvement':'needs_improvement',\n",
    "                                  'Exceeds':'exceeds'}, inplace = True)\n"
   ]
  },
  {
   "cell_type": "code",
   "execution_count": 7,
   "metadata": {},
   "outputs": [],
   "source": [
    "df['performance_score'] = df.performance_review.map({'PIP':-1, 'needs_improvement': 1, 'too_early_to_review':0, \n",
    "                                                     'fully_meets': 3, 'exceeds': 4, 'exceptional': 5})"
   ]
  },
  {
   "cell_type": "code",
   "execution_count": 8,
   "metadata": {},
   "outputs": [],
   "source": [
    "df.performance_score = df.performance_score.astype(float)"
   ]
  },
  {
   "cell_type": "code",
   "execution_count": 9,
   "metadata": {},
   "outputs": [],
   "source": [
    "hr_data = df"
   ]
  },
  {
   "cell_type": "code",
   "execution_count": 10,
   "metadata": {},
   "outputs": [
    {
     "data": {
      "text/html": [
       "<div>\n",
       "<style scoped>\n",
       "    .dataframe tbody tr th:only-of-type {\n",
       "        vertical-align: middle;\n",
       "    }\n",
       "\n",
       "    .dataframe tbody tr th {\n",
       "        vertical-align: top;\n",
       "    }\n",
       "\n",
       "    .dataframe thead th {\n",
       "        text-align: right;\n",
       "    }\n",
       "</style>\n",
       "<table border=\"1\" class=\"dataframe\">\n",
       "  <thead>\n",
       "    <tr style=\"text-align: right;\">\n",
       "      <th></th>\n",
       "      <th>employee_name</th>\n",
       "      <th>employee_number</th>\n",
       "      <th>marriedid</th>\n",
       "      <th>maritalstatusid</th>\n",
       "      <th>genderid</th>\n",
       "      <th>empstatus_id</th>\n",
       "      <th>deptid</th>\n",
       "      <th>perf_scoreid</th>\n",
       "      <th>age</th>\n",
       "      <th>pay_rate</th>\n",
       "      <th>...</th>\n",
       "      <th>days_employed</th>\n",
       "      <th>date_of_termination</th>\n",
       "      <th>reason_for_term</th>\n",
       "      <th>employment_status</th>\n",
       "      <th>department</th>\n",
       "      <th>position</th>\n",
       "      <th>manager_name</th>\n",
       "      <th>employee_source</th>\n",
       "      <th>performance_review</th>\n",
       "      <th>performance_score</th>\n",
       "    </tr>\n",
       "  </thead>\n",
       "  <tbody>\n",
       "  </tbody>\n",
       "</table>\n",
       "<p>0 rows × 29 columns</p>\n",
       "</div>"
      ],
      "text/plain": [
       "Empty DataFrame\n",
       "Columns: [employee_name, employee_number, marriedid, maritalstatusid, genderid, empstatus_id, deptid, perf_scoreid, age, pay_rate, state, zip, dob, sex, maritaldesc, citizendesc, hispanic/latino, racedesc, date_of_hire, days_employed, date_of_termination, reason_for_term, employment_status, department, position, manager_name, employee_source, performance_review, performance_score]\n",
       "Index: []\n",
       "\n",
       "[0 rows x 29 columns]"
      ]
     },
     "execution_count": 10,
     "metadata": {},
     "output_type": "execute_result"
    }
   ],
   "source": [
    "hr_data.head(0)"
   ]
  },
  {
   "cell_type": "markdown",
   "metadata": {},
   "source": [
    "### ***Question 1: What is the sex demographic of the 20 highest paid employees at the company?***"
   ]
  },
  {
   "cell_type": "markdown",
   "metadata": {},
   "source": [
    "Let's take a look at who our ***top*** 20 earners are by using ***< .loc >*** and the column names to isolate the information we want."
   ]
  },
  {
   "cell_type": "code",
   "execution_count": 11,
   "metadata": {
    "scrolled": true
   },
   "outputs": [
    {
     "data": {
      "text/html": [
       "<div>\n",
       "<style scoped>\n",
       "    .dataframe tbody tr th:only-of-type {\n",
       "        vertical-align: middle;\n",
       "    }\n",
       "\n",
       "    .dataframe tbody tr th {\n",
       "        vertical-align: top;\n",
       "    }\n",
       "\n",
       "    .dataframe thead th {\n",
       "        text-align: right;\n",
       "    }\n",
       "</style>\n",
       "<table border=\"1\" class=\"dataframe\">\n",
       "  <thead>\n",
       "    <tr style=\"text-align: right;\">\n",
       "      <th></th>\n",
       "      <th>employee_name</th>\n",
       "      <th>position</th>\n",
       "      <th>pay_rate</th>\n",
       "      <th>sex</th>\n",
       "    </tr>\n",
       "  </thead>\n",
       "  <tbody>\n",
       "    <tr>\n",
       "      <th>10</th>\n",
       "      <td>King, Janet</td>\n",
       "      <td>President &amp; CEO</td>\n",
       "      <td>80.00</td>\n",
       "      <td>Female</td>\n",
       "    </tr>\n",
       "    <tr>\n",
       "      <th>11</th>\n",
       "      <td>Zamora, Jennifer</td>\n",
       "      <td>CIO</td>\n",
       "      <td>65.00</td>\n",
       "      <td>Female</td>\n",
       "    </tr>\n",
       "    <tr>\n",
       "      <th>25</th>\n",
       "      <td>Foss, Jason</td>\n",
       "      <td>IT Director</td>\n",
       "      <td>65.00</td>\n",
       "      <td>Male</td>\n",
       "    </tr>\n",
       "    <tr>\n",
       "      <th>29</th>\n",
       "      <td>Dougall, Eric</td>\n",
       "      <td>IT Manager - Support</td>\n",
       "      <td>64.00</td>\n",
       "      <td>Male</td>\n",
       "    </tr>\n",
       "    <tr>\n",
       "      <th>301</th>\n",
       "      <td>Champaigne, Brian</td>\n",
       "      <td>BI Director</td>\n",
       "      <td>63.50</td>\n",
       "      <td>Male</td>\n",
       "    </tr>\n",
       "    <tr>\n",
       "      <th>28</th>\n",
       "      <td>Monroe, Peter</td>\n",
       "      <td>IT Manager - Infra</td>\n",
       "      <td>63.00</td>\n",
       "      <td>Male</td>\n",
       "    </tr>\n",
       "    <tr>\n",
       "      <th>26</th>\n",
       "      <td>Roup,Simon</td>\n",
       "      <td>IT Manager - DB</td>\n",
       "      <td>62.00</td>\n",
       "      <td>Male</td>\n",
       "    </tr>\n",
       "    <tr>\n",
       "      <th>43</th>\n",
       "      <td>Ait Sidi, Karthikeyan</td>\n",
       "      <td>Sr. DBA</td>\n",
       "      <td>62.00</td>\n",
       "      <td>Male</td>\n",
       "    </tr>\n",
       "    <tr>\n",
       "      <th>44</th>\n",
       "      <td>Carr, Claudia  N</td>\n",
       "      <td>Sr. DBA</td>\n",
       "      <td>61.30</td>\n",
       "      <td>Female</td>\n",
       "    </tr>\n",
       "    <tr>\n",
       "      <th>289</th>\n",
       "      <td>Kampew, Donysha</td>\n",
       "      <td>Sales Manager</td>\n",
       "      <td>60.25</td>\n",
       "      <td>Female</td>\n",
       "    </tr>\n",
       "    <tr>\n",
       "      <th>52</th>\n",
       "      <td>Bramante, Elisa</td>\n",
       "      <td>Director of Operations</td>\n",
       "      <td>60.00</td>\n",
       "      <td>Female</td>\n",
       "    </tr>\n",
       "    <tr>\n",
       "      <th>287</th>\n",
       "      <td>Houlihan, Debra</td>\n",
       "      <td>Director of Sales</td>\n",
       "      <td>60.00</td>\n",
       "      <td>Female</td>\n",
       "    </tr>\n",
       "    <tr>\n",
       "      <th>46</th>\n",
       "      <td>Roehrich, Bianca</td>\n",
       "      <td>Sr. DBA</td>\n",
       "      <td>58.50</td>\n",
       "      <td>Female</td>\n",
       "    </tr>\n",
       "    <tr>\n",
       "      <th>45</th>\n",
       "      <td>Favis, Donald</td>\n",
       "      <td>Sr. DBA</td>\n",
       "      <td>58.20</td>\n",
       "      <td>Male</td>\n",
       "    </tr>\n",
       "    <tr>\n",
       "      <th>293</th>\n",
       "      <td>Del Bosque, Keyla</td>\n",
       "      <td>Software Engineer</td>\n",
       "      <td>57.12</td>\n",
       "      <td>Female</td>\n",
       "    </tr>\n",
       "    <tr>\n",
       "      <th>279</th>\n",
       "      <td>Onque, Jasmine</td>\n",
       "      <td>Area Sales Manager</td>\n",
       "      <td>57.00</td>\n",
       "      <td>Female</td>\n",
       "    </tr>\n",
       "    <tr>\n",
       "      <th>48</th>\n",
       "      <td>Lajiri,  Jyoti</td>\n",
       "      <td>Sr. Network Engineer</td>\n",
       "      <td>56.20</td>\n",
       "      <td>Male</td>\n",
       "    </tr>\n",
       "    <tr>\n",
       "      <th>265</th>\n",
       "      <td>Digitale, Alfred</td>\n",
       "      <td>Area Sales Manager</td>\n",
       "      <td>56.00</td>\n",
       "      <td>Male</td>\n",
       "    </tr>\n",
       "    <tr>\n",
       "      <th>272</th>\n",
       "      <td>Jeremy Prater</td>\n",
       "      <td>Area Sales Manager</td>\n",
       "      <td>56.00</td>\n",
       "      <td>Male</td>\n",
       "    </tr>\n",
       "    <tr>\n",
       "      <th>275</th>\n",
       "      <td>Martins, Joseph</td>\n",
       "      <td>Area Sales Manager</td>\n",
       "      <td>56.00</td>\n",
       "      <td>Male</td>\n",
       "    </tr>\n",
       "  </tbody>\n",
       "</table>\n",
       "</div>"
      ],
      "text/plain": [
       "                employee_name                position  pay_rate     sex\n",
       "10                King, Janet         President & CEO     80.00  Female\n",
       "11           Zamora, Jennifer                     CIO     65.00  Female\n",
       "25                Foss, Jason             IT Director     65.00    Male\n",
       "29              Dougall, Eric    IT Manager - Support     64.00    Male\n",
       "301         Champaigne, Brian             BI Director     63.50    Male\n",
       "28              Monroe, Peter      IT Manager - Infra     63.00    Male\n",
       "26                 Roup,Simon         IT Manager - DB     62.00    Male\n",
       "43   Ait Sidi, Karthikeyan                    Sr. DBA     62.00    Male\n",
       "44           Carr, Claudia  N                 Sr. DBA     61.30  Female\n",
       "289           Kampew, Donysha           Sales Manager     60.25  Female\n",
       "52            Bramante, Elisa  Director of Operations     60.00  Female\n",
       "287           Houlihan, Debra       Director of Sales     60.00  Female\n",
       "46           Roehrich, Bianca                 Sr. DBA     58.50  Female\n",
       "45            Favis, Donald                   Sr. DBA     58.20    Male\n",
       "293         Del Bosque, Keyla       Software Engineer     57.12  Female\n",
       "279            Onque, Jasmine      Area Sales Manager     57.00  Female\n",
       "48             Lajiri,  Jyoti    Sr. Network Engineer     56.20    Male\n",
       "265          Digitale, Alfred      Area Sales Manager     56.00    Male\n",
       "272             Jeremy Prater      Area Sales Manager     56.00    Male\n",
       "275           Martins, Joseph      Area Sales Manager     56.00    Male"
      ]
     },
     "execution_count": 11,
     "metadata": {},
     "output_type": "execute_result"
    }
   ],
   "source": [
    "hr_data.loc[:,['employee_name','position','pay_rate', 'sex']].nlargest(20, 'pay_rate')"
   ]
  },
  {
   "cell_type": "markdown",
   "metadata": {},
   "source": [
    "**Viola!** A summary of the information we requested, we can explore characteristics about the top 20 earners by adding columns to our search. Nevertheless, it doesn't really answer our question, directly.  A chart would really help, and because we want to know about only two parts of a whole top 20 earners by sex I chose a **pie chart**. "
   ]
  },
  {
   "cell_type": "code",
   "execution_count": 12,
   "metadata": {},
   "outputs": [
    {
     "data": {
      "image/png": "[encoded data removed]",
      "text/plain": [
       "<Figure size 432x288 with 1 Axes>"
      ]
     },
     "metadata": {},
     "output_type": "display_data"
    }
   ],
   "source": [
    "\n",
    "labels= 'female', 'male'\n",
    "sizes = [9,11]\n",
    "fig1, ax1 =plt.subplots()\n",
    "ax1.pie(sizes,labels=labels,autopct='%1.1f%%', shadow= True, startangle=90)\n",
    "ax1.axis('equal')\n",
    "plt.title('Top Earners')\n",
    "plt.show()"
   ]
  },
  {
   "cell_type": "markdown",
   "metadata": {},
   "source": [
    "There, that's ***much*** better. With just a **quick** glance we can see the sex demographic of our top 20 earners. We can conclude that at this company, at the time the data was created, there was ***no*** parity in pay between women and men. If you reference the chart above however, you will see women do hold very important leadership positions in this company."
   ]
  },
  {
   "cell_type": "markdown",
   "metadata": {},
   "source": [
    "### ***Question 2: Is there a relationship between the Pay and Age distributions at the company?***\n"
   ]
  },
  {
   "cell_type": "markdown",
   "metadata": {},
   "source": [
    "In order to answer this question I wanted to illustrate, and compare the distributions of ***pay*** and ***age***. If they were both ***normal***, there may have been some similarity to look into. In order to do this, I chose to use histograms and subplots to show the distributions side by side. Let's take a look."
   ]
  },
  {
   "cell_type": "code",
   "execution_count": 13,
   "metadata": {},
   "outputs": [
    {
     "data": {
      "image/png": "[encoded data removed]",
      "text/plain": [
       "<Figure size 720x360 with 2 Axes>"
      ]
     },
     "metadata": {
      "needs_background": "light"
     },
     "output_type": "display_data"
    }
   ],
   "source": [
    "plt.figure(figsize=(10,5))\n",
    "\n",
    "plt.subplot(1,2,1)\n",
    "plt.hist(hr_data['pay_rate'], color ='green')\n",
    "plt.ylim([0,105])\n",
    "plt.axvline(x= 31.284806, color = 'b',linestyle='solid',linewidth=2)\n",
    "plt.axvline(x= 31.284806 + 15.383615, color = 'b', linestyle='dashed',linewidth=2)\n",
    "plt.axvline(x= 31.284806 - 15.383615, color = 'b', linestyle='dashed',linewidth=2)\n",
    "plt.xlabel('Pay Scale')\n",
    "plt.ylabel('Count of Employees')\n",
    "plt.title('Pay Distribution')\n",
    "\n",
    "plt.subplot(1,2,2)\n",
    "plt.hist(hr_data['age'], color ='blue')\n",
    "plt.ylim([0,105])\n",
    "plt.axvline(x= 38.867742, color = 'r',linestyle='solid',linewidth=2)\n",
    "plt.axvline(x= 38.867742 + 8.922459, color = 'r', linestyle='dashed',linewidth=2)\n",
    "plt.axvline(x= 38.867742 - 8.922459, color = 'r', linestyle='dashed',linewidth=2)\n",
    "plt.xlabel('Age')\n",
    "plt.ylabel('Count of Employees')\n",
    "plt.title('Age Distribution')\n",
    "\n",
    "\n",
    "plt.tight_layout()\n",
    "plt.show()"
   ]
  },
  {
   "cell_type": "markdown",
   "metadata": {},
   "source": [
    "*Hmm*, the distributions definitely do not look similar. The mean and standard deviation (*std*) have been inserted into each chart. ***Age*** and ***Pay*** do not appear to be directly related, though they *may* have a shared characteristic in common.\n",
    "\n",
    "Let's check the variance and the mode of ***age*** and ***pay_rate***."
   ]
  },
  {
   "cell_type": "code",
   "execution_count": 14,
   "metadata": {},
   "outputs": [
    {
     "data": {
      "text/plain": [
       "236.65561921808126"
      ]
     },
     "execution_count": 14,
     "metadata": {},
     "output_type": "execute_result"
    }
   ],
   "source": [
    "hr_data['pay_rate'].var()"
   ]
  },
  {
   "cell_type": "code",
   "execution_count": 15,
   "metadata": {},
   "outputs": [
    {
     "data": {
      "text/plain": [
       "0    22.0\n",
       "1    55.0\n",
       "dtype: float64"
      ]
     },
     "execution_count": 15,
     "metadata": {},
     "output_type": "execute_result"
    }
   ],
   "source": [
    "hr_data['pay_rate'].mode()"
   ]
  },
  {
   "cell_type": "code",
   "execution_count": 16,
   "metadata": {},
   "outputs": [
    {
     "data": {
      "text/plain": [
       "79.61028291053346"
      ]
     },
     "execution_count": 16,
     "metadata": {},
     "output_type": "execute_result"
    }
   ],
   "source": [
    "hr_data['age'].var()"
   ]
  },
  {
   "cell_type": "code",
   "execution_count": 17,
   "metadata": {},
   "outputs": [
    {
     "data": {
      "text/plain": [
       "0    31\n",
       "dtype: int64"
      ]
     },
     "execution_count": 17,
     "metadata": {},
     "output_type": "execute_result"
    }
   ],
   "source": [
    "hr_data['age'].mode()"
   ]
  },
  {
   "cell_type": "markdown",
   "metadata": {},
   "source": [
    "We can gather an idea of the modes from the histograms, but now with the **< hr_data.mode() >** command we can get specfics. The variance seems **high** for both features, **but** the **lack** of correlation between the two features doesn't allow  us to determine too much by comparing their variances.\n",
    " \n",
    "There is an **interesting** spike in 'Pay Distribution' between $ 55 - 60 $, approximately. Let's take a look."
   ]
  },
  {
   "cell_type": "code",
   "execution_count": 18,
   "metadata": {},
   "outputs": [
    {
     "data": {
      "image/png": "[encoded data removed]",
      "text/plain": [
       "<Figure size 720x360 with 2 Axes>"
      ]
     },
     "metadata": {
      "needs_background": "light"
     },
     "output_type": "display_data"
    }
   ],
   "source": [
    "plt.figure(figsize=(10,5))\n",
    "\n",
    "plt.subplot(1,2,1)\n",
    "plt.ylim([0,20])\n",
    "plt.hist(hr_data[hr_data['pay_rate']>=56]['age'])\n",
    "plt.xlabel('Age')\n",
    "plt.ylabel('Count of Employees')\n",
    "plt.title('Pay Rate Above $56 by Age')\n",
    "\n",
    "plt.subplot(1,2,2)\n",
    "plt.boxplot(hr_data[hr_data['pay_rate']>=56]['age'])\n",
    "plt.title('Pay Rate Above $56 by Age')\n",
    "plt.ylabel('Count of Employees')\n",
    "plt.tight_layout()\n",
    "plt.show()"
   ]
  },
  {
   "cell_type": "markdown",
   "metadata": {},
   "source": [
    "Suprisingly, the pay rate 'spike' contains a fairly wide range of ages, in my opinion. I specifically chose the **boxplot** to show what the distribution of ages was like for those earning $56 or more, there is only one substantial outlier. **Overall**, it is ***less*** skewed than I thought it would be, based on the indpendent Pay rate and Age histograms."
   ]
  },
  {
   "cell_type": "markdown",
   "metadata": {},
   "source": [
    "Now that we've explored the relationship between age and pay without finding a definitive relationship, let's explore whether or not a relationship exist between ***performance_score*** and ***pay_rate***."
   ]
  },
  {
   "cell_type": "markdown",
   "metadata": {},
   "source": [
    "### ***Question 3: Do individuals with higher performance scores also have higher pay rates?***"
   ]
  },
  {
   "cell_type": "markdown",
   "metadata": {},
   "source": [
    "There are only a handful of performance scores so let's use another pie chart to evaluate the difference between pay rates grouped by performance scores."
   ]
  },
  {
   "cell_type": "code",
   "execution_count": 19,
   "metadata": {},
   "outputs": [
    {
     "data": {
      "image/png": "[encoded data removed]",
      "text/plain": [
       "<Figure size 720x360 with 1 Axes>"
      ]
     },
     "metadata": {},
     "output_type": "display_data"
    }
   ],
   "source": [
    "plt.figure(figsize=(10,5))\n",
    "hr_data.groupby('performance_score').pay_rate.count().plot(kind='pie', autopct='%1.1f%%')\n",
    "plt.title('Pay Rate by Performance Score')\n",
    "plt.show()"
   ]
  },
  {
   "cell_type": "markdown",
   "metadata": {},
   "source": [
    "The two **'high'** performance_scores, scores four and five, only combine to a total of $12.6%$ of the work force. It appears performance score and pay rate are independent.\n",
    "\n",
    "Let's try something else, let's look at the variance of ***pay_rate*** when the data is grouped by ***performance_score***."
   ]
  },
  {
   "cell_type": "code",
   "execution_count": 20,
   "metadata": {},
   "outputs": [
    {
     "data": {
      "image/png": "[encoded data removed]",
      "text/plain": [
       "<Figure size 720x360 with 1 Axes>"
      ]
     },
     "metadata": {
      "needs_background": "light"
     },
     "output_type": "display_data"
    }
   ],
   "source": [
    "plt.figure(figsize=(10,5))\n",
    "hr_data.groupby('performance_score').pay_rate.var().plot(kind = 'bar', x ='performance_score')\n",
    "plt.title('Variance of Pay by Performance Score')\n",
    "plt.ylabel('Variance')\n",
    "plt.show()"
   ]
  },
  {
   "cell_type": "markdown",
   "metadata": {},
   "source": [
    "**Well** that confirms it, performance_score has no **apparent** impact on pay. The variance within the groups are still really high."
   ]
  },
  {
   "cell_type": "markdown",
   "metadata": {},
   "source": [
    "We've explored relationships between ***pay_rate*** and ***sex***,***age***,and ***performance_score***, without finding anything too conclusive. But, before we go, let's try **one more thing**. Do you remember the Pay Distribution \n",
    "graph from before? Let's take a look at it again compared to a historgram of ***pay_rate*** grouped by ***position***?"
   ]
  },
  {
   "cell_type": "code",
   "execution_count": 21,
   "metadata": {
    "scrolled": true
   },
   "outputs": [
    {
     "data": {
      "image/png": "[encoded data removed]",
      "text/plain": [
       "<Figure size 720x360 with 2 Axes>"
      ]
     },
     "metadata": {
      "needs_background": "light"
     },
     "output_type": "display_data"
    }
   ],
   "source": [
    "plt.figure(figsize=(10,5))\n",
    "\n",
    "plt.subplot(1,2,1)\n",
    "hr_data.groupby('position').pay_rate.plot(kind = 'hist')\n",
    "plt.ylabel('Count of Positions')\n",
    "plt.title('Pay Distribution by Position')\n",
    "\n",
    "\n",
    "plt.subplot(1,2,2)\n",
    "plt.hist(hr_data['pay_rate'], color ='green')\n",
    "plt.xlabel('Pay Scale')\n",
    "plt.ylabel('Count of Employees')\n",
    "plt.title('Pay Distribution')\n",
    "\n",
    "plt.tight_layout()\n",
    "plt.show()\n",
    "\n"
   ]
  },
  {
   "cell_type": "markdown",
   "metadata": {},
   "source": [
    "Those shapes look **awfully** similar, but the histogram on the left is a little hard to read. So in addition to this graph, let's create a bar graph of the variance in pay when grouped by position."
   ]
  },
  {
   "cell_type": "code",
   "execution_count": 22,
   "metadata": {},
   "outputs": [
    {
     "data": {
      "image/png": "[encoded data removed]",
      "text/plain": [
       "<Figure size 720x360 with 1 Axes>"
      ]
     },
     "metadata": {
      "needs_background": "light"
     },
     "output_type": "display_data"
    }
   ],
   "source": [
    "plt.figure(figsize=(10,5))\n",
    "hr_data.groupby('position').pay_rate.var().plot(kind='bar')\n",
    "plt.title('Variance of Pay by Position')\n",
    "plt.ylabel('Variance')\n",
    "plt.show()"
   ]
  },
  {
   "cell_type": "markdown",
   "metadata": {},
   "source": [
    "It looks like we **might** have found something. Excluding the very large outlier, for the ***positions*** that have variance data, most of the variance disappears. Meaning within positions, **pay rate does not vary** all that much. More exploration needs to be done, there **appears** to be a relationship between the positions in the company and the pay distribution.\n"
   ]
  },
  {
   "cell_type": "markdown",
   "metadata": {},
   "source": [
    "# Research Question\n",
    "\n",
    "### Question: Is there a way to predict which employees will receive a performance review of ***exceptional***?\n",
    "\n",
    "#  Data Science Techniques\n",
    "\n",
    "#### - Clustering Analysis\n",
    "#### - Association Analysis\n",
    "#### - Regression Analysis\n",
    "#### - Naive Bayes Classifiers"
   ]
  }
 ],
 "metadata": {
  "kernelspec": {
   "display_name": "Python 3",
   "language": "python",
   "name": "python3"
  },
  "language_info": {
   "codemirror_mode": {
    "name": "ipython",
    "version": 3
   },
   "file_extension": ".py",
   "mimetype": "text/x-python",
   "name": "python",
   "nbconvert_exporter": "python",
   "pygments_lexer": "ipython3",
   "version": "3.7.3"
  }
 },
 "nbformat": 4,
 "nbformat_minor": 2
}
