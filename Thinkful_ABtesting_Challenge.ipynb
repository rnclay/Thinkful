{
 "cells": [
  {
   "cell_type": "markdown",
   "metadata": {},
   "source": [
    "## Question: Will designing a new web page increase the number of purchases per visit?\n",
    "***Disclaimer:*** The **README** for this data set **did not** describe *how* the groups were split.\n",
    "\n",
    "### Two versions:\n",
    "For the experiment the population was split into approximately two large samples. One group, **the control group** was shown   the *old* web page. The other group, **the test group** was shown the *new* web page.\n",
    "\n",
    "### The Samples:\n",
    "The sample sizes are sufficiently large and roughly equal in size. \n",
    "\n",
    "### Hypothesis: \n",
    "Customers directed to the new web page will make more purchases when compared to customers directed to the old web page.\n",
    "\n",
    "### The Null Hypothesis:\n",
    "There will be no difference in the conversion rate between customers shown the old web page versus the new web page.\n",
    "\n",
    "### Outcomes:\n",
    "The success of the experiment will be made by calculating the conversion rate between the two groups. At a ***p-vlaue of 0.05*** we will reject the **Null Hypothesis**. \n",
    "\n",
    "### Other measured variables:\n",
    "You may discover that using ***both websites at specific times*** improves business, or that ***certain products benefit from the new design and other products are better suited to the old design***. You may find that it makes sense to have more than one website altogether."
   ]
  },
  {
   "cell_type": "code",
   "execution_count": 1,
   "metadata": {},
   "outputs": [],
   "source": [
    "import pandas as pd\n",
    "import numpy as np\n",
    "from scipy import stats\n",
    "import seaborn as sns\n",
    "import matplotlib.pyplot as plt\n",
    "%matplotlib inline"
   ]
  },
  {
   "cell_type": "code",
   "execution_count": 2,
   "metadata": {},
   "outputs": [
    {
     "data": {
      "text/html": [
       "<div>\n",
       "<style scoped>\n",
       "    .dataframe tbody tr th:only-of-type {\n",
       "        vertical-align: middle;\n",
       "    }\n",
       "\n",
       "    .dataframe tbody tr th {\n",
       "        vertical-align: top;\n",
       "    }\n",
       "\n",
       "    .dataframe thead th {\n",
       "        text-align: right;\n",
       "    }\n",
       "</style>\n",
       "<table border=\"1\" class=\"dataframe\">\n",
       "  <thead>\n",
       "    <tr style=\"text-align: right;\">\n",
       "      <th></th>\n",
       "      <th>user_id</th>\n",
       "      <th>timestamp</th>\n",
       "      <th>group</th>\n",
       "      <th>landing_page</th>\n",
       "      <th>converted</th>\n",
       "    </tr>\n",
       "  </thead>\n",
       "  <tbody>\n",
       "    <tr>\n",
       "      <th>0</th>\n",
       "      <td>851104</td>\n",
       "      <td>2017-01-21 22:11:48.556739</td>\n",
       "      <td>control</td>\n",
       "      <td>old_page</td>\n",
       "      <td>0</td>\n",
       "    </tr>\n",
       "    <tr>\n",
       "      <th>1</th>\n",
       "      <td>804228</td>\n",
       "      <td>2017-01-12 08:01:45.159739</td>\n",
       "      <td>control</td>\n",
       "      <td>old_page</td>\n",
       "      <td>0</td>\n",
       "    </tr>\n",
       "    <tr>\n",
       "      <th>2</th>\n",
       "      <td>661590</td>\n",
       "      <td>2017-01-11 16:55:06.154213</td>\n",
       "      <td>treatment</td>\n",
       "      <td>new_page</td>\n",
       "      <td>0</td>\n",
       "    </tr>\n",
       "  </tbody>\n",
       "</table>\n",
       "</div>"
      ],
      "text/plain": [
       "   user_id                   timestamp      group landing_page  converted\n",
       "0   851104  2017-01-21 22:11:48.556739    control     old_page          0\n",
       "1   804228  2017-01-12 08:01:45.159739    control     old_page          0\n",
       "2   661590  2017-01-11 16:55:06.154213  treatment     new_page          0"
      ]
     },
     "execution_count": 2,
     "metadata": {},
     "output_type": "execute_result"
    }
   ],
   "source": [
    "ab = pd.read_csv('C:\\\\ab_data.csv')\n",
    "ab.head(3)"
   ]
  },
  {
   "cell_type": "code",
   "execution_count": 3,
   "metadata": {},
   "outputs": [
    {
     "data": {
      "text/plain": [
       "user_id         0\n",
       "timestamp       0\n",
       "group           0\n",
       "landing_page    0\n",
       "converted       0\n",
       "dtype: int64"
      ]
     },
     "execution_count": 3,
     "metadata": {},
     "output_type": "execute_result"
    }
   ],
   "source": [
    "ab.isna().sum()\n"
   ]
  },
  {
   "cell_type": "code",
   "execution_count": 4,
   "metadata": {},
   "outputs": [
    {
     "data": {
      "text/plain": [
       "user_id          int64\n",
       "timestamp       object\n",
       "group           object\n",
       "landing_page    object\n",
       "converted        int64\n",
       "dtype: object"
      ]
     },
     "execution_count": 4,
     "metadata": {},
     "output_type": "execute_result"
    }
   ],
   "source": [
    "ab.dtypes"
   ]
  },
  {
   "cell_type": "code",
   "execution_count": 5,
   "metadata": {},
   "outputs": [],
   "source": [
    "ab['timestamp']=pd.to_datetime(ab['timestamp'])"
   ]
  },
  {
   "cell_type": "code",
   "execution_count": 6,
   "metadata": {},
   "outputs": [
    {
     "name": "stdout",
     "output_type": "stream",
     "text": [
      "           user_id  timestamp  landing_page  converted\n",
      "group                                                 \n",
      "control     147202     147202        147202     147202\n",
      "treatment   147276     147276        147276     147276\n"
     ]
    }
   ],
   "source": [
    "print(ab.groupby('group').count().mean(level=0))\n",
    "\n",
    "      \n"
   ]
  },
  {
   "cell_type": "code",
   "execution_count": 7,
   "metadata": {},
   "outputs": [
    {
     "name": "stdout",
     "output_type": "stream",
     "text": [
      "group\n",
      "control      0.120399\n",
      "treatment    0.118920\n",
      "Name: converted, dtype: float64\n"
     ]
    }
   ],
   "source": [
    "print(ab.groupby('group')['converted'].mean())"
   ]
  },
  {
   "cell_type": "code",
   "execution_count": 8,
   "metadata": {},
   "outputs": [],
   "source": [
    "ab['group2'] = pd.Series(np.where(ab.group.values == 'control',0,1), ab.index)\n"
   ]
  },
  {
   "cell_type": "code",
   "execution_count": 9,
   "metadata": {},
   "outputs": [],
   "source": [
    "ab['date'] = ab['timestamp'].dt.date"
   ]
  },
  {
   "cell_type": "code",
   "execution_count": 10,
   "metadata": {},
   "outputs": [
    {
     "name": "stdout",
     "output_type": "stream",
     "text": [
      "Experiment Duration: 22 days, 0:00:00\n"
     ]
    }
   ],
   "source": [
    "print('Experiment Duration:', ab['date'].max() - ab['date'].min())"
   ]
  },
  {
   "cell_type": "code",
   "execution_count": 11,
   "metadata": {},
   "outputs": [
    {
     "data": {
      "text/html": [
       "<div>\n",
       "<style scoped>\n",
       "    .dataframe tbody tr th:only-of-type {\n",
       "        vertical-align: middle;\n",
       "    }\n",
       "\n",
       "    .dataframe tbody tr th {\n",
       "        vertical-align: top;\n",
       "    }\n",
       "\n",
       "    .dataframe thead th {\n",
       "        text-align: right;\n",
       "    }\n",
       "</style>\n",
       "<table border=\"1\" class=\"dataframe\">\n",
       "  <thead>\n",
       "    <tr style=\"text-align: right;\">\n",
       "      <th></th>\n",
       "      <th>user_id</th>\n",
       "      <th>timestamp</th>\n",
       "      <th>group</th>\n",
       "      <th>landing_page</th>\n",
       "      <th>converted</th>\n",
       "      <th>group2</th>\n",
       "      <th>date</th>\n",
       "    </tr>\n",
       "  </thead>\n",
       "  <tbody>\n",
       "    <tr>\n",
       "      <th>0</th>\n",
       "      <td>851104</td>\n",
       "      <td>2017-01-21 22:11:48.556739</td>\n",
       "      <td>control</td>\n",
       "      <td>old_page</td>\n",
       "      <td>0</td>\n",
       "      <td>0</td>\n",
       "      <td>2017-01-21</td>\n",
       "    </tr>\n",
       "    <tr>\n",
       "      <th>1</th>\n",
       "      <td>804228</td>\n",
       "      <td>2017-01-12 08:01:45.159739</td>\n",
       "      <td>control</td>\n",
       "      <td>old_page</td>\n",
       "      <td>0</td>\n",
       "      <td>0</td>\n",
       "      <td>2017-01-12</td>\n",
       "    </tr>\n",
       "    <tr>\n",
       "      <th>2</th>\n",
       "      <td>661590</td>\n",
       "      <td>2017-01-11 16:55:06.154213</td>\n",
       "      <td>treatment</td>\n",
       "      <td>new_page</td>\n",
       "      <td>0</td>\n",
       "      <td>1</td>\n",
       "      <td>2017-01-11</td>\n",
       "    </tr>\n",
       "  </tbody>\n",
       "</table>\n",
       "</div>"
      ],
      "text/plain": [
       "   user_id                  timestamp      group landing_page  converted  \\\n",
       "0   851104 2017-01-21 22:11:48.556739    control     old_page          0   \n",
       "1   804228 2017-01-12 08:01:45.159739    control     old_page          0   \n",
       "2   661590 2017-01-11 16:55:06.154213  treatment     new_page          0   \n",
       "\n",
       "   group2        date  \n",
       "0       0  2017-01-21  \n",
       "1       0  2017-01-12  \n",
       "2       1  2017-01-11  "
      ]
     },
     "execution_count": 11,
     "metadata": {},
     "output_type": "execute_result"
    }
   ],
   "source": [
    "ab.head(3)"
   ]
  },
  {
   "cell_type": "code",
   "execution_count": 12,
   "metadata": {},
   "outputs": [
    {
     "data": {
      "text/plain": [
       "Ttest_indResult(statistic=-1.2369207675839597, pvalue=0.2161174856249009)"
      ]
     },
     "execution_count": 12,
     "metadata": {},
     "output_type": "execute_result"
    }
   ],
   "source": [
    "stats.ttest_ind(ab[ab.converted == 1].group2,\n",
    "               ab[ab.converted == 0].group2)"
   ]
  },
  {
   "cell_type": "code",
   "execution_count": 13,
   "metadata": {},
   "outputs": [
    {
     "data": {
      "image/png": "[encoded data removed]",
      "text/plain": [
       "<Figure size 432x288 with 1 Axes>"
      ]
     },
     "metadata": {
      "needs_background": "light"
     },
     "output_type": "display_data"
    }
   ],
   "source": [
    "fig = ab[ab.converted==1][['date', 'group2']].groupby('date').mean().plot()\n",
    "ab[ab.converted==0][['date','group2']].groupby('date').mean().plot(ax=fig)\n",
    "plt.legend(['test','control'])\n",
    "plt.title('Comparing Conversion Rate by Landing_Page')\n",
    "plt.show()"
   ]
  },
  {
   "cell_type": "markdown",
   "metadata": {},
   "source": [
    "## The Results\n",
    "According to the results of this experiment, we would ***reject*** the **Null Hypothesis** because our ttest shows a p-value of ***0.2161174856249009*** which is too high for us to conclude any difference between the test and control group **was not due to chance**."
   ]
  },
  {
   "cell_type": "markdown",
   "metadata": {},
   "source": [
    "## Evaluation and Takeaways \n",
    "There are a lot of details we don't know about how this experiment was conducted the first time. Was there one large group that was split in half, completely randomly? What types of considerations were given to the timing of the experiment, the time of year, specifically? The experiment was only run for 22 days, is that long enough to identify whether or not the new web page would have a positive, significant impact?\n",
    "\n",
    "Judging by the line chart above, it appears the new web page drastically increased conversion volatility. Depending on the day, visitors were either more or less likely to convert when visiting the new web page. The new web page is having ***some kind of impact*** but we can't tell what it is. This could mean there is a variable, or a few variables, that are unaccounted for in the experiment design.\n",
    "\n",
    "We need to re-deploy the experiment in a way that reduces the number of unaccounted variables that could influence the experiment.So that we can better gauge if the new web page is consistently increasing customer conversion rates."
   ]
  },
  {
   "cell_type": "markdown",
   "metadata": {},
   "source": [
    "## Experiment Redisgn\n",
    "\n",
    "### Two Versions:\n",
    "The control version is the old web page. The test version is the new web page design.\n",
    "### Sample:\n",
    "***Before*** splitting your customer population into samples get a **three month baseline of customer behavior** identify and tag the customers based on conversion rate.From the baseline establish a number that separates high converters from low converters, then tag every customer observed in that three month period with a label of either high, or low. ***Now***, randomly redirect half of your websites visitors to the new web page, but make sure the groups are **evenly** mixed between high and low converters.\n",
    "\n",
    "Be sure to be mindful of possible differences in customer shopping behavior based on the time of day they visit your web page and the locations they reside. Time of year, and regional differences could impact how certain customers interact with your web pages.\n",
    "\n",
    "### Hypothesis: \n",
    "Customers directed to the new web page will make more purchases when compared to customers directed to the old web page.\n",
    "\n",
    "### The Null Hypothesis:\n",
    "There will be no difference in the conversion rate between customers shown the old web page versus the new web page.\n",
    "\n",
    "### Outcomes:\n",
    "The success of the experiment will be made by calculating the conversion rate between the two groups. At a ***p-vlaue of 0.05*** we will reject the **Null Hypothesis**. \n",
    "\n",
    "### Other measured variables:\n",
    "You may discover that using ***both websites at specific times*** improves business, or that ***certain products benefit from the new design and other products are better suited to the old design***. You may find that it makes sense to have more than one web page altogether."
   ]
  },
  {
   "cell_type": "code",
   "execution_count": null,
   "metadata": {},
   "outputs": [],
   "source": []
  }
 ],
 "metadata": {
  "kernelspec": {
   "display_name": "Python 3",
   "language": "python",
   "name": "python3"
  },
  "language_info": {
   "codemirror_mode": {
    "name": "ipython",
    "version": 3
   },
   "file_extension": ".py",
   "mimetype": "text/x-python",
   "name": "python",
   "nbconvert_exporter": "python",
   "pygments_lexer": "ipython3",
   "version": "3.7.3"
  }
 },
 "nbformat": 4,
 "nbformat_minor": 2
}
