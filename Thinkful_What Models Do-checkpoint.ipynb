{
 "cells": [
  {
   "cell_type": "markdown",
   "metadata": {},
   "source": [
    "**Question 1:** Try to model the result of a coin toss. In your model, include any features that you think important in explaining the result.\n",
    "\n",
    "***Coin Toss***\n",
    "\n",
    "**Features**\n",
    "\n",
    "**1.)** Fair Coin. Two sides, S1 and S2.\n",
    "**2.)** The coin toss takes place on Earth, or in a place with identical atmospheric composition as Earth.\n",
    "**3.)** The toss: the coin is tossed in a manner that it flips end over end.\n",
    "\n",
    "**Mathematical Representation** \n",
    "\n",
    "1 Coin has 2 sides, therefore if the above features are present Probability of S1 and S2 = 50%\n"
   ]
  },
  {
   "cell_type": "markdown",
   "metadata": {},
   "source": [
    "**Question 2:** If you ever used Netflix, you should already have realized that it provides some recommendations for you to watch. In data science, this is an example of the so-called recommendations systems. Read this nontechnical blog post of Netflix about how they model their recommendations systems. Then, derive the features they use in their recommendations engines and discuss what else can be incorporated into this model.\n",
    "\n",
    "***Netflix Model Description***\n",
    "\n",
    "**Netflix includesthese features in their model:** \n",
    "-viewing history\n",
    "-other members viewing history, if similar\n",
    "-information about titles: genre, categories, actors, release year\n",
    "-time of day Netflix is watched\n",
    "-the device Netflix is watched on\n",
    "-how long you watch Netflix \n",
    "\n",
    "**What feature they could include:** \n",
    "-Netflix could directly compare the profiles on a single account to identify shows with the highest potential for \"group viewing\", and display those shows on the profiles on the shared account.\n",
    "-Netflix could also 'test' the viewers 'exploration tolerance' by adding a row to the viewers profile with shows that have a statistically significant difference from what the user prefers. From left to right the differences between the viewers viewing profile and the suggested shows would **decrease** as you move right (-- unless you have selected Arabic or Hebrew as your language in our systems, in which case these will go right to left). ;) \n"
   ]
  }
 ],
 "metadata": {
  "kernelspec": {
   "display_name": "Python 3",
   "language": "python",
   "name": "python3"
  },
  "language_info": {
   "codemirror_mode": {
    "name": "ipython",
    "version": 3
   },
   "file_extension": ".py",
   "mimetype": "text/x-python",
   "name": "python",
   "nbconvert_exporter": "python",
   "pygments_lexer": "ipython3",
   "version": "3.7.3"
  }
 },
 "nbformat": 4,
 "nbformat_minor": 2
}
