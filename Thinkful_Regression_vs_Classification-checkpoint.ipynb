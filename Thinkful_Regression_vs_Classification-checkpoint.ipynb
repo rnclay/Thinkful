{
 "cells": [
  {
   "cell_type": "markdown",
   "metadata": {},
   "source": [
    "### Assignment\n",
    "\n",
    "**For each of the following situations, decide if you would model using a regression or classification model. Discuss your reasoning with your mentor next time you meet.**"
   ]
  },
  {
   "cell_type": "markdown",
   "metadata": {},
   "source": [
    "**Question 1: The amount a person will spend on a given site in the next 24 months.**\n",
    "\n",
    "For this situation, I think I would use a ***regression*** model. I interpret **'time spent on a given site'** as a *continuous ratio variable*. I believe regression in this case gives you the **least biased** predictions.\n",
    "\n",
    "It is possible to do this with a *classification* model, but then you would have to define, label, and group different time buckets. For example, this could be something like: *'a lot of time'*, *'a normal amount of time'*, or *'a little amount of time'*. I think there is bias introduced by defining and creating these labels.\n",
    "\n"
   ]
  },
  {
   "cell_type": "markdown",
   "metadata": {},
   "source": [
    "**Question 2: What color car is someone going to buy.**\n",
    "\n",
    "For this situation, I think I would use a ***classification*** model. The color of a car is *nominal and discrete* even if there are a lot of colors. You just need to be sure to have all of the colors you want to predict on accounted for in your test set."
   ]
  },
  {
   "cell_type": "markdown",
   "metadata": {},
   "source": [
    "**Question 3: How many children a family will have.**\n",
    "\n",
    "For this situation, I think I would use a ***regression*** model. I interpret **'the number of children'** as a *continuous ratio variable*. \n",
    "\n",
    "In this instance, it might be more appropriate to use a *classification* model if you wanted to predict if a family would have **{0,1,2,3,4,5} children**. If the question was asked that way the variables would then be *discrete and nominal*, unless you were ranking the variables, then they would be become *discrete and ordinal*."
   ]
  },
  {
   "cell_type": "markdown",
   "metadata": {},
   "source": [
    "**Question 4: If someone will sign up for a service.**\n",
    "\n",
    "For this situation, I think I would use a ***classification*** model. Whether or not someone signs up for a service is *discrete and nominal*. "
   ]
  },
  {
   "cell_type": "markdown",
   "metadata": {},
   "source": [
    "**Question 5: The number of times someone will get sick in a year.**\n",
    "\n",
    "For this situation, I think I would use a ***regression*** model. I interpret the **'the number of times someone will get sick'** as continuous.  "
   ]
  },
  {
   "cell_type": "markdown",
   "metadata": {},
   "source": [
    "**Question 6: The probability someone will get sick in the next month.**\n",
    "\n",
    "For this situation, I think I would use a ***classifcation*** model. This situation is asking a *discrete* question. Will someone get sick in the next month **{yes,no}**."
   ]
  },
  {
   "cell_type": "markdown",
   "metadata": {},
   "source": [
    "**Question 7: Which medicine will work best for a given patient.**\n",
    "\n",
    "For this situation, I think I would use a ***regression*** model. In order to determine which medicine works best you have to evaluate a continous range of conditions. If there was a *discrete* definition for **best**, then it could be appropriate to use a *classification* model."
   ]
  }
 ],
 "metadata": {
  "kernelspec": {
   "display_name": "Python 3",
   "language": "python",
   "name": "python3"
  },
  "language_info": {
   "codemirror_mode": {
    "name": "ipython",
    "version": 3
   },
   "file_extension": ".py",
   "mimetype": "text/x-python",
   "name": "python",
   "nbconvert_exporter": "python",
   "pygments_lexer": "ipython3",
   "version": "3.7.3"
  }
 },
 "nbformat": 4,
 "nbformat_minor": 2
}
