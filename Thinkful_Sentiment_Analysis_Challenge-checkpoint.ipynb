{
 "cells": [
  {
   "cell_type": "code",
   "execution_count": 1,
   "metadata": {},
   "outputs": [],
   "source": [
    "import numpy as np\n",
    "import pandas as pd\n",
    "import scipy\n",
    "import sklearn\n",
    "import matplotlib.pyplot as plt\n",
    "import seaborn as sns\n",
    "import re\n",
    "from sklearn.naive_bayes import BernoulliNB\n",
    "%matplotlib inline"
   ]
  },
  {
   "cell_type": "code",
   "execution_count": 2,
   "metadata": {},
   "outputs": [],
   "source": [
    "data_path = (\"C:\\\\yelp_labelled.txt\")"
   ]
  },
  {
   "cell_type": "code",
   "execution_count": 3,
   "metadata": {},
   "outputs": [],
   "source": [
    "yelp_df = pd.read_csv(data_path, delimiter= '\\t', header=None)\n",
    "yelp_df.columns = ['message', 'score']"
   ]
  },
  {
   "cell_type": "code",
   "execution_count": 4,
   "metadata": {},
   "outputs": [
    {
     "data": {
      "text/html": [
       "<div>\n",
       "<style scoped>\n",
       "    .dataframe tbody tr th:only-of-type {\n",
       "        vertical-align: middle;\n",
       "    }\n",
       "\n",
       "    .dataframe tbody tr th {\n",
       "        vertical-align: top;\n",
       "    }\n",
       "\n",
       "    .dataframe thead th {\n",
       "        text-align: right;\n",
       "    }\n",
       "</style>\n",
       "<table border=\"1\" class=\"dataframe\">\n",
       "  <thead>\n",
       "    <tr style=\"text-align: right;\">\n",
       "      <th></th>\n",
       "      <th>message</th>\n",
       "      <th>score</th>\n",
       "    </tr>\n",
       "  </thead>\n",
       "  <tbody>\n",
       "    <tr>\n",
       "      <th>0</th>\n",
       "      <td>Wow... Loved this place.</td>\n",
       "      <td>1</td>\n",
       "    </tr>\n",
       "    <tr>\n",
       "      <th>1</th>\n",
       "      <td>Crust is not good.</td>\n",
       "      <td>0</td>\n",
       "    </tr>\n",
       "    <tr>\n",
       "      <th>2</th>\n",
       "      <td>Not tasty and the texture was just nasty.</td>\n",
       "      <td>0</td>\n",
       "    </tr>\n",
       "    <tr>\n",
       "      <th>3</th>\n",
       "      <td>Stopped by during the late May bank holiday of...</td>\n",
       "      <td>1</td>\n",
       "    </tr>\n",
       "    <tr>\n",
       "      <th>4</th>\n",
       "      <td>The selection on the menu was great and so wer...</td>\n",
       "      <td>1</td>\n",
       "    </tr>\n",
       "  </tbody>\n",
       "</table>\n",
       "</div>"
      ],
      "text/plain": [
       "                                             message  score\n",
       "0                           Wow... Loved this place.      1\n",
       "1                                 Crust is not good.      0\n",
       "2          Not tasty and the texture was just nasty.      0\n",
       "3  Stopped by during the late May bank holiday of...      1\n",
       "4  The selection on the menu was great and so wer...      1"
      ]
     },
     "execution_count": 4,
     "metadata": {},
     "output_type": "execute_result"
    }
   ],
   "source": [
    "yelp_df.head()"
   ]
  },
  {
   "cell_type": "code",
   "execution_count": 5,
   "metadata": {},
   "outputs": [],
   "source": [
    "yelp_df['message'] =yelp_df['message'].str.strip()\n"
   ]
  },
  {
   "cell_type": "markdown",
   "metadata": {},
   "source": [
    "Before we start, let's get an idea of the distribution of positive and negative reviews in our data set."
   ]
  },
  {
   "cell_type": "code",
   "execution_count": 6,
   "metadata": {},
   "outputs": [
    {
     "data": {
      "text/plain": [
       "score\n",
       "0    500\n",
       "1    500\n",
       "Name: message, dtype: int64"
      ]
     },
     "execution_count": 6,
     "metadata": {},
     "output_type": "execute_result"
    }
   ],
   "source": [
    "yelp_df.groupby(\"score\")[\"message\"].count()"
   ]
  },
  {
   "cell_type": "code",
   "execution_count": 7,
   "metadata": {},
   "outputs": [],
   "source": [
    "words=' '.join(set(yelp_df['message']))"
   ]
  },
  {
   "cell_type": "code",
   "execution_count": 8,
   "metadata": {},
   "outputs": [],
   "source": [
    "unique_words=set(words.split())"
   ]
  },
  {
   "cell_type": "code",
   "execution_count": 9,
   "metadata": {},
   "outputs": [],
   "source": [
    "impact_words=str(unique_words)"
   ]
  },
  {
   "cell_type": "code",
   "execution_count": 10,
   "metadata": {},
   "outputs": [],
   "source": [
    "cleaner=r'\\w{4,15}\\w'"
   ]
  },
  {
   "cell_type": "code",
   "execution_count": 11,
   "metadata": {},
   "outputs": [],
   "source": [
    "just_words=set(re.findall(cleaner,impact_words))"
   ]
  },
  {
   "cell_type": "markdown",
   "metadata": {},
   "source": [
    "Let's just take a glance at the words in our data set, a ***quick*** look might give us some good ideas."
   ]
  },
  {
   "cell_type": "code",
   "execution_count": 12,
   "metadata": {},
   "outputs": [
    {
     "name": "stdout",
     "output_type": "stream",
     "text": [
      "{'prime', 'wines', 'appalling', 'version', 'multi', 'pumpkin', 'focused', 'reminded', 'weekly', 'recently', 'Casino', 'attached', 'outside', 'sunglasses', 'dealing', 'works', 'dripping', 'Eggplant', 'tribute', 'blame', 'Bouchon', 'server', 'incredibly', 'poisoning', 'needed', 'burned', 'generous', 'gotten', 'However', 'entire', 'different', 'shall', 'Owner', 'capers', 'There', 'crowd', 'anyone', 'theft', 'Restaurant', 'course', 'tried', 'drenched', 'solid', 'wound', 'Lordy', 'fruit', 'common', 'lacked', 'beauty', 'Plater', 'shopping', 'complain', 'restaurants', 'asking', 'black', 'sound', 'seems', 'Madison', 'nasty', 'BETTER', 'disgusting', 'remember', 'downtown', 'winner', 'sugar', 'LEGIT', 'noodles', 'placed', 'begin', 'pricey', 'holiday', 'playing', 'vinaigrette', 'Greek', 'complete', 'recall', 'large', 'special', 'diverse', 'afternoon', 'final', 'coziness', 'arrived', 'return', 'extraordinary', 'Smashburger', 'fresh', 'hated', 'Steiners', 'thirty', 'almonds', 'gluten', 'human', 'APPETIZERS', 'anytime', 'owner', 'treat', 'again', 'wants', 'expert', 'shawarrrrrrma', 'LOVED', 'minutes', 'angry', 'atmosphere', 'would', 'Caesar', 'Heart', 'further', 'awkwardly', 'money', 'bagels', 'accommodations', 'warnings', 'problem', 'simple', 'green', 'still', 'Classy', 'Probably', 'Japanese', 'delivery', 'chewy', 'blown', 'opened', 'spinach', 'Tucson', 'enjoy', 'steaks', 'hottest', 'subpar', 'Denny', 'Horrible', 'FANTASTIC', 'ground', 'touched', 'regular', 'since', 'something', 'customize', 'carbs', 'usual', 'First', 'Ganoush', 'known', 'beers', 'talking', 'price', 'ahead', 'delightful', 'worker', 'ourselves', 'Phoenix', 'thrilled', 'location', 'Vegetarian', 'restaraunt', 'certainly', 'Crema', 'especially', 'Crostini', 'BITCHES', 'limited', 'Awful', 'nicest', 'choux', 'olives', 'Gordon', 'waste', 'front', 'Ramsey', 'reason', 'healthy', 'obviously', 'dedicated', 'Check', 'party', 'Perfect', 'interesting', 'likes', 'uninspired', 'excellent', 'bacon', 'SHOULD', 'setting', 'burger', 'Crystals', 'unique', 'great', 'nothing', 'Buldogis', 'Server', 'BLAND', 'Cotta', 'immediately', 'melted', 'lover', 'drawing', 'hello', 'chips', 'walked', 'ignore', 'round', 'Filet', 'being', 'break', 'tummy', 'fireball', 'employees', 'WORST', 'wagyu', 'disappointment', 'single', 'yukon', 'sause', 'screwed', 'concept', 'Maine', 'forth', 'today', 'found', 'concern', 'quaint', 'slices', 'grease', 'honest', 'pictures', 'Their', 'wontons', 'handmade', 'reasonably', 'manager', 'Waiter', 'think', 'proclaimed', 'mediocre', 'workers', 'presentation', 'dropped', 'eating', 'disagree', 'Everyone', 'short', 'cream', 'meats', 'husband', 'deserves', 'Everything', 'below', 'Mellow', 'buffets', 'hurry', 'offers', 'dates', 'business', 'Buffet', 'hereas', 'veggie', 'later', 'potatoes', 'station', 'provided', 'ranch', 'never', 'little', 'martini', 'mention', 'pears', 'FORWARD', 'satifying', 'believe', 'Francisco', 'refill', 'doubt', 'delish', 'Terrible', 'marrow', 'carpaccio', 'Pizza', 'event', 'impressive', 'HAPPENED', 'describing', 'favor', 'chipolte', 'happier', 'across', 'Frozen', 'better', 'taste', 'spicier', 'selection', 'inexpensive', 'signs', 'under', 'attentive', 'Mediterranean', 'tough', 'larger', 'callings', 'possible', 'Kabuki', 'calamari', 'genuinely', 'filling', 'exceeding', 'apart', 'lighter', 'although', 'piano', 'another', 'vegetarian', 'chefs', 'mouths', 'saganaki', 'Hands', 'assure', 'greeted', 'Macarons', 'desserts', 'nigiri', 'calligraphy', 'haunt', 'unbelievable', 'reduction', 'Drinks', 'definitely', 'daily', 'lukewarm', 'clean', 'reasonable', 'power', 'oysters', 'scallop', 'things', 'Worst', 'venture', 'bland', 'kitchen', 'medium', 'affordable', 'ravoli', 'rings', 'might', 'establishment', 'Point', 'seating', 'visited', 'hilarious', 'publicly', 'leftover', 'added', 'Ample', 'combo', 'ensued', 'Stars', 'hours', 'owned', 'behind', 'Reasonably', 'empty', 'people', 'douchey', 'worries', 'groups', 'color', 'accomodate', 'third', 'dinner', 'enjoyed', 'Weird', 'hamburger', 'claimed', 'thanks', 'enough', 'entrees', 'platter', 'second', 'insulted', 'decided', 'GREAT', 'provides', 'Bachi', 'blandest', 'cakes', 'places', 'sandwich', 'caterpillar', 'hoping', 'Mushroom', 'consider', 'imagine', 'everywhere', 'consistent', 'tiramisu', 'Please', 'before', 'suggestions', 'sergeant', 'smaller', 'southwest', 'because', 'sides', 'staff', 'puréed', 'looked', 'heart', 'managed', 'greens', 'honestly', 'WASTE', 'lightly', 'stretch', 'eggplant', 'court', 'waitresses', 'refused', 'Delight', 'Lastly', 'others', 'Baseball', 'years', 'tenders', 'sangria', 'boxes', 'bring', 'deliciously', 'connisseur', 'chicken', 'powdered', 'pleasant', 'mussels', 'Salads', 'moist', 'Coming', 'neither', 'yummy', 'considering', 'profound', 'pasta', 'dipping', 'awful', 'disappointing', 'Indian', 'Mediocre', 'Cartel', 'binge', 'Edinburgh', 'spring', 'Things', 'bamboo', 'bought', 'bloddy', 'tastings', 'checked', 'flavored', 'avoid', 'whelm', 'refried', 'ridiculous', 'friends', 'degree', 'specials', 'Interesting', 'anything', 'EXPERIENCE', 'realized', 'supposed', 'having', 'walls', 'struck', 'BARGAIN', 'killer', 'cheated', 'yellowtail', 'attack', 'Total', 'coming', 'several', 'quantity', 'bites', 'reviewer', 'fiancé', 'making', 'Jamaican', 'North', 'cheap', 'cheese', 'perfection', 'potato', 'greasy', 'violinists', 'recommended', 'tartare', 'Paradise', 'average', 'upgrading', 'salty', 'multiple', 'bloodiest', 'rarely', 'hankering', 'onion', 'flavors', 'actual', 'ventilation', 'night', 'ethic', 'qualified', 'reviews', 'group', 'caring', 'redeeming', 'apology', 'maintaining', 'delight', 'Carly', 'avoided', 'revisiting', 'Thoroughly', 'Scottsdale', 'Italian', 'relationship', 'listed', 'toasted', 'loved', 'Standard', 'instead', 'bodes', 'vodka', 'Generous', 'appetizer', 'Delicious', 'outrageously', 'TOTAL', 'edible', 'doing', 'decor', 'businesses', 'butter', 'seemed', 'gross', 'unbelievably', 'Honestly', 'enthusiastic', 'familiar', 'impressed', 'crazy', 'light', 'shirt', 'drink', 'college', 'reservation', 'companions', 'lined', 'venue', 'trying', 'pneumatic', 'street', 'decision', 'friend', 'rushed', 'saving', 'properly', 'company', 'chains', 'cheek', 'overpriced', 'dispenser', 'almost', 'arrives', 'while', 'venturing', 'cramming', 'baklava', 'giving', 'Definitely', 'plethora', 'yourself', 'gloves', 'music', 'combos', 'Special', 'Every', 'reading', 'opinion', 'Unfortunately', 'bellies', 'Hopefully', 'appealing', 'relocated', 'prepare', 'helpful', 'maybe', 'right', 'professional', 'juries', 'outshining', 'wonderful', 'colder', 'leave', 'frustrated', 'between', 'condiment', 'flavorless', 'grilled', 'lunch', 'huevos', 'allergy', 'Great', 'gratitude', 'pucks', 'shocked', 'styrofoam', 'classic', 'biscuits', 'fuzzy', 'tater', 'working', 'class', 'Tasted', 'shrimp', 'madhouse', 'Third', 'expectations', 'portions', 'tasty', 'Before', 'texture', 'perpared', 'three', 'transcendant', 'neighborhood', 'cocktails', 'pizza', 'Omelets', 'happy', 'indicate', 'recommendation', 'occasions', 'offered', 'located', 'brother', 'servers', 'vanilla', 'relaxed', 'experienced', 'sandwiches', 'until', 'prepared', 'hardly', 'fails', 'finally', 'seasoning', 'satisfied', 'letdown', 'barely', 'couldn', 'Firehouse', 'brought', 'crumby', 'handling', 'surprise', 'muffin', 'pancake', 'courteous', 'guacamole', 'grossed', 'After', 'Ironman', 'summer', 'loyal', 'helped', 'circumstances', 'unexperienced', 'personable', 'wayyy', 'showed', 'Ambience', 'patio', 'Hawaiian', 'PERFECT', 'disgraceful', 'during', 'judging', 'reheated', 'cuisine', 'downright', 'NASTY', 'Panna', 'judge', 'Chicken', 'horrible', 'inflate', 'plantains', 'waiting', 'rating', 'dressing', 'hella', 'authentic', 'passed', 'decent', 'beautifully', 'Valley', 'lighting', 'apple', 'Friend', 'packed', 'curry', 'latte', 'every', 'contained', 'tepid', 'beateous', 'CONCLUSION', 'teamwork', 'nearly', 'unfortunately', 'saffron', 'bigger', 'takeout', 'Costco', 'Ninja', 'count', 'crowds', 'register', 'salsa', 'grocery', 'Yelpers', 'negligent', 'starving', 'Stopped', 'buying', 'blows', 'chocolate', 'indoor', 'seated', 'batter', 'charge', 'peanuts', 'themselves', 'jewel', 'golden', 'legit', 'tailored', 'mortified', 'mozzarella', 'exactly', 'Hunan', 'world', 'stayed', 'Which', 'Brushfire', 'close', 'imagination', 'highlight', 'Attack', 'correction', 'accordingly', 'suggest', 'ambience', 'Heimer', 'Salad', 'dough', 'Camelback', 'selections', 'overhaul', 'Jenni', 'margaritas', 'wasting', 'bruschetta', 'please', 'biggest', 'leaves', 'boring', 'caught', 'sitting', 'hardest', 'point', 'lawyers', 'sharply', 'summary', 'email', 'section', 'HANDS', 'somethat', 'Crust', 'where', 'whole', 'beyond', 'uploaded', 'person', 'Place', 'Disappointed', 'sauces', 'eaten', 'figured', 'atrocious', 'jalapeno', 'papers', 'tomato', 'hopes', 'strange', 'options', 'watched', 'voted', 'polite', 'burgers', 'dollars', 'Albondigas', 'doughy', 'ignored', 'cooking', 'means', 'INCONSIDERATE', 'OVERPRICED', 'experience', 'containers', 'thumbs', 'recommend', 'Bland', 'pissd', 'bunch', 'thinly', 'stood', 'seasonal', 'Overpriced', 'foods', 'overall', 'funny', 'Appetite', 'falafels', 'accident', 'vinegrette', 'brunch', 'Tried', 'daughter', 'expanded', 'fella', 'sauce', 'editing', 'quickly', 'worst', 'Disappointing', 'surprised', 'Soggy', 'gyros', 'older', 'tables', 'flirting', 'shots', 'Fridays', 'OWNERS', 'terrific', 'wrong', 'rinse', 'other', 'roast', 'UNREAL', 'fluffy', 'original', 'prefer', 'breakfast', 'mains', 'warmer', 'thing', 'verge', 'crêpe', 'awesome', 'hungry', 'profiterole', 'bartender', 'bread', 'attitudes', 'Anyways', 'insanely', 'absolutely', 'their', 'corporation', 'staying', 'rancheros', 'chickens', 'preparing', 'Anyway', 'Voodoo', 'someone', 'Magazine', 'least', 'recommending', 'rolls', 'spends', 'wouldn', 'really', 'ordering', 'overcooked', 'turkey', 'Excalibur', 'peanut', 'favorite', 'dessert', 'milkshake', 'serivce', 'amazing', 'waitress', 'Steak', 'quick', 'lacking', 'attention', 'Subway', 'review', 'fancy', 'fabulous', 'returned', 'crepe', 'vacant', 'performed', 'rapidly', 'Although', 'girlfriend', 'Bunch', 'Maybe', 'effort', 'undercooked', 'getting', 'pancakes', 'wanted', 'served', 'movies', 'dining', 'store', 'airport', 'Mexican', 'ordered', 'totally', 'boiled', 'website', 'velvet', 'excuse', 'delicate', 'Veggitarian', 'metro', 'andddd', 'seafood', 'Coffee', 'brings', 'fellow', 'witnessed', 'boyfriend', 'towards', 'saying', 'always', 'wasted', 'Company', 'cranberry', 'yucky', 'Mandalay', 'Experience', 'returning', 'connoisseur', 'bucks', 'those', 'disgusted', 'drinking', 'Similarly', 'dirty', 'Overall', 'relax', 'weren', 'watch', 'pastry', 'Customer', 'cocktail', 'brownish', 'soundtrack', 'Never', 'cheesecurds', 'trips', 'avocado', 'grain', 'finish', 'grill', 'sever', 'underwhelming', 'climbing', 'drastically', 'place', 'enjoyable', 'Lemon', 'driving', 'Those', 'somewhat', 'putting', 'charcoal', 'Philadelphia', 'Waited', 'approval', 'lettuce', 'cavier', 'unless', 'bakery', 'Penne', 'dried', 'covered', 'shouldn', 'puree', 'Wienerschnitzel', 'months', 'waiter', 'rotating', '40min', 'proven', 'itself', 'creamy', 'Really', 'WAAAAAAyyyyyyyyy', 'smoothies', 'haven', 'Tigerlilly', 'cannoli', 'Bacon', 'sample', 'bathrooms', 'Gyros', 'Extremely', 'Nargile', 'sporting', 'beautiful', 'Phenomenal', 'mojitos', 'weekend', 'covers', 'restaurant', 'Despite', 'disappointed', 'Mango', 'tracked', 'freaking', 'regularly', 'Halibut', 'personally', 'vegan', 'Needless', 'descriptions', 'mixed', 'nutshell', 'reasons', 'exquisite', 'officially', 'strawberry', 'writing', 'probably', 'worth', 'Honeslty', 'inspired', 'market', 'bother', 'spaghetti', 'flair', 'instantly', 'homemade', 'giant', 'handled', 'dusted', 'Breeze', 'feels', 'Tonight', 'petrified', 'garden', 'military', 'expensive', 'drinks', 'watered', 'pricing', 'menus', 'completely', 'definately', 'ingredients', 'Burger', 'unsatisfying', 'words', 'seasoned', 'mesquite', 'quite', 'continue', 'changing', 'memory', 'loudly', 'plastic', 'PEOPLE', 'Mirage', 'needs', 'Wonderful', 'Would', 'disbelief', 'Always', 'everything', 'number', 'accountant', 'poorly', 'annoying', 'Strip', 'mouth', 'super', 'nachos', 'stepped', 'alone', 'besides', 'fairly', 'fillet', 'going', 'Eclectic', 'rated', 'about', 'guess', 'Flower', 'Caballero', 'basically', 'article', 'honor', 'priced', 'delicious', 'bartenders', 'recent', 'brisket', 'discount', 'grandmother', 'exceptional', 'management', 'largely', 'fried', 'shoots', 'value', 'FREEZING', 'treated', 'sticks', 'sucked', 'after', 'sucker', 'piece', 'overwhelmed', 'first', 'flavor', 'godfathers', 'patron', 'crawfish', 'Sunday', 'handed', 'included', 'whenever', 'water', 'everyone', 'orders', 'efficient', 'soooo', 'tolerance', 'promise', 'Fantastic', 'stale', 'services', 'STALE', 'strip', 'informative', 'heads', 'belly', 'devine', 'Dylan', 'summarize', 'mostly', 'outstanding', 'spice', 'Highly', 'mushrooms', 'AGAIN', 'arriving', 'thinking', 'serves', 'couple', 'meatballs', 'Awesome', 'positive', 'whether', 'truly', 'prices', 'dreamed', 'refreshing', 'double', 'falling', 'space', 'Service', 'Sorry', 'sense', 'shops', 'songs', 'drunk', 'stupid', 'simply', 'famous', 'smoke', 'poured', 'tartar', 'wings', 'refrained', 'Risotto', 'gooodd', 'disaster', 'fantastic', 'times', 'lovers', 'Avoid', 'highlights', 'Pricing', 'looking', 'Bloody', 'hooked', 'living', 'public', 'become', 'sashimi', 'Based', 'unprofessional', 'awkward', 'particular', 'patty', 'skimp', 'unwrapped', 'occasional', 'banana', 'MANAGEMENT', 'worse', 'sucks', 'actually', 'biscuit', 'stomach', 'Today', 'hearts', 'visit', 'forgetting', 'Magic', 'looks', 'Waitress', 'plain', 'trippy', 'buffet', 'white', 'experiencing', 'fucking', 'kiddos', 'Tasty', 'Green', 'beans', 'pecan', 'missing', 'strangers', 'received', 'hostess', 'perfect', 'Seafood', 'meatloaf', 'coupons', 'salads', 'tapas', 'coffee', 'perfectly', 'SCREAMS', 'meals', 'which', 'cause', 'DELICIOUS', 'Christmas', 'sushi', 'ripped', 'glance', 'around', 'greedy', 'tasteless', 'guest', 'monster', 'tragedy', 'fondue', 'arepas', 'Bussell', 'myself', 'Nothing', 'providing', 'check', 'loves', 'greatest', 'building', 'bathroom', 'charming', 'soggy', 'traditional', 'blanket', 'Paying', 'trimmed', 'Vegas', 'folks', 'craving', 'evening', 'pulled', 'longer', 'expected', 'palate', 'started', 'Chinese', 'gristle', 'breaks', 'anticipated', 'croutons', 'driest', 'opportunity', 'couples', 'correct', 'above', 'seriously', 'humiliated', 'dishes', 'charged', 'picture', 'sliced', 'soooooo', 'strings', 'REALLY', 'ESTABLISHMENT', 'feeling', 'finger', 'English', 'untoasted', 'acknowledged', 'deeply', 'unhealthy', 'outdoor', 'roasted', 'liking', 'difference', 'Spend', 'flavourful', 'absolutley', 'should', 'these', 'terrible', 'stinks', 'Seriously', 'outta', 'ratio', 'delicioso', 'reviewing', 'thick', 'silently', 'Prices', 'waited', 'pleased', 'interior', 'frozen', 'quality', 'thought', 'Pretty', 'either', 'deliver', 'Thumbs', 'hands', 'rowdy', 'easily', 'relleno', 'absolute', 'smells', 'steak', 'shower', 'unwelcome', 'crust', 'Google', 'topic', 'industry', 'succulent', 'plate', 'replenished', 'lived', 'extremely', 'inviting', 'deuchebaggery', 'Toast', 'steakhouse', 'given', 'touch', 'cooked', 'swung', 'satisfying', 'without', 'closed', 'parents', 'parties', 'fries', 'twice', 'amount', 'customer', 'peach', 'crusty', 'speedy', 'compliments', 'FLAVOR', 'Sadly', 'Update', 'delights', 'tacos', 'cheeseburger', 'These', 'pleasure', 'guests', 'highlighted', 'promptly', 'crisp', 'small', 'Sushi', 'spicy', 'convenient', 'forty', 'hospitality', 'loving', 'though', 'owners', 'yellow', 'letting', 'inside', 'constructed', 'salmon', 'combination', 'somehow', 'Favorite', 'customers', 'Ordered', 'otherwise', 'Bellagio', 'gratuity', 'dinners', 'array', 'impeccable', 'airline', 'ladies', 'vomited', 'Grill', 'downside', 'spots', 'imagined', 'choose', 'mistake', 'Perhaps', 'order', 'typical', 'wildly', 'smeared', 'requested', 'understand', 'struggle', 'Worse', 'Gourmet', 'desired', 'cashew', 'disgrace', 'bottom', 'spotty', 'ribeye', 'Couldn', 'whatsoever', 'family', 'running', 'Burrittos', 'highly', 'Strike', 'suffers', 'classics', 'Outstanding', 'receives', 'appetizers', 'privileged', 'asked', 'pretty', 'missed', 'could', 'drive', 'portion', 'block', 'decide', 'stars', 'paper', 'Sprouts', 'employee', 'readers', 'Nicest', 'cover', 'happened', 'cannot', 'stuff', 'operation', 'elsewhere', 'wedges', 'contain', 'raving', 'elegantly', 'truffle', 'serve', 'wrapped', 'smooth', 'rolled', 'generic', 'rather', 'opposed', 'NEVER', 'Steve', 'garlic', 'solidify', 'despicable', 'serving', 'including', 'style', 'hummus', 'prompt', 'dressed', 'disrespected', 'Level', 'spices', 'vegetables', 'cashier', 'Sauce', 'literally', 'batch', 'Sooooo', 'equally', 'incredible', 'sweet', 'coconut', 'comfortable', 'heard', 'Chipotle', 'anymore', 'house', 'AVOID', 'rubber', 'Frenchman', 'postinos', 'tender', 'liked', 'Gringos', 'Furthermore', 'Insults', 'sugary', 'there', 'forever', 'tasted', 'lovely', 'expect', 'table', 'Loved', 'middle', 'Pineapple', 'events', 'smelled', 'extra', 'pastas', 'apologize', 'moods', 'reminds', 'friendly', 'thats', 'disapppointment', 'Bisque', 'together', 'Maria', 'leather', 'juice', 'Cooked', 'mouthful', 'pizzas', 'apparently', 'massive', 'stuffed', 'ambiance', 'raspberry', 'decorated', 'imaginative', 'extensive', 'donut', 'sewer', 'salad', 'joint', 'Shrimp', 'Lobster', 'teeth', 'brick', 'ended', 'petty', 'pepper', 'service', 'Dessert', 'scene', 'complaints', 'rudely', 'crispy', 'Large', 'glass', 'flavorful', 'similar', 'tongue', 'disappoint', 'Soups', 'welcome', 'modern', 'disgust', 'sorely'}\n"
     ]
    }
   ],
   "source": [
    "print(just_words)"
   ]
  },
  {
   "cell_type": "code",
   "execution_count": 13,
   "metadata": {},
   "outputs": [],
   "source": [
    "keywords = ['warnings', 'disaster', 'disappointed', 'terrible', 'underwhelming', \n",
    "           'lacked', 'avoid', 'waste', 'subpar']\n",
    "\n",
    "for key in keywords:\n",
    "    yelp_df[str(key)]=yelp_df.message.str.contains(\n",
    "    ' ' + str(key) + ' ',\n",
    "    case=False\n",
    "    )"
   ]
  },
  {
   "cell_type": "markdown",
   "metadata": {},
   "source": [
    "Those words are clearly negative, but let's check to see how they are correlated."
   ]
  },
  {
   "cell_type": "code",
   "execution_count": 14,
   "metadata": {},
   "outputs": [
    {
     "data": {
      "text/plain": [
       "<matplotlib.axes._subplots.AxesSubplot at 0xde82950>"
      ]
     },
     "execution_count": 14,
     "metadata": {},
     "output_type": "execute_result"
    },
    {
     "data": {
      "image/png": "[encoded data removed]",
      "text/plain": [
       "<Figure size 432x288 with 2 Axes>"
      ]
     },
     "metadata": {
      "needs_background": "light"
     },
     "output_type": "display_data"
    }
   ],
   "source": [
    "sns.heatmap(yelp_df.corr())"
   ]
  },
  {
   "cell_type": "markdown",
   "metadata": {},
   "source": [
    "Our words seem very independent, so that's good. Now let's create our data and our target."
   ]
  },
  {
   "cell_type": "code",
   "execution_count": 15,
   "metadata": {},
   "outputs": [],
   "source": [
    "data=yelp_df[keywords]\n",
    "target=yelp_df['score']"
   ]
  },
  {
   "cell_type": "code",
   "execution_count": 16,
   "metadata": {},
   "outputs": [
    {
     "name": "stdout",
     "output_type": "stream",
     "text": [
      "Number of mislabeled points out of a total 1000 points : 475\n"
     ]
    }
   ],
   "source": [
    "bnb=BernoulliNB()\n",
    "bnb.fit(data,target)\n",
    "y_pred =bnb.predict(data)\n",
    "print(\"Number of mislabeled points out of a total {} points : {}\".format(\n",
    "    data.shape[0],\n",
    "    (target != y_pred).sum()\n",
    "     ))"
   ]
  },
  {
   "cell_type": "markdown",
   "metadata": {},
   "source": [
    "It looks like our model has **~52%** accuracy in identifying negative yelp reviews. Now let's test it against a different data set."
   ]
  },
  {
   "cell_type": "code",
   "execution_count": 17,
   "metadata": {},
   "outputs": [],
   "source": [
    "data_path = (\"C:\\\\imdb_labelled.txt\")"
   ]
  },
  {
   "cell_type": "code",
   "execution_count": 18,
   "metadata": {},
   "outputs": [],
   "source": [
    "imdb_df = pd.read_csv(data_path, delimiter= '\\t', header=None)\n",
    "imdb_df.columns = ['message', 'score']"
   ]
  },
  {
   "cell_type": "code",
   "execution_count": 19,
   "metadata": {},
   "outputs": [
    {
     "data": {
      "text/html": [
       "<div>\n",
       "<style scoped>\n",
       "    .dataframe tbody tr th:only-of-type {\n",
       "        vertical-align: middle;\n",
       "    }\n",
       "\n",
       "    .dataframe tbody tr th {\n",
       "        vertical-align: top;\n",
       "    }\n",
       "\n",
       "    .dataframe thead th {\n",
       "        text-align: right;\n",
       "    }\n",
       "</style>\n",
       "<table border=\"1\" class=\"dataframe\">\n",
       "  <thead>\n",
       "    <tr style=\"text-align: right;\">\n",
       "      <th></th>\n",
       "      <th>message</th>\n",
       "      <th>score</th>\n",
       "    </tr>\n",
       "  </thead>\n",
       "  <tbody>\n",
       "    <tr>\n",
       "      <th>0</th>\n",
       "      <td>A very, very, very slow-moving, aimless movie ...</td>\n",
       "      <td>0</td>\n",
       "    </tr>\n",
       "    <tr>\n",
       "      <th>1</th>\n",
       "      <td>Not sure who was more lost - the flat characte...</td>\n",
       "      <td>0</td>\n",
       "    </tr>\n",
       "    <tr>\n",
       "      <th>2</th>\n",
       "      <td>Attempting artiness with black &amp; white and cle...</td>\n",
       "      <td>0</td>\n",
       "    </tr>\n",
       "    <tr>\n",
       "      <th>3</th>\n",
       "      <td>Very little music or anything to speak of.</td>\n",
       "      <td>0</td>\n",
       "    </tr>\n",
       "    <tr>\n",
       "      <th>4</th>\n",
       "      <td>The best scene in the movie was when Gerardo i...</td>\n",
       "      <td>1</td>\n",
       "    </tr>\n",
       "  </tbody>\n",
       "</table>\n",
       "</div>"
      ],
      "text/plain": [
       "                                             message  score\n",
       "0  A very, very, very slow-moving, aimless movie ...      0\n",
       "1  Not sure who was more lost - the flat characte...      0\n",
       "2  Attempting artiness with black & white and cle...      0\n",
       "3       Very little music or anything to speak of.        0\n",
       "4  The best scene in the movie was when Gerardo i...      1"
      ]
     },
     "execution_count": 19,
     "metadata": {},
     "output_type": "execute_result"
    }
   ],
   "source": [
    "imdb_df.head()"
   ]
  },
  {
   "cell_type": "code",
   "execution_count": 20,
   "metadata": {},
   "outputs": [
    {
     "data": {
      "text/plain": [
       "score\n",
       "0    362\n",
       "1    386\n",
       "Name: message, dtype: int64"
      ]
     },
     "execution_count": 20,
     "metadata": {},
     "output_type": "execute_result"
    }
   ],
   "source": [
    "imdb_df.groupby(\"score\")[\"message\"].count()"
   ]
  },
  {
   "cell_type": "code",
   "execution_count": 21,
   "metadata": {},
   "outputs": [],
   "source": [
    "keywords = ['warnings', 'disaster', 'disappointed', 'terrible', 'underwhelming', \n",
    "           'lacked', 'avoid', 'waste', 'subpar']\n",
    "\n",
    "for key in keywords:\n",
    "    imdb_df[str(key)]=imdb_df.message.str.contains(\n",
    "    ' ' + str(key) + ' ',\n",
    "    case=False\n",
    "    )"
   ]
  },
  {
   "cell_type": "code",
   "execution_count": 22,
   "metadata": {},
   "outputs": [],
   "source": [
    "data_imdb=imdb_df[keywords]\n",
    "target_imdb=imdb_df['score']"
   ]
  },
  {
   "cell_type": "code",
   "execution_count": 23,
   "metadata": {},
   "outputs": [
    {
     "name": "stdout",
     "output_type": "stream",
     "text": [
      "Number of mislabeled points out of a total 748 points : 343\n"
     ]
    }
   ],
   "source": [
    "bnb=BernoulliNB()\n",
    "bnb.fit(data_imdb,target_imdb)\n",
    "y_pred =bnb.predict(data_imdb)\n",
    "print(\"Number of mislabeled points out of a total {} points : {}\".format(\n",
    "    data_imdb.shape[0],\n",
    "    (target_imdb != y_pred).sum()\n",
    "     ))"
   ]
  },
  {
   "cell_type": "markdown",
   "metadata": {},
   "source": [
    "It looks like our model has **~46%** accuracy in identifying negative imdb reviews. It seems chaning data sets diminished our models performance but not by a significant margin."
   ]
  }
 ],
 "metadata": {
  "kernelspec": {
   "display_name": "Python 3",
   "language": "python",
   "name": "python3"
  },
  "language_info": {
   "codemirror_mode": {
    "name": "ipython",
    "version": 3
   },
   "file_extension": ".py",
   "mimetype": "text/x-python",
   "name": "python",
   "nbconvert_exporter": "python",
   "pygments_lexer": "ipython3",
   "version": "3.7.3"
  }
 },
 "nbformat": 4,
 "nbformat_minor": 2
}
