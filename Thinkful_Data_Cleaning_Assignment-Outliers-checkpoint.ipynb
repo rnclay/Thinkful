{
 "cells": [
  {
   "cell_type": "code",
   "execution_count": 1,
   "metadata": {},
   "outputs": [],
   "source": [
    "import pandas as pd\n",
    "import numpy as np\n",
    "from sqlalchemy import create_engine\n",
    "import warnings\n",
    "import matplotlib.pyplot as plt\n",
    "from scipy.stats import zscore\n",
    "from scipy.stats.mstats import winsorize\n",
    "from scipy import stats\n",
    "warnings.filterwarnings('ignore')"
   ]
  },
  {
   "cell_type": "code",
   "execution_count": 2,
   "metadata": {},
   "outputs": [],
   "source": [
    "postgres_user = 'dsbc_student'\n",
    "postgres_pw = '7*.8G9QH21'\n",
    "postgres_host = '142.93.121.174'\n",
    "postgres_port = '5432'\n",
    "postgres_db = 'useducation'\n",
    "\n",
    "engine = create_engine('postgresql://{}:{}@{}:{}/{}'.format(\n",
    "    postgres_user, postgres_pw, postgres_host, postgres_port, postgres_db))\n",
    "\n",
    "edu_df = pd.read_sql_query('select * from useducation',con=engine)\n",
    "engine.dispose()"
   ]
  },
  {
   "cell_type": "code",
   "execution_count": 3,
   "metadata": {
    "scrolled": true
   },
   "outputs": [
    {
     "data": {
      "text/html": [
       "<div>\n",
       "<style scoped>\n",
       "    .dataframe tbody tr th:only-of-type {\n",
       "        vertical-align: middle;\n",
       "    }\n",
       "\n",
       "    .dataframe tbody tr th {\n",
       "        vertical-align: top;\n",
       "    }\n",
       "\n",
       "    .dataframe thead th {\n",
       "        text-align: right;\n",
       "    }\n",
       "</style>\n",
       "<table border=\"1\" class=\"dataframe\">\n",
       "  <thead>\n",
       "    <tr style=\"text-align: right;\">\n",
       "      <th></th>\n",
       "      <th>PRIMARY_KEY</th>\n",
       "      <th>STATE</th>\n",
       "      <th>YEAR</th>\n",
       "      <th>ENROLL</th>\n",
       "      <th>TOTAL_REVENUE</th>\n",
       "      <th>FEDERAL_REVENUE</th>\n",
       "      <th>STATE_REVENUE</th>\n",
       "      <th>LOCAL_REVENUE</th>\n",
       "      <th>TOTAL_EXPENDITURE</th>\n",
       "      <th>INSTRUCTION_EXPENDITURE</th>\n",
       "      <th>...</th>\n",
       "      <th>GRADES_4_G</th>\n",
       "      <th>GRADES_8_G</th>\n",
       "      <th>GRADES_12_G</th>\n",
       "      <th>GRADES_1_8_G</th>\n",
       "      <th>GRADES_9_12_G</th>\n",
       "      <th>GRADES_ALL_G</th>\n",
       "      <th>AVG_MATH_4_SCORE</th>\n",
       "      <th>AVG_MATH_8_SCORE</th>\n",
       "      <th>AVG_READING_4_SCORE</th>\n",
       "      <th>AVG_READING_8_SCORE</th>\n",
       "    </tr>\n",
       "  </thead>\n",
       "  <tbody>\n",
       "    <tr>\n",
       "      <th>708</th>\n",
       "      <td>2005_NEW_YORK</td>\n",
       "      <td>NEW_YORK</td>\n",
       "      <td>2005</td>\n",
       "      <td>2816426.0</td>\n",
       "      <td>43936450.0</td>\n",
       "      <td>3156023.0</td>\n",
       "      <td>19202847.0</td>\n",
       "      <td>21577580.0</td>\n",
       "      <td>45086872.0</td>\n",
       "      <td>27866708.0</td>\n",
       "      <td>...</td>\n",
       "      <td>196279.0</td>\n",
       "      <td>216226.0</td>\n",
       "      <td>173867.0</td>\n",
       "      <td>1626722.0</td>\n",
       "      <td>851404.0</td>\n",
       "      <td>2518645.0</td>\n",
       "      <td>238.173977</td>\n",
       "      <td>279.716254</td>\n",
       "      <td>222.695200</td>\n",
       "      <td>264.659369</td>\n",
       "    </tr>\n",
       "    <tr>\n",
       "      <th>188</th>\n",
       "      <td>2016_RHODE_ISLAND</td>\n",
       "      <td>RHODE_ISLAND</td>\n",
       "      <td>2016</td>\n",
       "      <td>133856.0</td>\n",
       "      <td>2401541.0</td>\n",
       "      <td>175379.0</td>\n",
       "      <td>940989.0</td>\n",
       "      <td>1285173.0</td>\n",
       "      <td>2358654.0</td>\n",
       "      <td>1340088.0</td>\n",
       "      <td>...</td>\n",
       "      <td>NaN</td>\n",
       "      <td>NaN</td>\n",
       "      <td>NaN</td>\n",
       "      <td>NaN</td>\n",
       "      <td>NaN</td>\n",
       "      <td>NaN</td>\n",
       "      <td>NaN</td>\n",
       "      <td>NaN</td>\n",
       "      <td>NaN</td>\n",
       "      <td>NaN</td>\n",
       "    </tr>\n",
       "    <tr>\n",
       "      <th>1475</th>\n",
       "      <td>2017_NEVADA</td>\n",
       "      <td>NEVADA</td>\n",
       "      <td>2017</td>\n",
       "      <td>NaN</td>\n",
       "      <td>NaN</td>\n",
       "      <td>NaN</td>\n",
       "      <td>NaN</td>\n",
       "      <td>NaN</td>\n",
       "      <td>NaN</td>\n",
       "      <td>NaN</td>\n",
       "      <td>...</td>\n",
       "      <td>NaN</td>\n",
       "      <td>NaN</td>\n",
       "      <td>NaN</td>\n",
       "      <td>NaN</td>\n",
       "      <td>NaN</td>\n",
       "      <td>NaN</td>\n",
       "      <td>231.685162</td>\n",
       "      <td>275.365456</td>\n",
       "      <td>214.841696</td>\n",
       "      <td>268.528555</td>\n",
       "    </tr>\n",
       "    <tr>\n",
       "      <th>882</th>\n",
       "      <td>2008_VIRGINIA</td>\n",
       "      <td>VIRGINIA</td>\n",
       "      <td>2008</td>\n",
       "      <td>1230857.0</td>\n",
       "      <td>14768120.0</td>\n",
       "      <td>897627.0</td>\n",
       "      <td>5957786.0</td>\n",
       "      <td>7912707.0</td>\n",
       "      <td>15236306.0</td>\n",
       "      <td>8003167.0</td>\n",
       "      <td>...</td>\n",
       "      <td>2548.0</td>\n",
       "      <td>1485.0</td>\n",
       "      <td>484.0</td>\n",
       "      <td>19226.0</td>\n",
       "      <td>2758.0</td>\n",
       "      <td>24554.0</td>\n",
       "      <td>NaN</td>\n",
       "      <td>NaN</td>\n",
       "      <td>NaN</td>\n",
       "      <td>NaN</td>\n",
       "    </tr>\n",
       "    <tr>\n",
       "      <th>300</th>\n",
       "      <td>1997_RHODE_ISLAND</td>\n",
       "      <td>RHODE_ISLAND</td>\n",
       "      <td>1997</td>\n",
       "      <td>150433.0</td>\n",
       "      <td>1185534.0</td>\n",
       "      <td>63214.0</td>\n",
       "      <td>470876.0</td>\n",
       "      <td>651444.0</td>\n",
       "      <td>1175638.0</td>\n",
       "      <td>740878.0</td>\n",
       "      <td>...</td>\n",
       "      <td>12083.0</td>\n",
       "      <td>11272.0</td>\n",
       "      <td>8633.0</td>\n",
       "      <td>96551.0</td>\n",
       "      <td>41373.0</td>\n",
       "      <td>138553.0</td>\n",
       "      <td>NaN</td>\n",
       "      <td>NaN</td>\n",
       "      <td>NaN</td>\n",
       "      <td>NaN</td>\n",
       "    </tr>\n",
       "  </tbody>\n",
       "</table>\n",
       "<p>5 rows × 25 columns</p>\n",
       "</div>"
      ],
      "text/plain": [
       "            PRIMARY_KEY         STATE  YEAR     ENROLL  TOTAL_REVENUE  \\\n",
       "708       2005_NEW_YORK      NEW_YORK  2005  2816426.0     43936450.0   \n",
       "188   2016_RHODE_ISLAND  RHODE_ISLAND  2016   133856.0      2401541.0   \n",
       "1475        2017_NEVADA        NEVADA  2017        NaN            NaN   \n",
       "882       2008_VIRGINIA      VIRGINIA  2008  1230857.0     14768120.0   \n",
       "300   1997_RHODE_ISLAND  RHODE_ISLAND  1997   150433.0      1185534.0   \n",
       "\n",
       "      FEDERAL_REVENUE  STATE_REVENUE  LOCAL_REVENUE  TOTAL_EXPENDITURE  \\\n",
       "708         3156023.0     19202847.0     21577580.0         45086872.0   \n",
       "188          175379.0       940989.0      1285173.0          2358654.0   \n",
       "1475              NaN            NaN            NaN                NaN   \n",
       "882          897627.0      5957786.0      7912707.0         15236306.0   \n",
       "300           63214.0       470876.0       651444.0          1175638.0   \n",
       "\n",
       "      INSTRUCTION_EXPENDITURE  ...  GRADES_4_G  GRADES_8_G  GRADES_12_G  \\\n",
       "708                27866708.0  ...    196279.0    216226.0     173867.0   \n",
       "188                 1340088.0  ...         NaN         NaN          NaN   \n",
       "1475                      NaN  ...         NaN         NaN          NaN   \n",
       "882                 8003167.0  ...      2548.0      1485.0        484.0   \n",
       "300                  740878.0  ...     12083.0     11272.0       8633.0   \n",
       "\n",
       "      GRADES_1_8_G  GRADES_9_12_G  GRADES_ALL_G  AVG_MATH_4_SCORE  \\\n",
       "708      1626722.0       851404.0     2518645.0        238.173977   \n",
       "188            NaN            NaN           NaN               NaN   \n",
       "1475           NaN            NaN           NaN        231.685162   \n",
       "882        19226.0         2758.0       24554.0               NaN   \n",
       "300        96551.0        41373.0      138553.0               NaN   \n",
       "\n",
       "      AVG_MATH_8_SCORE  AVG_READING_4_SCORE  AVG_READING_8_SCORE  \n",
       "708         279.716254           222.695200           264.659369  \n",
       "188                NaN                  NaN                  NaN  \n",
       "1475        275.365456           214.841696           268.528555  \n",
       "882                NaN                  NaN                  NaN  \n",
       "300                NaN                  NaN                  NaN  \n",
       "\n",
       "[5 rows x 25 columns]"
      ]
     },
     "execution_count": 3,
     "metadata": {},
     "output_type": "execute_result"
    }
   ],
   "source": [
    "edu_df.sample(5)"
   ]
  },
  {
   "cell_type": "markdown",
   "metadata": {},
   "source": [
    "#### 1. Consider the two variables: *TOTAL_REVENUE* and *TOTAL_EXPENDITURE*. Do these variables have outlier values? \n",
    "\n",
    "**Yes, they do have outliers.**\n"
   ]
  },
  {
   "cell_type": "markdown",
   "metadata": {},
   "source": [
    "#### If you detect outliers in the TOTAL_REVENUE and TOTAL_EXPENDITURE variables, apply the techniques you learned in this checkpoint to eliminate them and validate that there's no outlier values after you handled them."
   ]
  },
  {
   "cell_type": "markdown",
   "metadata": {},
   "source": [
    "Statistics for the *\"Total_Revenue\"* variable."
   ]
  },
  {
   "cell_type": "code",
   "execution_count": 4,
   "metadata": {},
   "outputs": [
    {
     "data": {
      "text/plain": [
       "212"
      ]
     },
     "execution_count": 4,
     "metadata": {},
     "output_type": "execute_result"
    }
   ],
   "source": [
    "edu_df[\"TOTAL_REVENUE\"].isnull().sum()\n"
   ]
  },
  {
   "cell_type": "code",
   "execution_count": 5,
   "metadata": {},
   "outputs": [],
   "source": [
    "edu_df[\"TOTAL_REVENUE\"].fillna(edu_df[\"TOTAL_REVENUE\"].mean(),inplace = True)"
   ]
  },
  {
   "cell_type": "code",
   "execution_count": 6,
   "metadata": {},
   "outputs": [
    {
     "data": {
      "text/plain": [
       "1492"
      ]
     },
     "execution_count": 6,
     "metadata": {},
     "output_type": "execute_result"
    }
   ],
   "source": [
    "edu_df[\"TOTAL_REVENUE\"].value_counts().sum()"
   ]
  },
  {
   "cell_type": "markdown",
   "metadata": {},
   "source": [
    "Visual representations of outliers of the *\"Total_Revenue\"* variable, where **whis = 5** on the boxplot."
   ]
  },
  {
   "cell_type": "code",
   "execution_count": 7,
   "metadata": {},
   "outputs": [
    {
     "data": {
      "image/png": "[encoded data removed]",
      "text/plain": [
       "<Figure size 720x360 with 2 Axes>"
      ]
     },
     "metadata": {
      "needs_background": "light"
     },
     "output_type": "display_data"
    }
   ],
   "source": [
    "plt.figure(figsize =(10,5))\n",
    "\n",
    "plt.subplot(1,2,1)\n",
    "plt.boxplot(edu_df[\"TOTAL_REVENUE\"], whis=5)\n",
    "plt.title(\"Boxplot of Total Revenue\")\n",
    "\n",
    "plt.subplot(1,2,2)\n",
    "plt.hist(edu_df[\"TOTAL_REVENUE\"])\n",
    "plt.title(\"Histogram of Total Revenue\")\n",
    "\n",
    "plt.tight_layout()\n",
    "plt.show()\n"
   ]
  },
  {
   "cell_type": "markdown",
   "metadata": {},
   "source": [
    "Statistical methods to detect outliers: **Z-scores** and **Tukey's method** for *\"Total_Revenue\"*."
   ]
  },
  {
   "cell_type": "markdown",
   "metadata": {},
   "source": [
    "**Z-score** for *\"Total_Revenue\"*."
   ]
  },
  {
   "cell_type": "code",
   "execution_count": 8,
   "metadata": {},
   "outputs": [
    {
     "name": "stdout",
     "output_type": "stream",
     "text": [
      "The score threshold is: 1\n",
      "The indices of the outliers:\n",
      "(array([   4,   32,   56,   85,   96,  108,  137,  150,  161,  190,  201,\n",
      "        213,  241,  252,  264,  292,  304,  316,  344,  355,  367,  396,\n",
      "        407,  420,  449,  460,  472,  481,  501,  512,  524,  552,  564,\n",
      "        576,  605,  616,  628,  633,  637,  654,  656,  662,  668,  680,\n",
      "        685,  689,  706,  708,  714,  719,  731,  737,  741,  758,  760,\n",
      "        763,  766,  771,  784,  789,  793,  802,  811,  813,  816,  819,\n",
      "        824,  836,  842,  846,  855,  863,  865,  868,  871,  876,  891,\n",
      "        897,  901,  919,  921,  924,  927,  932,  944,  950,  954,  971,\n",
      "        973,  976,  979,  984,  997, 1002, 1006, 1023, 1025, 1028, 1031,\n",
      "       1036, 1048, 1053, 1057, 1075, 1077, 1080, 1083, 1088, 1101, 1106,\n",
      "       1110, 1127, 1129, 1132, 1135, 1140, 1152, 1157, 1161, 1178, 1180,\n",
      "       1183, 1186, 1191, 1203, 1208, 1212, 1229, 1231, 1234, 1237, 1242,\n",
      "       1254, 1259, 1263, 1280, 1282, 1285], dtype=int32),)\n",
      "Number of outliers is: 138\n",
      "The score threshold is: 2\n",
      "The indices of the outliers:\n",
      "(array([ 150,  213,  264,  316,  367,  420,  449,  472,  481,  501,  512,\n",
      "        524,  552,  564,  576,  605,  616,  628,  656,  668,  680,  708,\n",
      "        719,  731,  760,  771,  784,  813,  824,  836,  865,  876,  891,\n",
      "        921,  932,  944,  973,  984,  997, 1025, 1036, 1048, 1077, 1088,\n",
      "       1101, 1129, 1140, 1152, 1161, 1180, 1191, 1203, 1212, 1231, 1242,\n",
      "       1254, 1263, 1282], dtype=int32),)\n",
      "Number of outliers is: 58\n",
      "The score threshold is: 3\n",
      "The indices of the outliers:\n",
      "(array([ 420,  472,  481,  524,  576,  628,  680,  708,  731,  760,  784,\n",
      "        813,  824,  836,  865,  876,  891,  921,  932,  944,  973,  984,\n",
      "        997, 1025, 1036, 1048, 1077, 1088, 1101, 1129, 1140, 1152, 1180,\n",
      "       1191, 1203, 1231, 1242, 1254, 1282], dtype=int32),)\n",
      "Number of outliers is: 39\n",
      "The score threshold is: 4\n",
      "The indices of the outliers:\n",
      "(array([ 472,  481,  524,  576,  628,  680,  731,  784,  836,  865,  891,\n",
      "        921,  944,  973,  997, 1025, 1048, 1077, 1101, 1129, 1152, 1180,\n",
      "       1191, 1203, 1231, 1242, 1254, 1282], dtype=int32),)\n",
      "Number of outliers is: 28\n"
     ]
    }
   ],
   "source": [
    "z_scores = zscore(edu_df[\"TOTAL_REVENUE\"])\n",
    "for threshold in range(1,5):\n",
    "    print(\"The score threshold is: {}\".format(threshold))\n",
    "    print(\"The indices of the outliers:\")\n",
    "    print(np.where(z_scores > threshold))\n",
    "    print(\"Number of outliers is: {}\".format(len((np.where(z_scores > threshold)[0]))))"
   ]
  },
  {
   "cell_type": "markdown",
   "metadata": {},
   "source": [
    "**Tukey's method** for *\"Total_Revenue*\"."
   ]
  },
  {
   "cell_type": "code",
   "execution_count": 9,
   "metadata": {},
   "outputs": [
    {
     "name": "stdout",
     "output_type": "stream",
     "text": [
      "The score threshold is: 1.0\n",
      "Number of outliers is: 194\n",
      "The score threshold is: 1.5\n",
      "Number of outliers is: 150\n",
      "The score threshold is: 2.0\n",
      "Number of outliers is: 121\n",
      "The score threshold is: 2.5\n",
      "Number of outliers is: 93\n",
      "The score threshold is: 3.0\n",
      "Number of outliers is: 66\n",
      "The score threshold is: 3.5\n",
      "Number of outliers is: 51\n",
      "The score threshold is: 4.0\n",
      "Number of outliers is: 45\n",
      "The score threshold is: 4.5\n",
      "Number of outliers is: 42\n"
     ]
    }
   ],
   "source": [
    "q75, q25 = np.percentile(edu_df[\"TOTAL_REVENUE\"], [75 ,25])\n",
    "iqr = q75 - q25\n",
    "\n",
    "for threshold in np.arange(1,5,0.5):\n",
    "    min_val = q25 - (iqr*threshold)\n",
    "    max_val = q75 + (iqr*threshold)\n",
    "    print(\"The score threshold is: {}\".format(threshold))\n",
    "    print(\"Number of outliers is: {}\".format(\n",
    "        len((np.where((edu_df[\"TOTAL_REVENUE\"] > max_val) \n",
    "                      | (edu_df[\"TOTAL_REVENUE\"] < min_val))[0]))\n",
    "    ))"
   ]
  },
  {
   "cell_type": "markdown",
   "metadata": {},
   "source": [
    "Statistics for the *\"Total_Expenditure\"* variable"
   ]
  },
  {
   "cell_type": "code",
   "execution_count": 10,
   "metadata": {},
   "outputs": [
    {
     "data": {
      "text/plain": [
       "212"
      ]
     },
     "execution_count": 10,
     "metadata": {},
     "output_type": "execute_result"
    }
   ],
   "source": [
    "edu_df[\"TOTAL_EXPENDITURE\"].isnull().sum()"
   ]
  },
  {
   "cell_type": "code",
   "execution_count": 11,
   "metadata": {},
   "outputs": [],
   "source": [
    "edu_df[\"TOTAL_EXPENDITURE\"].fillna(edu_df[\"TOTAL_EXPENDITURE\"].mean(),inplace = True)"
   ]
  },
  {
   "cell_type": "code",
   "execution_count": 12,
   "metadata": {},
   "outputs": [
    {
     "data": {
      "text/plain": [
       "1492"
      ]
     },
     "execution_count": 12,
     "metadata": {},
     "output_type": "execute_result"
    }
   ],
   "source": [
    "edu_df[\"TOTAL_EXPENDITURE\"].value_counts().sum()"
   ]
  },
  {
   "cell_type": "markdown",
   "metadata": {},
   "source": [
    "Visual representations of outliers of the *\"Total_Expenditure\"* variable, where **whis = 5** on the boxplot."
   ]
  },
  {
   "cell_type": "code",
   "execution_count": 13,
   "metadata": {},
   "outputs": [
    {
     "data": {
      "image/png": "[encoded data removed]",
      "text/plain": [
       "<Figure size 720x360 with 2 Axes>"
      ]
     },
     "metadata": {
      "needs_background": "light"
     },
     "output_type": "display_data"
    }
   ],
   "source": [
    "plt.figure(figsize =(10,5))\n",
    "\n",
    "plt.subplot(1,2,1)\n",
    "plt.boxplot(edu_df[\"TOTAL_EXPENDITURE\"], whis = 5)\n",
    "plt.title(\"Boxplot of Total Expenditure\")\n",
    "\n",
    "plt.subplot(1,2,2)\n",
    "plt.hist(edu_df[\"TOTAL_EXPENDITURE\"])\n",
    "plt.title(\"Histogram of Total Expenditure\")\n",
    "\n",
    "plt.tight_layout()\n",
    "plt.show()\n"
   ]
  },
  {
   "cell_type": "markdown",
   "metadata": {},
   "source": [
    "Statistical methods to detect outliers: **Z-scores** and **Tukey's method** for *\"Total_Expenditure\"*."
   ]
  },
  {
   "cell_type": "markdown",
   "metadata": {},
   "source": [
    "**Z-score** for *\"Total_Expenditure\"*."
   ]
  },
  {
   "cell_type": "code",
   "execution_count": 14,
   "metadata": {},
   "outputs": [
    {
     "name": "stdout",
     "output_type": "stream",
     "text": [
      "The score threshold is: 1\n",
      "The indices of the outliers:\n",
      "(array([   4,   32,   56,   85,  108,  137,  150,  161,  190,  213,  241,\n",
      "        252,  264,  292,  304,  316,  344,  355,  367,  396,  407,  420,\n",
      "        449,  460,  472,  481,  501,  512,  524,  533,  552,  564,  576,\n",
      "        585,  605,  611,  616,  628,  633,  637,  654,  656,  662,  668,\n",
      "        680,  685,  689,  698,  706,  708,  714,  719,  731,  737,  741,\n",
      "        750,  758,  760,  763,  766,  771,  784,  789,  793,  811,  813,\n",
      "        816,  819,  824,  836,  842,  846,  855,  863,  865,  868,  871,\n",
      "        876,  891,  897,  901,  919,  921,  924,  927,  932,  944,  950,\n",
      "        954,  971,  973,  976,  979,  984,  997, 1002, 1006, 1023, 1025,\n",
      "       1028, 1031, 1036, 1048, 1053, 1057, 1075, 1077, 1080, 1083, 1088,\n",
      "       1101, 1106, 1110, 1127, 1129, 1132, 1135, 1140, 1152, 1157, 1161,\n",
      "       1178, 1180, 1183, 1186, 1191, 1203, 1208, 1212, 1229, 1231, 1234,\n",
      "       1237, 1242, 1254, 1259, 1263, 1280, 1282, 1285], dtype=int32),)\n",
      "Number of outliers is: 140\n",
      "The score threshold is: 2\n",
      "The indices of the outliers:\n",
      "(array([ 213,  264,  316,  367,  396,  420,  449,  472,  481,  501,  512,\n",
      "        524,  552,  564,  576,  605,  616,  628,  656,  668,  680,  708,\n",
      "        719,  731,  760,  771,  784,  813,  824,  836,  865,  876,  891,\n",
      "        921,  932,  944,  973,  984,  997, 1025, 1036, 1048, 1077, 1088,\n",
      "       1101, 1129, 1140, 1152, 1180, 1191, 1203, 1212, 1231, 1242, 1254,\n",
      "       1263, 1282], dtype=int32),)\n",
      "Number of outliers is: 57\n",
      "The score threshold is: 3\n",
      "The indices of the outliers:\n",
      "(array([ 420,  472,  481,  524,  576,  628,  656,  680,  708,  731,  760,\n",
      "        771,  784,  813,  824,  836,  865,  876,  891,  921,  932,  944,\n",
      "        973,  984,  997, 1025, 1036, 1048, 1077, 1088, 1101, 1129, 1140,\n",
      "       1152, 1180, 1191, 1203, 1231, 1242, 1254, 1282], dtype=int32),)\n",
      "Number of outliers is: 41\n",
      "The score threshold is: 4\n",
      "The indices of the outliers:\n",
      "(array([ 481,  524,  576,  628,  680,  731,  784,  836,  865,  891,  921,\n",
      "        932,  944,  973,  984,  997, 1025, 1048, 1077, 1101, 1129, 1152,\n",
      "       1180, 1203, 1231, 1242, 1254, 1282], dtype=int32),)\n",
      "Number of outliers is: 28\n"
     ]
    }
   ],
   "source": [
    "z_scores = zscore(edu_df[\"TOTAL_EXPENDITURE\"])\n",
    "for threshold in range(1,5):\n",
    "    print(\"The score threshold is: {}\".format(threshold))\n",
    "    print(\"The indices of the outliers:\")\n",
    "    print(np.where(z_scores > threshold))\n",
    "    print(\"Number of outliers is: {}\".format(len((np.where(z_scores > threshold)[0]))))"
   ]
  },
  {
   "cell_type": "markdown",
   "metadata": {},
   "source": [
    "**Tukey's method** for *\"Total_Expenditure*\"."
   ]
  },
  {
   "cell_type": "code",
   "execution_count": 15,
   "metadata": {},
   "outputs": [
    {
     "name": "stdout",
     "output_type": "stream",
     "text": [
      "The score threshold is: 1.0\n",
      "Number of outliers is: 190\n",
      "The score threshold is: 1.5\n",
      "Number of outliers is: 148\n",
      "The score threshold is: 2.0\n",
      "Number of outliers is: 113\n",
      "The score threshold is: 2.5\n",
      "Number of outliers is: 91\n",
      "The score threshold is: 3.0\n",
      "Number of outliers is: 61\n",
      "The score threshold is: 3.5\n",
      "Number of outliers is: 52\n",
      "The score threshold is: 4.0\n",
      "Number of outliers is: 49\n",
      "The score threshold is: 4.5\n",
      "Number of outliers is: 43\n"
     ]
    }
   ],
   "source": [
    "q75, q25 = np.percentile(edu_df[\"TOTAL_EXPENDITURE\"], [75 ,25])\n",
    "iqr = q75 - q25\n",
    "\n",
    "for threshold in np.arange(1,5,0.5):\n",
    "    min_val = q25 - (iqr*threshold)\n",
    "    max_val = q75 + (iqr*threshold)\n",
    "    print(\"The score threshold is: {}\".format(threshold))\n",
    "    print(\"Number of outliers is: {}\".format(\n",
    "        len((np.where((edu_df[\"TOTAL_EXPENDITURE\"] > max_val) \n",
    "                      | (edu_df[\"TOTAL_EXPENDITURE\"] < min_val))[0]))\n",
    "    ))"
   ]
  },
  {
   "cell_type": "markdown",
   "metadata": {},
   "source": [
    "Dealing with outliers, focusing on **winsorization two-way method** and **monotonic log** transformations."
   ]
  },
  {
   "cell_type": "markdown",
   "metadata": {},
   "source": [
    "**Two-way winsorization** for *\"Total_Revenue\"*"
   ]
  },
  {
   "cell_type": "code",
   "execution_count": 16,
   "metadata": {},
   "outputs": [
    {
     "data": {
      "text/plain": [
       "masked_array(data=[2678885.        , 1049591.        , 3258079.        ,\n",
       "                   ..., 9092081.85859375, 9092081.85859375,\n",
       "                   9092081.85859375],\n",
       "             mask=False,\n",
       "       fill_value=1e+20)"
      ]
     },
     "execution_count": 16,
     "metadata": {},
     "output_type": "execute_result"
    }
   ],
   "source": [
    "winsorized_revenue = winsorize(edu_df[\"TOTAL_REVENUE\"], (0, .10))\n",
    "winsorized_revenue"
   ]
  },
  {
   "cell_type": "markdown",
   "metadata": {},
   "source": [
    "Visual comparison between **winsorized boxplot and a non winsorized boxplot** for *\"Total_Revenue\"*."
   ]
  },
  {
   "cell_type": "code",
   "execution_count": 17,
   "metadata": {},
   "outputs": [
    {
     "data": {
      "image/png": "[encoded data removed]",
      "text/plain": [
       "<Figure size 720x360 with 2 Axes>"
      ]
     },
     "metadata": {
      "needs_background": "light"
     },
     "output_type": "display_data"
    }
   ],
   "source": [
    "plt.figure(figsize =(10,5))\n",
    "\n",
    "plt.subplot(1,2,1)\n",
    "plt.boxplot(edu_df[\"TOTAL_REVENUE\"], whis=5)\n",
    "plt.title(\"Boxplot of Total Revenue\")\n",
    "\n",
    "plt.subplot(1,2,2)\n",
    "plt.boxplot(winsorized_revenue)\n",
    "plt.title(\"Boxplot of Winsorized Revenue (whis=1.5)\")\n",
    "\n",
    "plt.tight_layout()\n",
    "plt.show()\n"
   ]
  },
  {
   "cell_type": "markdown",
   "metadata": {},
   "source": [
    "Visual comparison between **transformed and non transformed historgram** for *\"Total_Revenue\"*."
   ]
  },
  {
   "cell_type": "code",
   "execution_count": 18,
   "metadata": {},
   "outputs": [
    {
     "data": {
      "image/png": "[encoded data removed]",
      "text/plain": [
       "<Figure size 720x360 with 2 Axes>"
      ]
     },
     "metadata": {
      "needs_background": "light"
     },
     "output_type": "display_data"
    }
   ],
   "source": [
    "plt.figure(figsize =(10,5))\n",
    "\n",
    "plt.subplot(1,2,1)\n",
    "plt.hist(edu_df[\"TOTAL_REVENUE\"])\n",
    "plt.title(\"Histogram of Total Revenue\")\n",
    "\n",
    "plt.subplot(1,2,2)\n",
    "plt.hist(np.log(edu_df[\"TOTAL_REVENUE\"]))\n",
    "plt.title(\"Histogram of log transformed Total Revenue\")\n",
    "\n",
    "plt.tight_layout()\n",
    "plt.show()"
   ]
  },
  {
   "cell_type": "markdown",
   "metadata": {},
   "source": [
    "**Two-way winsorization** for *\"Total_Expenditure\"*"
   ]
  },
  {
   "cell_type": "code",
   "execution_count": 19,
   "metadata": {},
   "outputs": [
    {
     "data": {
      "text/plain": [
       "masked_array(data=[2653798.     ,  972488.     , 3401580.     , ...,\n",
       "                   9196680.86875, 9196680.86875, 9196680.86875],\n",
       "             mask=False,\n",
       "       fill_value=1e+20)"
      ]
     },
     "execution_count": 19,
     "metadata": {},
     "output_type": "execute_result"
    }
   ],
   "source": [
    "winsorized_expenditure = winsorize(edu_df[\"TOTAL_EXPENDITURE\"], (0, .10))\n",
    "winsorized_expenditure"
   ]
  },
  {
   "cell_type": "markdown",
   "metadata": {},
   "source": [
    "Visual comparison between **winsorized boxplot and a non winsorized boxplot** for *\"Total_Expenditure\"*."
   ]
  },
  {
   "cell_type": "code",
   "execution_count": 20,
   "metadata": {},
   "outputs": [
    {
     "data": {
      "image/png": "[encoded data removed]",
      "text/plain": [
       "<Figure size 720x360 with 2 Axes>"
      ]
     },
     "metadata": {
      "needs_background": "light"
     },
     "output_type": "display_data"
    }
   ],
   "source": [
    "plt.figure(figsize =(10,5))\n",
    "\n",
    "plt.subplot(1,2,1)\n",
    "plt.boxplot(edu_df[\"TOTAL_EXPENDITURE\"], whis = 5)\n",
    "plt.title(\"Boxplot of Total Expenditure\")\n",
    "\n",
    "plt.subplot(1,2,2)\n",
    "plt.boxplot(winsorized_expenditure)\n",
    "plt.title(\"Boxplot of Winsorized Expenditure (whis = 1.5)\")\n",
    "\n",
    "\n",
    "plt.tight_layout()\n",
    "plt.show()\n"
   ]
  },
  {
   "cell_type": "markdown",
   "metadata": {},
   "source": [
    "Visual comparison between **transformed and non transformed historgram** for *\"Total_Expenditure\"*."
   ]
  },
  {
   "cell_type": "code",
   "execution_count": 21,
   "metadata": {},
   "outputs": [
    {
     "data": {
      "image/png": "[encoded data removed]",
      "text/plain": [
       "<Figure size 720x360 with 2 Axes>"
      ]
     },
     "metadata": {
      "needs_background": "light"
     },
     "output_type": "display_data"
    }
   ],
   "source": [
    "plt.figure(figsize =(10,5))\n",
    "\n",
    "plt.subplot(1,2,1)\n",
    "plt.hist(edu_df[\"TOTAL_EXPENDITURE\"])\n",
    "plt.title(\"Histogram of Total Expenditure\")\n",
    "\n",
    "plt.subplot(1,2,2)\n",
    "plt.hist(np.log(edu_df[\"TOTAL_EXPENDITURE\"]))\n",
    "plt.title(\"Histogram of log transformed Total Expenditure\")\n",
    "\n",
    "plt.tight_layout()\n",
    "plt.show()"
   ]
  },
  {
   "cell_type": "markdown",
   "metadata": {},
   "source": [
    "Creating two **new variables and columns**. One the *'outlier_budget'* is made with the original outliers. The other *'budget'* was made after **two-way winsorization** was applied to the outliers."
   ]
  },
  {
   "cell_type": "markdown",
   "metadata": {},
   "source": [
    "#### 3.) Create another variable by subtracting the original TOTAL_EXPENDITURE from TOTAL_REVENUE (before you eliminated the outliers). You can think of it as a kind of budget deficit in education. Do you find any outlier values in this new variable? If so, eliminate them using the technique you think most suitable.\n",
    "#### 4.) Now create another variable by subtracting the TOTAL_EXPENDITURE from TOTAL_REVENUE. This time, use the outlier eliminated versions of TOTAL_EXPENDITURE from TOTAL_REVENUE. In this newly created variable, can you find any outliers? If so, eliminate them.\n",
    "#### 5.) Compare some basic descriptive statistics of the budget variables you end up with in the 3rd and the 4th questions. Do you see any differences?"
   ]
  },
  {
   "cell_type": "markdown",
   "metadata": {},
   "source": [
    "Let's check the statistics of our new variabels."
   ]
  },
  {
   "cell_type": "code",
   "execution_count": 22,
   "metadata": {},
   "outputs": [],
   "source": [
    "edu_df['outlier_budget'] = edu_df['TOTAL_REVENUE'] - edu_df['TOTAL_EXPENDITURE']"
   ]
  },
  {
   "cell_type": "code",
   "execution_count": 23,
   "metadata": {},
   "outputs": [
    {
     "data": {
      "text/plain": [
       "count    1.492000e+03\n",
       "mean    -1.045990e+05\n",
       "std      5.310770e+05\n",
       "min     -5.487742e+06\n",
       "25%     -1.360070e+05\n",
       "50%     -4.849350e+04\n",
       "75%      2.965425e+04\n",
       "max      3.897129e+06\n",
       "Name: outlier_budget, dtype: float64"
      ]
     },
     "execution_count": 23,
     "metadata": {},
     "output_type": "execute_result"
    }
   ],
   "source": [
    "edu_df['outlier_budget'].describe()"
   ]
  },
  {
   "cell_type": "code",
   "execution_count": 24,
   "metadata": {},
   "outputs": [],
   "source": [
    "edu_df['budget'] = winsorized_revenue - winsorized_expenditure"
   ]
  },
  {
   "cell_type": "code",
   "execution_count": 25,
   "metadata": {},
   "outputs": [
    {
     "data": {
      "text/plain": [
       "count    1.492000e+03\n",
       "mean    -6.468178e+04\n",
       "std      2.682253e+05\n",
       "min     -1.531644e+06\n",
       "25%     -1.811838e+05\n",
       "50%     -6.565100e+04\n",
       "75%      2.047350e+04\n",
       "max      2.520706e+06\n",
       "Name: budget, dtype: float64"
      ]
     },
     "execution_count": 25,
     "metadata": {},
     "output_type": "execute_result"
    }
   ],
   "source": [
    "edu_df['budget'].describe()"
   ]
  },
  {
   "cell_type": "markdown",
   "metadata": {},
   "source": [
    "The most noticeable differences in the statistics between *'outlier_budget'* and *'budget'* are the **mean**, **max**, and **standard deviation**. "
   ]
  },
  {
   "cell_type": "markdown",
   "metadata": {},
   "source": [
    "Now we need to check *'budget'* for **outliers**"
   ]
  },
  {
   "cell_type": "code",
   "execution_count": 26,
   "metadata": {},
   "outputs": [
    {
     "data": {
      "image/png": "[encoded data removed]",
      "text/plain": [
       "<Figure size 720x360 with 2 Axes>"
      ]
     },
     "metadata": {
      "needs_background": "light"
     },
     "output_type": "display_data"
    }
   ],
   "source": [
    "plt.figure(figsize =(10,5))\n",
    "\n",
    "plt.subplot(1,2,1)\n",
    "plt.boxplot(edu_df[\"budget\"], whis = 5)\n",
    "plt.title(\"Boxplot of Budget\")\n",
    "\n",
    "plt.subplot(1,2,2)\n",
    "plt.boxplot(edu_df['outlier_budget'], whis = 5)\n",
    "plt.title(\"Boxplot of Outlier Budget\")\n",
    "\n",
    "plt.show()\n",
    "\n"
   ]
  },
  {
   "cell_type": "code",
   "execution_count": 27,
   "metadata": {},
   "outputs": [
    {
     "name": "stdout",
     "output_type": "stream",
     "text": [
      "The score threshold is: 1\n",
      "The indices of the outliers:\n",
      "(array([  21,   30,   73,   88,   96,  115,  118,  170,  178,  222,  244,\n",
      "        274,  295,  318,  321,  322,  347,  373,  374,  399,  422,  425,\n",
      "        426,  452,  474,  478,  479,  504,  530,  531,  574,  578,  583,\n",
      "        588,  594,  626,  634,  635,  640,  657,  660,  678,  682,  686,\n",
      "        687,  690,  697,  733,  738,  739,  742,  744,  746,  749,  752,\n",
      "        755,  786,  790,  791,  796,  798,  814,  838,  844,  847,  849,\n",
      "        853,  893,  899,  902,  908,  922,  952,  955,  974,  999, 1003,\n",
      "       1004, 1007, 1014, 1015, 1016, 1026, 1042, 1050, 1058, 1065, 1067,\n",
      "       1081, 1093, 1094, 1099, 1103, 1111, 1117, 1119, 1146, 1150, 1154,\n",
      "       1162, 1166, 1168, 1170, 1195, 1201, 1205, 1213, 1219, 1221, 1252,\n",
      "       1255, 1256, 1260, 1261, 1264, 1270, 1271, 1272], dtype=int32),)\n",
      "Number of outliers is: 118\n",
      "The score threshold is: 2\n",
      "The indices of the outliers:\n",
      "(array([  96,  118,  178,  274,  347,  373,  399,  583,  687,  690,  739,\n",
      "        746,  749,  791,  847,  902,  922,  955,  974, 1003, 1007, 1015,\n",
      "       1026, 1058, 1065, 1067, 1099, 1103, 1111, 1117, 1119, 1154, 1162,\n",
      "       1170, 1205, 1213, 1219, 1221, 1252, 1256, 1264, 1272], dtype=int32),)\n",
      "Number of outliers is: 42\n",
      "The score threshold is: 3\n",
      "The indices of the outliers:\n",
      "(array([  96,  373,  739,  746,  791,  902,  955,  974, 1003, 1007, 1015,\n",
      "       1058, 1111, 1119, 1162, 1170, 1213, 1221, 1264, 1272], dtype=int32),)\n",
      "Number of outliers is: 20\n"
     ]
    }
   ],
   "source": [
    "z_scores = zscore(edu_df[\"budget\"])\n",
    "for threshold in range(1,4):\n",
    "    print(\"The score threshold is: {}\".format(threshold))\n",
    "    print(\"The indices of the outliers:\")\n",
    "    print(np.where(z_scores > threshold))\n",
    "    print(\"Number of outliers is: {}\".format(len((np.where(z_scores > threshold)[0]))))"
   ]
  },
  {
   "cell_type": "markdown",
   "metadata": {},
   "source": [
    "#### 6.) If our variable of interest is the budget deficit variable, which method do you think is the appropriate in dealing with the outliers in this variable: the method in the 3rd question or the one in the 4th question?\n",
    "When eliminating variables it's probably best to use data in it's original form, in order to track changes and decisions."
   ]
  }
 ],
 "metadata": {
  "kernelspec": {
   "display_name": "Python 3",
   "language": "python",
   "name": "python3"
  },
  "language_info": {
   "codemirror_mode": {
    "name": "ipython",
    "version": 3
   },
   "file_extension": ".py",
   "mimetype": "text/x-python",
   "name": "python",
   "nbconvert_exporter": "python",
   "pygments_lexer": "ipython3",
   "version": "3.7.3"
  }
 },
 "nbformat": 4,
 "nbformat_minor": 2
}
