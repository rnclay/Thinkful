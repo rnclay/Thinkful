{
 "cells": [
  {
   "cell_type": "markdown",
   "metadata": {},
   "source": [
    "### Question 1: What is the goal of EDA (exploratory data analysis)?\n",
    "The point of exploratory data analysis is to learn about the quality of the data and prepare the data, so that data science techniques can be applied to the data.\n",
    "\n",
    "### Question 2: Suppose that you are given a dataset of customer product reviews for an e-commerce company. Each review is scored as a Likert-style survey item where 1 indicates a negative sentiment about the product and a 5 is positive. These reviews are collected on the company's website. a. What problems do you expect to find in the raw data? b. If your task is to build features that give information about customer sentiments, how would you approach this task and what kind of methods would you apply to accomplish it? c. Try to identify some potentially useful features that you might derive from the raw data. How would you derive them and how would you assess the usefulness of those features?\n",
    "***A.)*** I would expect some of the reviews to be blank and some of them to have multiple answers. There may also be a larger number of negative reviews than positive reviews, based on the assumption people are more like to leave reviews if they are angry. Also, it may be hard to judge the veracity or authenticity of the review. \n",
    "\n",
    "***B.)*** I think it would be very important to associate sentiment with an actual action. I would only use reviews tied to a verifiable product purchase or return. Next, I would incorporate whether or not the reviewer was a repeat customer. Use purchase history with submitted product reviews to identify 'real' reviews. Once you have reviews associated with purchases you can review the Likert scores and assess the language in those reviews. \n",
    "\n",
    "***C.)*** Once you establish whether or not the sentiments have some level of veracity you compare the sentiment score with statistics about product sales. The relationship between the two could tell you which products should continue to sell strongly or which products could possibly have a dip in sales (like products that are selling at x rate, but having an increasing number of negative reviews). "
   ]
  },
  {
   "cell_type": "code",
   "execution_count": 1,
   "metadata": {},
   "outputs": [
    {
     "data": {
      "text/plain": [
       "'C:\\\\WINDOWS\\\\system32\\\\.ipynb_checkpoints'"
      ]
     },
     "execution_count": 1,
     "metadata": {},
     "output_type": "execute_result"
    }
   ],
   "source": [
    "pwd\n"
   ]
  },
  {
   "cell_type": "code",
   "execution_count": null,
   "metadata": {},
   "outputs": [],
   "source": []
  }
 ],
 "metadata": {
  "kernelspec": {
   "display_name": "Python 3",
   "language": "python",
   "name": "python3"
  },
  "language_info": {
   "codemirror_mode": {
    "name": "ipython",
    "version": 3
   },
   "file_extension": ".py",
   "mimetype": "text/x-python",
   "name": "python",
   "nbconvert_exporter": "python",
   "pygments_lexer": "ipython3",
   "version": "3.7.3"
  }
 },
 "nbformat": 4,
 "nbformat_minor": 2
}
