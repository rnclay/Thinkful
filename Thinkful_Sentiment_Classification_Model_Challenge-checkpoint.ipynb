{
 "cells": [
  {
   "cell_type": "code",
   "execution_count": 1,
   "metadata": {},
   "outputs": [],
   "source": [
    "import numpy as np\n",
    "import pandas as pd\n",
    "import scipy\n",
    "import sklearn\n",
    "import matplotlib.pyplot as plt\n",
    "import seaborn as sns\n",
    "import re\n",
    "from sklearn.naive_bayes import BernoulliNB\n",
    "from sklearn.model_selection import train_test_split\n",
    "from sklearn.model_selection import cross_val_score\n",
    "from sklearn.metrics import confusion_matrix\n",
    "%matplotlib inline"
   ]
  },
  {
   "cell_type": "code",
   "execution_count": 2,
   "metadata": {},
   "outputs": [],
   "source": [
    "data_path = (\"C:\\\\yelp_labelled.txt\")"
   ]
  },
  {
   "cell_type": "code",
   "execution_count": 3,
   "metadata": {},
   "outputs": [],
   "source": [
    "yelp_df = pd.read_csv(data_path, delimiter= '\\t', header=None)\n",
    "yelp_df.columns = ['message', 'score']"
   ]
  },
  {
   "cell_type": "code",
   "execution_count": 4,
   "metadata": {},
   "outputs": [
    {
     "data": {
      "text/html": [
       "<div>\n",
       "<style scoped>\n",
       "    .dataframe tbody tr th:only-of-type {\n",
       "        vertical-align: middle;\n",
       "    }\n",
       "\n",
       "    .dataframe tbody tr th {\n",
       "        vertical-align: top;\n",
       "    }\n",
       "\n",
       "    .dataframe thead th {\n",
       "        text-align: right;\n",
       "    }\n",
       "</style>\n",
       "<table border=\"1\" class=\"dataframe\">\n",
       "  <thead>\n",
       "    <tr style=\"text-align: right;\">\n",
       "      <th></th>\n",
       "      <th>message</th>\n",
       "      <th>score</th>\n",
       "    </tr>\n",
       "  </thead>\n",
       "  <tbody>\n",
       "    <tr>\n",
       "      <th>0</th>\n",
       "      <td>Wow... Loved this place.</td>\n",
       "      <td>1</td>\n",
       "    </tr>\n",
       "    <tr>\n",
       "      <th>1</th>\n",
       "      <td>Crust is not good.</td>\n",
       "      <td>0</td>\n",
       "    </tr>\n",
       "    <tr>\n",
       "      <th>2</th>\n",
       "      <td>Not tasty and the texture was just nasty.</td>\n",
       "      <td>0</td>\n",
       "    </tr>\n",
       "    <tr>\n",
       "      <th>3</th>\n",
       "      <td>Stopped by during the late May bank holiday of...</td>\n",
       "      <td>1</td>\n",
       "    </tr>\n",
       "    <tr>\n",
       "      <th>4</th>\n",
       "      <td>The selection on the menu was great and so wer...</td>\n",
       "      <td>1</td>\n",
       "    </tr>\n",
       "  </tbody>\n",
       "</table>\n",
       "</div>"
      ],
      "text/plain": [
       "                                             message  score\n",
       "0                           Wow... Loved this place.      1\n",
       "1                                 Crust is not good.      0\n",
       "2          Not tasty and the texture was just nasty.      0\n",
       "3  Stopped by during the late May bank holiday of...      1\n",
       "4  The selection on the menu was great and so wer...      1"
      ]
     },
     "execution_count": 4,
     "metadata": {},
     "output_type": "execute_result"
    }
   ],
   "source": [
    "yelp_df.head()"
   ]
  },
  {
   "cell_type": "code",
   "execution_count": 5,
   "metadata": {},
   "outputs": [],
   "source": [
    "yelp_df['message'] =yelp_df['message'].str.strip()\n"
   ]
  },
  {
   "cell_type": "markdown",
   "metadata": {},
   "source": [
    "Before we start, let's get an idea of the distribution of positive and negative reviews in our data set."
   ]
  },
  {
   "cell_type": "code",
   "execution_count": 6,
   "metadata": {},
   "outputs": [
    {
     "data": {
      "text/plain": [
       "score\n",
       "0    500\n",
       "1    500\n",
       "Name: message, dtype: int64"
      ]
     },
     "execution_count": 6,
     "metadata": {},
     "output_type": "execute_result"
    }
   ],
   "source": [
    "yelp_df.groupby(\"score\")[\"message\"].count()"
   ]
  },
  {
   "cell_type": "code",
   "execution_count": 7,
   "metadata": {},
   "outputs": [],
   "source": [
    "words=' '.join(set(yelp_df['message']))"
   ]
  },
  {
   "cell_type": "code",
   "execution_count": 8,
   "metadata": {},
   "outputs": [
    {
     "name": "stdout",
     "output_type": "stream",
     "text": [
      "Definitely not worth the $3 I paid. Love the margaritas, too! This place lacked style!! Del Taco is pretty nasty and should be avoided if possible. Interesting decor. The service was not up to par, either. I'd love to go back. It was attached to a gas station, and that is rarely a good sign. That just SCREAMS \"LEGIT\" in my book...somethat's also pretty rare here in Vegas. The only thing I did like was the prime rib and dessert section. Would not recommend to others. Some may say this buffet is pricey but I think you get what you pay for and this place you are getting quite a lot! The bartender was also nice. WAAAAAAyyyyyyyyyy over rated is all I am saying. Never been to Hard Rock Casino before, WILL NEVER EVER STEP FORWARD IN IT AGAIN! I hope this place sticks around. Level 5 spicy was perfect, where spice didn't over-whelm the soup. Just had lunch here and had a great experience. The food came out at a good pace. This place is amazing! We recently witnessed her poor quality of management towards other guests as well. Now I am getting angry and I want my damn pho. Service was exceptional and food was a good as all the reviews. Never had anything to complain about here. And the red curry had so much bamboo shoots and wasn't very tasty to me. The ambiance was incredible. The wontons were thin, not thick and chewy, almost melt in your mouth. Fantastic service here. Just as good as when I had it more than a year ago! not even a \"hello, we will be right with you.\" Your servers suck, wait, correction, our server Heimer sucked. Host staff were, for lack of a better word, BITCHES! There is not a deal good enough that would drag me into that establishment again. What a mistake. The service was poor and thats being nice. This place is like Chipotle, but BETTER. I had strawberry tea, which was good. The ambiance here did not feel like a buffet setting, but more of a douchey indoor garden for tea and biscuits. My first visit to Hiro was a delight! Wow... Loved this place. The only downside is the service. Pretty cool I would say. I think this restaurant suffers from not trying hard enough. This place has a lot of promise but fails to deliver. So in a nutshell: 1) The restaraunt smells like a combination of a dirty fish market and a sewer. The pan cakes everyone are raving about taste like a sugary disaster tailored to the palate of a six year old. My salad had a bland vinegrette on the baby greens and hearts of Palm. I guess I should have known that this place would suck, because it is inside of the Excalibur, but I didn't use my common sense. Anyway, this FS restaurant has a wonderful breakfast/lunch. a drive thru means you do not want to wait around for half an hour for your food, but somehow when we end up going here they make us wait and wait. The whole experience was underwhelming, and I think we'll just go to Ninja Sushi next time. Also there are combos like a burger, fries, and beer for 23 which is a decent deal. The descriptions said \"yum yum sauce\" and another said \"eel sauce\", yet another said \"spicy mayo\"...well NONE of the rolls had sauces on them. They really want to make your experience a good one. I have never had such bland food which surprised me considering the article we read focused so much on their spices and flavor. Frozen pucks of disgust, with some of the worst people behind the register. Some highlights : Great quality nigiri here! Waiter was a jerk. It lacked flavor, seemed undercooked, and dry. You get incredibly fresh fish, prepared with care. too bad cause I know it's family owned, I really wanted to like this place. I personally love the hummus, pita, baklava, falafels and Baba Ganoush (it's amazing what they do with eggplant!). Also, I feel like the chips are bought, not made in house. This was my first and only Vegas buffet and it did not disappoint. Also were served hot bread and butter, and home made potato chips with bacon bits on top....very original and very good. I dressed up to be treated so rudely! The salad had just the right amount of sauce to not over power the scallop, which was perfectly cooked. The waitress and manager are so friendly. They dropped more than the ball. I never come again. This place is overpriced, not consistent with their boba, and it really is OVERPRICED! This hole in the wall has great Mexican street tacos, and friendly staff. RUDE & INCONSIDERATE MANAGEMENT. Best service and food ever, Maria our server was so good and friendly she made our day. Ordered burger rare came in we'll done. We watched our waiter pay a lot more attention to other tables and ignore us. What a great double cheeseburger! Soggy and not good. The chefs were friendly and did a good job. WILL NEVER EVER GO BACK AND HAVE TOLD MANY PEOPLE WHAT HAD HAPPENED. I won't try going back there even if it's empty. I don't recommend unless your car breaks down in front of it and you are starving. Then our food came out, disappointment ensued. The cashier had no care what so ever on what I had to say it still ended up being wayyy overpriced. I don't know what kind it is but they have the best iced tea. Friend's pasta -- also bad, he barely touched it. We literally sat there for 20 minutes with no one asking to take our order. I will be back many times soon. By this time our side of the restaurant was almost empty so there was no excuse. Over rated. What did bother me, was the slow service. Not good by any stretch of the imagination. Worse of all, he humiliated his worker right in front of me..Bunch of horrible name callings. All the bread is made in-house! I can't wait to go back. Hell no will I go back He also came back to check on us regularly, excellent service. The selection on the menu was great and so were the prices. Total letdown, I would much rather just go to the Camelback Flower Shop and Cartel Coffee. Same evening, him and I are both drastically sick. This place is two thumbs up....way up. Couldn't ask for a more satisfying meal. Bacon is hella salty. This greedy corporation will NEVER see another dime from me! I will come back here every time I'm in Vegas. Im in AZ all the time and now have my new spot. We made the drive all the way from North Scottsdale... and I was not one bit disappointed! Don't do it!!!! The nachos are a MUST HAVE! A fantastic neighborhood gem !!! Definitely a turn off for me & i doubt I'll be back unless someone else is buying. This is the place where I first had pho and it was amazing!! The servers went back and forth several times, not even so much as an \"Are you being helped?\" Food was so gooodd. Things that went wrong: - They burned the saganaki. It was a huge awkward 1.5lb piece of cow that was 3/4ths gristle and fat. Best tater tots in the southwest. We had so much to say about the place before we walked in that he expected it to be amazing, but was quickly disappointed. Do yourself a favor and stay away from this dish. It's NOT hard to make a decent hamburger. Don't waste your time here. Give it a try, you will be happy you did. My friend did not like his Bloody Mary. The staff is always super friendly and helpful, which is especially cool when you bring two small boys and a baby! No allergy warnings on the menu, and the waitress had absolutely no clue as to which meals did or did not contain peanuts. Seafood was limited to boiled shrimp and crab legs but the crab legs definitely did not taste fresh. After I pulled up my car I waited for another 15 minutes before being acknowledged. The service was great, even the manager came and helped with our table. The problem I have is that they charge $11.99 for a sandwich that is no bigger than a Subway sub (which offers better and more amount of vegetables). will definitely be back! Thus far, have only visited twice and the food was absolutely delicious each time. Not tasty and the texture was just nasty. Everything was fresh and delicious! We waited for forty five minutes in vain. Waitress was sweet and funny. Appetite instantly gone. We've have gotten a much better service from the pizza place next door than the services we received from this restaurant. Shrimp- When I unwrapped it (I live only 1/2 a mile from Brushfire) it was literally ice cold. Not my thing. Seriously flavorful delights, folks. The management is rude. I go to far too many places and I've never seen any restaurant that serves a 1 egg breakfast, especially for $4.00. I ordered the Lemon raspberry ice cocktail which was also incredible. I guess maybe we went on an off night but it was disgraceful. The food wasn't good. This is an unbelievable BARGAIN! Similarly, the delivery man did not say a word of apology when our food was 45 minutes late. Their menu is diverse, and reasonably priced. So absolutley fantastic. Great service and food. I'm probably one of the few people to ever go to Ians and not like it. The poor batter to meat ratio made the chicken tenders very unsatisfying. Food was really good and I got full petty fast. I mean really, how do you get so famous for your fish and chips when it's so terrible!?! The Greek dressing was very creamy and flavorful. Great pork sandwich. Our server was super nice and checked on us many times. My girlfriend's veal was very bad. That's right....the red velvet cake.....ohhh this stuff is so good. Ordered an appetizer and took 40 minutes and then the pizza another 10 minutes. I immediately said I wanted to talk to the manager but I did not want to talk to the guy who was doing shots of fireball behind the bar. Delicious NYC bagels, good selections of cream cheese, real Lox with capers even. Dessert: Panna Cotta was amazing. Spend your money elsewhere. The only reason to eat here would be to fill up before a night of binge drinking just to get some carbs in your stomach. As much as I'd like to go back, I can't get passed the atrocious service and will never return. I was so insulted. I tried the Cape Cod ravoli, chicken,with cranberry...mmmm! The cocktails are all handmade and delicious. The burger had absolutely no flavor - the meat itself was totally bland, the burger was overcooked and there was no charcoal flavor. The service was terrible, food was mediocre. Service is quick and even \"to go\" orders are just like we like it! If she had not rolled the eyes we may have stayed... Not sure if we will go back and try it again. What a mistake that was! Boy was that sucker dry!!. He came running after us when he realized my husband had left his sunglasses on the table. Although I very much liked the look and sound of this place, the actual experience was a bit disappointing. We enjoy their pizza and brunch. I was seated immediately. The staff are also very friendly and efficient. The service was meh. We got the food and apparently they have never heard of salt and the batter on the fish was chewy. Good service, very clean, and inexpensive, to boot! However, my recent experience at this particular location was not so good. Tonight I had the Elk Filet special...and it sucked. Waited 2 hours & never got either of our pizzas as many other around us who came in later did! A greasy, unhealthy meal. very slow at seating even with reservation. This place is a jewel in Las Vegas, and exactly what I've been hoping to find in nearly ten years living here. I LOVED their mussels cooked in this wine reduction, the duck was tender, and their potato dishes were delicious. This is a GREAT place to eat! We started with the tuna sashimi which was brownish in color and obviously wasn't fresh. The restaurant is very clean and has a family restaurant feel to it. It kept getting worse and worse so now I'm officially done. I did not expect this to be so good! My fella got the huevos rancheros and they didn't look too appealing. Very bad Experience! It was probably dirt. I seriously cannot believe that the owner has so many unexperienced employees that all are running around like chickens with their heads cut off. The cashew cream sauce was bland and the vegetables were undercooked. It was equally awful. Food arrived quickly! I give it 2 thumbs down And service was super friendly. the food is not tasty at all, not to say its \"real traditional Hunan style\". Always a pleasure dealing with him. The place was fairly clean but the food simply wasn't worth it. I had a seriously solid breakfast here. Also, the fries are without a doubt the worst fries I've ever had. I will not return. Eclectic selection. Crust is not good. Would come back again if I had a sushi craving while in Vegas. this place is good. The atmosphere was great with a lovely duo of violinists playing songs we requested. Everything on the menu is terrific and we were also thrilled that they made amazing accommodations for our vegetarian daughter. Best tacos in town by far!! The staff was very attentive. Went in for happy hour, great list of wines. Their steaks are 100% recommended! Nothing special. My drink was never empty and he made some really great menu suggestions. The Wife hated her meal (coconut shrimp), and our friends really did not enjoy their meals, either. It is PERFECT for a sit-down family meal or get together with a few friends. for 40 bucks a head, i really expect better food. Please stay away from the shrimp stir fried noodles. Owner's are really great people.! The pancake was also really good and pretty large at that. I believe that this place is a great stop for those with a huge belly and hankering for sushi. I'd say that would be the hardest decision... Honestly, all of M's dishes taste how they are supposed to taste (amazing). Point your finger at any item on the menu, order it and you won't be disappointed. Nargile - I think you are great. This is one of the best bars with food in Vegas. The worst was the salmon sashimi. It was packed!! We walked away stuffed and happy about our first Vegas buffet experience. Service was very prompt. The guys all had steaks, and our steak loving son who has had steak at the best and worst places said it was the best steak he's ever eaten. Which are small and not worth the price. There is nothing privileged about working/eating there. I ate there twice on my last visit, and especially enjoyed the salmon salad. Cant say enough good things about this place. The shower area is outside so you can only rinse, not take a full shower, unless you don't mind being nude for everyone to see! The service was a bit lacking. My breakfast was perpared great, with a beautiful presentation of 3 giant slices of Toast, lightly dusted with powdered sugar. Lordy, the Khao Soi is a dish that is not to be missed for curry lovers! Nice, spicy and tender. Great Pizza and Salads! Classy/warm atmosphere, fun and fresh appetizers, succulent steaks (Baseball steak!!!!! The real disappointment was our waiter. My boyfriend and I came here for the first time on a recent trip to Vegas and could not have been more pleased with the quality of food and service. Nice blanket of moz over top but i feel like this was done to cover up the subpar food. I'm not really sure how Joey's was voted best hot dog in the Valley by readers of Phoenix Magazine. If you love authentic Mexican food and want a whole bunch of interesting, yet delicious meats to choose from, you need to try this place. Good beer & drink selection and good food selection. I was mortified. The only thing I wasn't too crazy about was their guacamole as I don't like it puréed. The tables outside are also dirty a lot of the time and the workers are not always friendly and helpful with the menu. I got to enjoy the seafood salad, with a fabulous vinegrette. I won't be back. Every time I eat here, I see caring teamwork to a professional degree. I was proven dead wrong by this sushi bar, not only because the quality is great, but the service is fast and the food, impeccable. The selection of food was not the best. DELICIOUS!! I work in the hospitality industry in Paradise Valley and have refrained from recommending Cibo any longer. The jalapeno bacon is soooo good. An absolute must visit! Service sucks. I know this is not like the other restaurants at all, something is very off here! Great food. I have eaten here multiple times, and each time the food was delicious. They had a toro tartare with a cavier that was extraordinary and I liked the thinly sliced wagyu with white truffle. It was a bit too sweet, not really spicy enough, and lacked flavor. No one at the table thought the food was above average or worth the wait that we had for it. At least think to refill my water before I struggle to wave you over for 10 minutes. Very Very Disappointed ordered the $35 Big Bay Plater. Overall, I like there food and the service. Highly unprofessional and rude to a loyal patron! Stopped by during the late May bank holiday off Rick Steve recommendation and loved it. We've tried to like this place but after 10+ times I think we're done with them. If you are reading this please don't go there. Very good lunch spot. No complaints! This place is disgusting! Maybe if they weren't cold they would have been somewhat edible. I don't have very many words to say about this place, but it does everything pretty well. This is my new fav Vegas buffet spot. Very good, though! It was awesome. The Buffet at Bellagio was far from what I anticipated. Why are these sad little vegetables so overcooked? My side Greek salad with the Greek dressing was so tasty, and the pita and hummus was very refreshing. The food was very good. The chicken wings contained the driest chicken meat I have ever eaten. This place receives stars for their APPETIZERS!!! Will not be back! I love the Pho and the spring rolls oh so yummy you have to try. The lighting is just dark enough to set the mood. Weird vibe from owners. Anyway, I do not think i will go back there. The restaurant atmosphere was exquisite. The goat taco didn't skimp on the meat and wow what FLAVOR! I found a six inch long piece of wire in my salsa. Ryan's Bar is definitely one Edinburgh establishment I won't be revisiting. This is was due to the fact that it took 20 minutes to be acknowledged, then another 35 minutes to get our food...and they kept forgetting things. I've had better, not only from dedicated boba tea spots, but even from Jenni Pho. A great touch. There was hardly any meat. It's too bad the food is so damn generic. I will never go back to this place and will never ever recommended this place to anyone! CONCLUSION: Very filling meals. The grilled chicken was so tender and yellow from the saffron seasoning. There is so much good food in Vegas that I feel cheated for wasting an eating opportunity by going to Rice and Company. Pretty awesome place. He was terrible! But now I was completely grossed out. Spend your money and time some place else. The black eyed peas and sweet potatoes... UNREAL! The fries were great too. This place is not worth your time, let alone Vegas. Best Buffet in town, for the price you cannot beat it. Hopefully this bodes for them going out of business and someone who can cook can come in. Service is perfect and the family atmosphere is nice to see. I'm not sure how long we stood there but it was long enough for me to begin to feel awkwardly out of place. This place deserves no stars. What I really like there is the crepe station. AN HOUR... seriously? I vomited in the bathroom mid lunch. I came back today since they relocated and still not impressed. - Really, really good rice, all the time. I like Steiners because it's dark and it feels like a bar. Service is quick and friendly. And it was way to expensive. Bland and flavorless is a good way of describing the barely tepid meat. Pricing is a bit of a concern at Mellow Mushroom. Great time - family dinner on a Sunday night. The atmosphere here is fun. All in all an excellent restaurant highlighted by great service, a unique menu, and a beautiful setting. My husband and I ate lunch here and were very disappointed with the food and service. I could barely stomach the meal, but didn't complain because it was a business lunch. It also took her forever to bring us the check when we asked for it. We'll never go again. The feel of the dining room was more college cooking course than high class dining and the service was slow at best. I found this place by accident and I could not be happier. Very friendly staff. this is the worst sushi i have ever eat besides Costco's. Very very fun chef. I promise they won't disappoint. We ordered the duck rare and it was pink and tender on the inside with a nice char on the outside. On a positive note, our server was very attentive and provided great service. Coming here is like experiencing an underwhelming relationship where both parties can't wait for the other person to ask to break up. It was not good. 5 stars for the brick oven bread app! I find wasting food to be despicable, but this just wasn't food. Generous portions and great taste. I loved the grilled pizza, reminded me of legit Italian pizza. The chicken was deliciously seasoned and had the perfect fry on the outside and moist chicken on the inside. She was quite disappointed although some blame needs to be placed at her door. This is a really fantastic Thai restaurant which is definitely worth a visit. An extensive menu provides lots of options for breakfast. 2 Thumbs Up!! The bathrooms are clean and the place itself is well decorated. All in all, I can assure you I'll be back. I would not recommend this place. I don't think we'll be going back anytime soon. Everyone is very attentive, providing excellent customer service. The selection was probably the worst I've seen in Vegas.....there was none. Con: spotty service. We loved the biscuits!!! Awful service. like the other reviewer said \"you couldn't pay me to eat at this place again.\" If you haven't gone here GO NOW! I'd rather eat airline food, seriously. walked in and the place smelled like an old grease trap and only 2 others there eating. This place is not quality sushi, it is not a quality restaurant. Went for lunch - service was slow. We ordered some old classics and some new dishes after going there a few times and were sorely disappointed with everything. The decor is nice, and the piano music soundtrack is pleasant. My ribeye steak was cooked perfectly and had great mesquite flavor. An excellent new restaurant by an experienced Frenchman. Before I go in to why I gave a 1 star rating please know that this was my third time eating at Bachi burger before writing a review. - the food is rich so order accordingly. OMG, the food was delicioso! The atmosphere is modern and hip, while maintaining a touch of coziness. A FLY was in my apple juice.. A FLY!!!!!!!! The food is about on par with Denny's, which is to say, not good at all. I will continue to come here on ladies night andddd date night ... highly recommend this place to anyone who is in the area (; I don't each much pasta, but I love the homemade /hand made pastas and thin pizzas here. I just wanted to leave. They know how to make them here. the potatoes were great and so was the biscuit. First - the bathrooms at this location were dirty- Seat covers were not replenished & just plain yucky!!! We could not believe how dirty the oysters were! As a sushi lover avoid this place by all means. I *heart* this place. I was shocked because no signs indicate cash only. I've never been treated so bad. The service was extremely slow. Plus, it's only 8 bucks. The food was terrible. We had a group of 70+ when we claimed we would only have 40 and they handled us beautifully. If you stay in Vegas you must get breakfast here at least once. The best place in Vegas for breakfast (just check out a Sat, or Sun. There is really nothing for me at postinos, hope your experience is better - They never brought a salad we asked for. The turkey and roast beef were bland. The Macarons here are insanely good. seems like a good quick place to grab a bite of some familiar pub food, but do yourself a favor and look elsewhere. My gyro was basically lettuce only. Hot dishes are not hot, cold dishes are close to room temp.I watched staff prepare food with BARE HANDS, no gloves.Everything is deep fried in oil. Great food and awesome service! I LOVED it! We won't be going back anytime soon! I want to first say our server was great and we had perfect service. Based on the sub-par service I received and no effort to show their gratitude for my business I won't be going back. The Veggitarian platter is out of this world! Honeslty it didn't taste THAT fresh.) Go To Place for Gyros. Very good food, great atmosphere.1 We are so glad we found this place. Paying $7.85 for a hot dog and fries that looks like it came out of a kid's meal at the Wienerschnitzel is not my idea of a good meal. Ordered a double cheeseburger & got a single patty that was falling apart (picture uploaded) Yeah, still sucks. The staff are now not as friendly, the wait times for being served are horrible, no one even says hi for the first 10 minutes. On the good side, the staff was genuinely pleasant and enthusiastic - a real treat. The vegetables are so fresh and the sauce feels like authentic Thai. I miss it and wish they had one in Philadelphia! I checked out this place a couple years ago and was not impressed. The burger is good beef, cooked just right. OMG I felt like I had never eaten Thai food until this dish. When I'm on this side of town, this will definitely be a spot I'll hit up again! It sure does beat the nachos at the movies but I would expect a little bit more coming from a restaurant. Reasonably priced also! Worst martini ever! Ample portions and good prices. Everything was gross. Overall I wasn't very impressed with Noca. I love this place. Do not waste your money here! Now this dish was quite flavourful. At least 40min passed in between us ordering and the food arriving, and it wasn't that busy. So we went to Tigerlilly and had a fantastic afternoon! Sadly, Gordon Ramsey's Steak is a place we shall sharply avoid during our next trip to Vegas. Great place to relax and have an awesome burger and beer. Always a great time at Dos Gringos! Special thanks to Dylan T. for the recommendation on what to order :) All yummy for my tummy. However, there was so much garlic in the fondue, it was barely edible. The roast beef sandwich tasted really good! I'll definitely be in soon again. The food sucked, which we expected but it sucked more than we could have imagined. Best fish I've ever had in my life! We will not be coming back. For service, I give them no stars. Damn good steak. REAL sushi lovers, let's be honest - Yama is not that good. The refried beans that came with my meal were dried out and crusty and the food was bland. Bland... Not a liking this place for a number of reasons and I don't want to waste time on bad reviewing.. I'll leave it at that... I'll take my business dinner dollars elsewhere. Now the pizza itself was good the peanut sauce was very tasty. Overall I was not impressed and would not go back. The croutons also taste homemade which is an extra plus. The building itself seems pretty neat; the bathroom is pretty trippy, but I wouldn't eat here again. They have horrible attitudes towards customers, and talk down to each one when customers don't enjoy their food. I loved the bacon wrapped dates. I can take a little bad service but the food sucks. Despite how hard I rate businesses, its actually rare for me to give a 1 star. Great steak, great sides, great wine, amazing desserts. this was a different cut than the piece the other day but still wonderful and tender s well as well flavored. The deal included 5 tastings and 2 drinks, and Jeff went above and beyond what we expected. This place is horrible and way overpriced. you can watch them preparing the delicious food!) High-quality chicken on the chicken Caesar salad. definitely will come back here again. Only Pros : Large seating area/ Nice bar area/ Great simple drink menu/ The BEST brick oven pizza with homemade dough! We loved the place. They were golden-crispy and delicious. Very, very sad. The food is good. Everything was perfect the night we were in. On the ground, right next to our table was a large, smeared, been-stepped-in-and-tracked-everywhere pile of green bird poop. The ripped banana was not only ripped, but petrified and tasteless. I had about two bites and refused to eat anymore. Have been going since 2007 and every meal has been awesome!! This place has it! The best place to go for a tasty bowl of Pho! This is a good joint. It's a great place and I highly recommend it. The price is reasonable and the service is great. I don't have to be an accountant to know I'm getting screwed! Food was average at best. 2 times - Very Bad Customer Service ! The service was outshining & I definitely recommend the Halibut. Food was really boring. It was absolutely amazing. A good time! Great atmosphere, friendly and fast service. The first time I ever came here I had an amazing experience, I still tell people how awesome the duck was. I paid the bill but did not tip because I felt the server did a terrible job. That said, our mouths and bellies were still quite pleased. The potatoes were like rubber and you could tell they had been made up ahead of time being kept under a warmer. It is worth the drive. To summarize... the food was incredible, nay, transcendant... but nothing brings me joy quite like the memory of the pneumatic condiment dispenser. The owner used to work at Nobu, so this place is really similar for half the price. If you want a sandwich just go to any Firehouse!!!!! Check it out. did not like at all. Unfortunately, we must have hit the bakery on leftover day because everything we ordered was STALE. They have a good selection of food including a massive meatloaf sandwich, a crispy chicken wrap, a delish tuna melt and some tasty burgers. For about 10 minutes, we we're waiting for her salad when we realized that it wasn't coming any time soon. We waited an hour for what was a breakfast I could have done 100 times better at home. I also decided not to send it back because our waitress looked like she was on the verge of having a heart attack. My wife had the Lobster Bisque soup which was lukewarm. But I don't like it. The flair bartenders are absolutely amazing! The cow tongue and cheek tacos are amazing. We got sitting fairly fast, but, ended up waiting 40 minutes just to place our order, another 30 minutes before the food arrived. Our server was very nice, and even though he looked a little overwhelmed with all of our needs, he stayed professional and friendly until the end. The portion was huge! To my disbelief, each dish qualified as the worst version of these foods I have ever tasted. Lobster Bisque, Bussell Sprouts, Risotto, Filet ALL needed salt and pepper..and of course there is none at the tables. Everything was good and tasty! If you look for authentic Thai food, go else where. It was way over fried. Service was slow and not attentive. I recently tried Caballero's and I have been back every week since! It really is impressive that the place hasn't closed down. Not much flavor to them, and very poorly constructed. I wasn't really impressed with Strip Steak. Probably never coming back, and wouldn't recommend it. Service was fine and the waitress was friendly. Just don't know why they were so slow. This place is hands-down one of the best places to eat in the Phoenix metro area. Service was fantastic. Service stinks here! Kind of hard to mess up a steak but they did. Unfortunately, it was not good. Wow very spicy but delicious. Not a weekly haunt, but definitely a place to come back to every once in a while. I had a pretty satifying experience. Great brunch spot. Awesome service and food. Their regular toasted bread was equally satisfying with the occasional pats of butter... Mmmm...! The shrimp tender and moist. The RI style calamari was a joke. We'd definitely go back here again. The staff are great, the ambiance is great. The place was not clean and the food oh so stale! I dont think I will be back for a very long time. The Heart Attack Grill in downtown Vegas is an absolutely flat-lined excuse for a restaurant. Now the burgers aren't as good, the pizza which used to be amazing is doughy and flavorless. My fiancé and I came in the middle of the day and we were greeted and seated right away. We also ordered the spinach and avocado salad; the ingredients were sad and the dressing literally had zero taste. Food quality has been horrible. Maybe it's just their Vegetarian fare, but I've been twice and I thought it was average at best. This is a disgrace. How awesome is that. This is a great restaurant at the Mandalay Bay. The chicken dishes are OK, the beef is like shoe leather. Much better than the other AYCE sushi place I went to in Vegas. The dining space is tiny, but elegantly decorated and comfortable. I can't tell you how disappointed I was. All of the tapas dishes were delicious! The desserts were a bit strange. Penne vodka excellent! Great place fo take out or eat in. I just don't know how this place managed to served the blandest food I have ever eaten when they are preparing Indian cuisine. This one is simply a disappointment. Overpriced for what you are getting. This place deserves one star and 90% has to do with the food. Poor service, the waiter made me feel like I was stupid every time he came to the table. Furthermore, you can't even find hours of operation on the website! When I opened the sandwich, I was impressed, but not in a good way. Very convenient, since we were staying at the MGM! I do love sushi, but I found Kabuki to be over-priced, over-hip and under-services. I got home to see the driest damn wings ever! Not a single employee came out to see if we were OK or even needed a water refill once they finally served us our food. There is nothing authentic about this place. On the up side, their cafe serves really good food. My friend loved the salmon tartar. In the summer, you can dine in a charming outdoor patio - so very delightful. AVOID THIS ESTABLISHMENT! For that price I can think of a few place I would have much rather gone. Talk about great customer service of course we will be back. Sooooo good!! Both of the egg rolls were fantastic. The pizza selections are good. The steak was amazing...rge fillet relleno was the best seafood plate i have ever had! Gave up trying to eat any of the crust (teeth still sore). I gave it 5 stars then, and I'm giving it 5 stars now. On three different occasions I asked for well done or medium well, and all three times I got the bloodiest piece of meat on my plate. They also have the best cheese crisp in town. As for the \"mains,\" also uninspired. Mediocre food. I'm not eating here! I swung in to give them a try but was deeply disappointed. Our server was fantastic and when he found out the wife loves roasted garlic and bone marrow, he added extra to our meal and another marrow to go! The ambiance isn't much better. It's like a really sexy party in your mouth, where you're outrageously flirting with the hottest person at the party. I've lived here since 1979 and this was the first (and last) time I've stepped foot into this place. Then, as if I hadn't wasted enough of my life there, they poured salt in the wound by drawing out the time it took to bring the check. It was pretty gross! Last night was my second time dining here and I was so happy I decided to go back! I had heard good things about this place, but it exceeding every hope I could have dreamed of. When I received my Pita it was huge it did have a lot of meat in it so thumbs up there. first time there and might just be the last. You can't beat that. Our server was very nice and attentive as were the other serving staff. I'm so happy to be here!!!\" The sangria was about half of a glass wine full and was $12, ridiculous. The food was great as always, compliments to the chef. Be sure to order dessert, even if you need to pack it to-go - the tiramisu and cannoli are both to die for. Terrible service! Hawaiian Breeze, Mango Magic, and Pineapple Delight are the smoothies that I've tried so far and they're all good. The warm beer didn't help. Overall, I don't think that I would take my parents to this place again because they made most of the similar complaints that I silently felt too. Try them in the airport to experience some tasty food and speedy, friendly service. After two I felt disgusting. So good I am going to have to review this place twice - once hereas a tribute to the place and once as a tribute to an event held here last night. Took an hour to get our food only 4 tables in restaurant my food was Luke warm, Our sever was running around like he was totally overwhelmed. I liked the patio and the service was outstanding. Tried to go here for lunch and it was a madhouse. A great way to finish a great. I don't know what the big deal is about this place, but I won't be back \"ya'all\". Lastly, the mozzarella sticks, they were the best thing we ordered. The meat was pretty dry, I had the sliced brisket and pulled pork. Their chow mein is so good! By this point, my friends and I had basically figured out this place was a joke and didn't mind making it publicly and loudly known. I would definitely recommend the wings as well as the pizza. It's worth driving up from Tucson! I ordered Albondigas soup - which was just warm - and tasted like tomato soup with frozen meatballs. Not good for the money. Their rotating beers on tap is also a highlight of this place. i felt insulted and disrespected, how could you talk and judge another human being like that? very tough and very short on flavor! You cant go wrong with any of the food here. The yellowtail carpaccio was melt in your mouth fresh. This place is pretty good, nice little vibe in the restaurant. It was just not a fun experience. As for the service: I'm a fan, because it's quick and you're being served by some nice folks. For sushi on the Strip, this is the place to go. The ambience is wonderful and there is music playing. The sides are delish - mixed mushrooms, yukon gold puree, white corn - beateous. We had 7 at our table and the service was pretty fast. The service was terrible though. The only good thing was our waiter, he was very helpful and kept the bloddy mary's coming. Their daily specials are always a hit with my group. the presentation of the food was awful. I probably would not go here again. I started this review with two stars, but I'm editing it to give it only one. TOTAL WASTE OF TIME. The inside is really quite nice and very clean. The patio seating was very comfortable. The buffet is small and all the food they offered was BLAND. But I definitely would not eat here again. The live music on Fridays totally blows. The classic Maine Lobster Roll was fantastic. Insults, profound deuchebaggery, and had to go outside for a smoke break while serving just to solidify it. They have a really nice atmosphere. Won't go back. After one bite, I was hooked. Will be back again! It wasn't busy at all and now we know why. My husband said she was very rude... did not even apologize for the bad food or anything. When my mom and I got home she immediately got sick and she only had a few bites of salad. Once you get inside you'll be impressed with the place. After all the rave reviews I couldn't wait to eat here......what a disappointment! This is some seriously good pizza and I'm an expert/connisseur on the topic. But the service was beyond bad. If there were zero stars I would give it zero stars. Total brunch fail. Best of luck to the rude and non-customer service focused new management. They have a plethora of salads and sandwiches, and everything I've tried gets my seal of approval. If the food isn't bad enough for you, then enjoy dealing with the world's worst/annoying drunk people. For a self proclaimed coffee cafe, I was wildly disappointed. We definately enjoyed ourselves. I had high hopes for this place since the burgers are cooked over a charcoal grill, but unfortunately the taste fell flat, way flat. Good food , good service . A lady at the table next to us found a live green caterpillar In her salad. Will go back next trip out. Overall, a great experience. Service is friendly and inviting. She ordered a toasted English muffin that came out untoasted. The service was a little slow , considering that were served by 3 people servers so the food was coming in a slow pace. I had the mac salad and it was pretty bland so I will not be getting that again. At first glance it is a lovely bakery cafe - nice ambiance, clean, friendly staff. The food was outstanding and the prices were very reasonable. The fries were not hot, and neither was my burger. The sweet potato fries were very good and seasoned well. -My order was not correct. The block was amazing. These were so good we ordered them twice. Good prices. Probably not in a hurry to go back. Great Subway, in fact it's so good when you come here every other Subway will not meet your expectations. Love this place, hits the spot when I want something healthy but not lacking in quantity or flavor. Horrible - don't waste your time and money. Great place to eat, reminds me of the little mom and pop shops in the San Francisco Bay Area. I had the opportunity today to sample your amazing pizzas! Cute, quaint, simple, honest. Nicest Chinese restaurant I've been in a while. The crêpe was delicate and thin and moist. The waitresses are very friendly. He was extremely rude and really, there are so many other restaurants I would love to dine at during a weekend in Vegas. The potato chip order was sad... I could probably count how many chips were in that box and it was probably around 12. Great food and great service in a clean and friendly setting. Needless to say, I won't be going back anytime soon. Overall, I like this place a lot. Ambience is perfect. Food was good, service was good, Prices were good. !....THE OWNERS REALLY REALLY need to quit being soooooo cheap let them wrap my freaking sandwich in two papers not one! Hands down my favorite Italian restaurant! I could care less... The interior is just beautiful. The seasonal fruit was fresh white peach puree. The chips and sals a here is amazing!!!!!!!!!!!!!!!!!!! They were excellent. Highly recommended. The sweet potato tots were good but the onion rings were perfection or as close as I have had. I really enjoyed Crema Café before they expanded; I even told friends they had the BEST breakfast. Unfortunately, it only set us up for disapppointment with our entrees. I consider this theft. Tasted like dirt. Sauce was tasteless. As always the evening was wonderful and the food delicious! If you're not familiar, check it out. And then tragedy struck. I love that they put their food in nice plastic containers as opposed to cramming it in little paper takeout boxes. Will not be back. The last 3 times I had lunch here has been bad. Update.....went back for a second time and it was still just as amazing This is one of the better buffets that I have been to. A couple of months later, I returned and had an amazing meal. Pretty good beer selection too. They have great dinners. I don't think I'll be running back to Carly's anytime soon for food. This place should honestly be blown up. Bad day or not, I have a very low tolerance for rude customer service people, it is your job to be nice and polite, wash dishes otherwise!! This place is awesome if you want something light and healthy during the summer. The one down note is the ventilation could use some upgrading. The waiter wasn't helpful or friendly and rarely checked on us. Once your food arrives it's meh. I got food poisoning here at the buffet. Great place to have a couple drinks and watch any and all sporting events as the walls are covered with TV's. It shouldn't take 30 min for pancakes and eggs. Four stars for the food & the guy in the blue shirt for his great vibe & still letting us in to eat ! I'm super pissd. Favorite place in town for shawarrrrrrma!!!!!! Stopped by this place while in Madison for the Ironman, very friendly, kind staff. Service was excellent and prices are pretty reasonable considering this is Vegas and located inside the Crystals shopping mall by Aria. I would recommend saving room for this! We asked for the bill to leave without eating and they didn't bring that either. Don't bother coming here. The waitress was friendly and happy to accomodate for vegan/veggie options. I can assure you that you won't be disappointed. Will never, ever go back. I have watched their prices inflate, portions get smaller and management attitudes grow rapidly! I'm not impressed with the concept or the food. These are the nicest restaurant owners I've ever come across. I was VERY disappointed!! I as well would've given godfathers zero stars if possible. We had fantastic service, and were pleased by the atmosphere. Definitely worth venturing off the strip for the pork belly, will return next time I'm in Vegas. I love the fact that everything on their menu is worth it. Overall, I was very disappointed with the quality of food at Bouchon. It was extremely \"crumby\" and pretty tasteless. You won't be disappointed. Any grandmother can make a roasted chicken better than this one. Our waiter was very attentive, friendly, and informative. They also now serve Indian naan bread with hummus and some spicy pine nut sauce that was out of this world. It's close to my house, it's low-key, non-fancy, affordable prices, good food. Your staff spends more time talking to themselves than me. One nice thing was that they added gratuity on the bill since our party was larger than 6 or 8, and they didn't expect more tip than that. Def coming back to bowl next time I really enjoyed eating here. All in all, Ha Long Bay was a bit of a flop. I wouldn't return. Join the club and get awesome offers via email. My boyfriend and i sat at the bar and had a completely delightful experience. If you want to wait for mediocre food and downright terrible service, then this is the place for you. No, I'm going to eat the potato that I found some strangers hair in it. Anyways, The food was definitely not filling at all, and for the price you pay you should expect more. Won't ever go here again. Thoroughly disappointed! Each day of the week they have a different deal and it's all so delicious! Eew... This location needs a complete overhaul. Wonderful lil tapas and the ambience made me feel all warm and fuzzy inside. If someone orders two tacos don't' you think it may be part of customer service to ask if it is combo or ala cart? Cooked to perfection and the service was impeccable. The chipolte ranch dipping sause was tasteless, seemed thin and watered down with no heat. We won't be going back. The bus boy on the other hand was so rude. They will customize your order any way you'd like, my usual is Eggplant with Green Bean stir fry, love it! The Han Nan Chicken was also very tasty. I've never been more insulted or felt disrespected. Never again will I be dining at this place! It'll be a regular stop on my trips to Phoenix! Those burgers were amazing. It took over 30 min to get their milkshake, which was nothing more than chocolate milk. I think not again Loved it...friendly servers, great food, wonderful and imaginative menu. If it were possible to give them zero stars, they'd have it. Restaurant is always full but never a wait. I had the chicken Pho and it tasted very bland. The chips that came out were dripping with grease, and mostly not edible. I also had to taste my Mom's multi-grain pumpkin pancakes with pecan butter and they were amazing, fluffy, and delicious! The server was very negligent of our needs and made us feel very unwelcome... I would not suggest this place! But then they came back cold. The menu is always changing, food quality is going down & service is extremely slow. Waitress was good though! If that bug never showed up I would have given a 4 for sure, but on the other side of the wall where this bug was climbing was the kitchen. Great food and service, huge portions and they give a military discount. First time going but I think I will quickly become a regular. the staff is friendly and the joint is always clean. The pizza tasted old, super chewy in not a good way. The staff is great, the food is delish, and they have an incredible beer selection. The servers are not pleasant to deal with and they don't always honor Pizza Hut coupons. (The bathroom is just next door and very nice.) This was my first time and I can't wait until the next. I waited and waited. the spaghetti is nothing special whatsoever. The food was excellent and service was very good. This isn't a small family restaurant, this is a fine dining establishment. I hate those things as much as cheap quality black olives. We were sat right on time and our server from the get go was FANTASTIC! The Burrittos Blah! Would not go back. The plantains were the worst I've ever tasted. This place was such a nice surprise! The food is very good for your typical bar food. So flavorful and has just the perfect amount of heat. Phenomenal food, service and ambiance. We were promptly greeted and seated. My brother in law who works at the mall ate here same day, and guess what he was sick all night too. They brought a fresh batch of fries and I was thinking yay something warm but no! Perhaps I caught them on an off night judging by the other reviews, but I'm not inspired to go back. Disappointing experience. Third, the cheese on my friend's burger was cold. So don't go there if you are looking for good food... Worst food/service I've had in a while. It was either too cold, not enough flavor or just bad. I have been here several times in the past, and the experience has always been great. This place is great!!!!!!!!!!!!!! Must have been an off night at this place. This place is way too overpriced for mediocre food. Just spicy enough.. Perfect actually. * Both the Hot & Sour & the Egg Flower Soups were absolutely 5 Stars! Today is the second time I've been to their lunch buffet and it was pretty good. My sashimi was poor quality being soggy and tasteless. The food was delicious, our bartender was attentive and personable AND we got a great deal! Extremely Tasty! I would avoid this place if you are staying in the Mirage. I've had better bagels from the grocery store. I didn't know pulled pork could be soooo delicious. Good value, great food, great service. Service is also cute. This wonderful experience made this place a must-stop whenever we are in town again. Kids pizza is always a hit too with lots of great side dish options for the kiddos! What SHOULD have been a hilarious, yummy Christmas Eve dinner to remember was the biggest fail of the entire trip for us. We waited for thirty minutes to be seated (although there were 8 vacant tables and we were the only folks waiting). Never going back. Crostini that came with the salad was stale. Both great! I probably won't be coming back here. The only redeeming quality of the restaurant was that it was very inexpensive. The fried rice was dry as well. Seriously killer hot chai latte. Their frozen margaritas are WAY too sugary for my taste. The staff is super nice and very quick even with the crazy crowds of the downtown juries, lawyers, and court staff. Food was below average. We aren't ones to make a scene at restaurants but I just don't get it...definitely lost the love after this one! Worst service to boot, but that is the least of their worries. And the drinks are WEAK, people! Nice ambiance. Waited and waited and waited. This was my first crawfish experience, and it was delicious! The Jamaican mojitos are delicious. I live in the neighborhood so I am disappointed I won't be back here, because it is a convenient location. In an interesting part of town, this place is amazing. I have been to very few places to eat that under no circumstances would I ever return to, and this tops the list. It was delicious!!! Fantastic food! The scallop dish is quite appalling for value as well. The steaks are all well trimmed and also perfectly cooked. My boyfriend tried the Mediterranean Chicken Salad and fell in love. And considering the two of us left there very full and happy for about $20, you just can't go wrong. I think food should have flavor and texture and both were lacking. I can say that the desserts were yummy. In fact I'm going to round up to 4 stars, just because she was so awesome. The manager was the worst. So they performed. I have been in more than a few bars in Vegas, and do not ever recall being charged for tap water. I asked multiple times for the wine list and after some time of being ignored I went to the hostess and got one myself. Main thing I didn't enjoy is that the crowd is of older crowd, around mid 30s and up. Server did a great job handling our large rowdy table. Awesome selection of beer. After 20 minutes wait, I got a table. We thought you'd have to venture further away to get good sushi, but this place really hit the spot that night. Not much seafood and like 5 strings of pasta at the bottom. I probably won't be back, to be honest. And the beans and rice were mediocre at best. Strike 2, who wants to be rushed. I will not be eating there again. Delicious and I will absolutely be back! They could serve it with just the vinaigrette and it may make for a better overall dish, but it was still very good. dont go here. Hard to judge whether these sides were good because we were grossed out by the melted styrofoam and didn't want to eat it for fear of getting sick. Today was my first taste of a Buldogis Gourmet Hot Dog and I have to tell you it was more than I ever thought possible. The steak and the shrimp are in my opinion the best entrees at GC. Worst Thai ever. Both of them were truly unbelievably good, and I am so glad we went back. Very disappointing!!! The seafood was fresh and generous in portion. The service here is fair at best. Avoid at all cost! The chains, which I'm no fan of, beat this place easily. -Drinks took close to 30 minutes to come out at one point. Service was good and the company was better! After the disappointing dinner we went elsewhere for dessert. The folks at Otto always make us feel so welcome and special. When my order arrived, one of the gyros was missing. He deserves 5 stars. I hate to disagree with my fellow Yelpers, but my husband and I were so disappointed with this place. The food was very good and I enjoyed every mouthful, an enjoyable relaxed venue for couples small family groups etc. By far the BEST cheesecurds we have ever had! We sat another ten minutes and finally gave up and left. Left very frustrated. The food, amazing. This really is how Vegas fine dining used to be, right down to the menus handed to the ladies that have no prices listed. Food was delicious! Back to good BBQ, lighter fare, reasonable pricing and tell the public they are back to the old ways. What happened next was pretty....off putting. After waiting an hour and being seated, I was not in the greatest of moods. Not to mention the combination of pears, almonds and bacon is a big winner! The service here leaves a lot to be desired. I've had better atmosphere. Of all the dishes, the salmon was the best, but all were great. Very poor service. I love their fries and their beans. This was like the final blow! Perfect for someone (me) who only likes beer ice cold, or in this case, even colder. The vanilla ice cream was creamy and smooth while the profiterole (choux) pastry was fresh enough. I really do recommend this place, you can go wrong with this donut place! Oh this is such a thing of beauty, this restaurant. Google mediocre and I imagine Smashburger will pop up. I had to wait over 30 minutes to get my drink and longer to get 2 arepas. The sergeant pepper beef sandwich with auju sauce is an excellent sandwich as well. The cashier was friendly and even brought the food out to me. I always order from the vegetarian menu during dinner, which has a wide array of options to choose from. Come hungry, leave happy and stuffed! I ordered the Voodoo pasta and it was the first time I'd had really excellent pasta since going gluten free several years ago. The chicken I got was definitely reheated and was only ok, the wedges were cold and soggy. It was a pale color instead of nice and char and has NO flavor. Good Service-check! How can you call yourself a steakhouse if you can't properly cook a steak, I don't understand! Terrible management. It was so bad, I had lost the heart to finish it. Needless to say, we will never be back here again. From what my dinner companions told me...everything was very fresh with nice texture and taste. The kids play area is NASTY! The menu had so much good stuff on it i could not decide! And the chef was generous with his time (even came around twice so we can take pictures with him). Prices are very reasonable, flavors are spot on, the sauce is home made, and the slaw is not drenched in mayo. The WORST EXPERIENCE EVER. All I have to say is the food was amazing!!! Food is way overpriced and portions are fucking small. The burger... I got the \"Gold Standard\" a $17 burger and was kind of disappointed. The owners are super friendly and the staff is courteous. We won't be returning. I could eat their bruschetta all day it is devine. say bye bye to your tip lady! Best breakfast buffet!!! If you want healthy authentic or ethic food, try this place. I am far from a sushi connoisseur but I can definitely tell the difference between good food and bad food and this was certainly bad food. Everyone is treated equally special. I went to Bachi Burger on a friend's recommendation and was not disappointed. Great food for the price, which is very high quality and house made. As for the service, I thought it was good. Omelets are to die for! I love the owner/chef, his one authentic Japanese cool dude! There was a warm feeling with the service and I felt like their guest for a special treat. This is an Outstanding little restaurant with some of the Best Food I have ever tasted. The chips and salsa were really good, the salsa was very fresh. Waitress was a little slow in service. Food was great and so was the serivce! The food was barely lukewarm, so it must have been sitting waiting for the server to bring it out to us. Sorry, I will not be getting food from here anytime soon :( I left with a stomach ache and felt sick the rest of the day. it was a drive to get there. (It wasn't busy either) Also, the building was FREEZING cold. In summary, this was a largely disappointing dining experience. I took back my money and got outta there. Their monster chicken fried steak and eggs is my all time favorite. I had a salad with the wings, and some ice cream for dessert and left feeling quite satisfied. I was disgusted because I was pretty sure that was human hair. I kept looking at the time and it had soon become 35 minutes, yet still no food. One of the few places in Phoenix that I would definately go back to again . I love the decor with the Chinese calligraphy wall paper. The food is delicious and just spicy enough, so be sure to ask for spicier if you prefer it that way.\n"
     ]
    }
   ],
   "source": [
    "print(words)"
   ]
  },
  {
   "cell_type": "code",
   "execution_count": 9,
   "metadata": {},
   "outputs": [],
   "source": [
    "unique_words=set(words.split())"
   ]
  },
  {
   "cell_type": "code",
   "execution_count": 10,
   "metadata": {},
   "outputs": [],
   "source": [
    "impact_words=str(unique_words)"
   ]
  },
  {
   "cell_type": "code",
   "execution_count": 11,
   "metadata": {},
   "outputs": [],
   "source": [
    "cleaner=r'\\w{4,15}\\w'"
   ]
  },
  {
   "cell_type": "code",
   "execution_count": 12,
   "metadata": {},
   "outputs": [],
   "source": [
    "just_words=set(re.findall(cleaner,impact_words))"
   ]
  },
  {
   "cell_type": "code",
   "execution_count": 13,
   "metadata": {},
   "outputs": [
    {
     "name": "stdout",
     "output_type": "stream",
     "text": [
      "{'simply', 'attack', 'teamwork', 'somethat', 'later', 'tracked', 'wrapped', 'mediocre', 'become', 'recently', 'verge', 'visited', 'tater', 'nearly', 'patty', 'devine', 'tasteless', 'completely', 'reduction', 'However', 'compliments', 'Coffee', 'exceptional', 'powdered', 'months', 'Mexican', 'Fantastic', 'palate', 'Before', 'FORWARD', 'almonds', 'anyone', 'coziness', 'restaurant', 'teeth', 'leaves', 'Terrible', 'AVOID', 'reviews', 'pleasure', 'bites', 'douchey', 'Spend', 'inside', 'crazy', 'seriously', 'tribute', 'reasonable', 'provided', 'three', 'AGAIN', 'being', 'sample', 'rubber', 'monster', 'close', 'BARGAIN', 'market', 'shouldn', 'patron', 'Breeze', 'Anyways', 'Jenni', 'Tried', 'gotten', 'lacked', 'unprofessional', 'Macarons', 'sound', 'efficient', 'relleno', 'Mushroom', 'while', 'Ninja', 'Stopped', 'delish', 'latte', 'terrific', 'expected', 'weekend', 'reminded', 'blanket', 'living', 'between', 'world', 'because', 'stayed', 'pricey', 'mouthful', 'blows', 'theft', 'Filet', 'pastas', 'appalling', 'dedicated', 'cocktail', 'sharply', 'arrived', 'sergeant', 'boiled', 'Frozen', 'Bachi', 'multiple', 'passed', 'every', 'privileged', 'anything', 'typical', 'Gyros', 'feels', 'Point', 'flavored', 'appetizers', 'bottom', 'oysters', 'served', 'array', 'small', 'airport', 'bland', 'Bouchon', 'court', 'enjoyed', 'refreshing', 'bodes', 'servers', 'Overall', 'order', 'generic', 'several', 'further', 'nicest', 'Brushfire', 'restaraunt', 'obviously', 'Ramsey', 'outstanding', 'opened', 'services', 'cover', 'without', 'tender', 'great', 'gyros', 'imagination', 'sorely', 'lettuce', 'Hawaiian', 'Total', 'wines', 'Cartel', 'final', 'ambience', 'satisfied', 'Great', 'Despite', 'ensued', 'Costco', 'apology', 'boring', 'Chipotle', 'Mango', 'drenched', 'recommendation', 'Drinks', 'front', 'creamy', 'struggle', 'setting', 'placed', 'forth', 'style', 'topic', 'Chinese', 'pepper', 'pancakes', 'brisket', 'watered', 'underwhelming', 'officially', 'lovely', 'absolutley', 'containers', 'Insults', 'summary', 'indicate', 'special', 'properly', 'Ambience', 'shops', 'fluffy', 'Google', 'crusty', 'Hunan', 'menus', 'Excalibur', 'MANAGEMENT', 'buffets', 'smoke', 'Omelets', 'dressed', 'prepare', 'shrimp', 'joint', 'chipolte', 'consistent', 'pictures', 'deliver', 'Jamaican', 'suggestions', 'margaritas', 'yourself', 'poisoning', 'actually', 'mouths', 'assure', 'Buffet', 'guest', 'always', 'tiramisu', 'favorite', 'forgetting', 'coffee', 'awkward', 'capers', 'wayyy', 'angry', 'enough', 'giant', 'overcooked', 'classics', 'finger', 'Seafood', 'expect', 'establishment', 'dinners', 'convenient', 'Tasted', 'clean', 'serving', 'arrives', 'guess', 'wouldn', 'means', 'quite', 'ESTABLISHMENT', 'making', 'flavorless', 'fairly', 'leave', 'speedy', 'received', 'connoisseur', 'publicly', 'ourselves', 'Bland', 'tartare', 'helped', 'chewy', 'UNREAL', 'absolutely', 'rings', 'heart', 'handling', 'please', 'tenders', 'Green', 'returned', 'frustrated', 'right', 'contain', 'Gordon', 'Perhaps', 'carpaccio', 'ordering', 'boyfriend', 'batter', 'Really', 'Philadelphia', 'charged', 'portion', 'skimp', 'happened', 'thick', 'incredible', 'butter', 'brings', 'relocated', 'Waiter', 'thats', 'space', 'Crystals', 'Service', 'lined', 'frozen', 'finally', 'Everyone', 'Bellagio', 'employee', 'email', 'loyal', 'sliced', 'Gringos', 'anymore', 'maintaining', 'BITCHES', 'parties', 'brother', 'suffers', 'summarize', 'loved', 'meals', 'attitudes', 'someone', 'satifying', 'totally', 'friends', 'delicious', 'Salads', 'OWNERS', 'guests', 'Fridays', 'disgusting', 'bigger', 'itself', 'hello', 'events', 'downtown', 'madhouse', 'remember', 'dripping', 'upgrading', 'signs', 'party', 'Nargile', 'handed', 'inexpensive', 'touched', 'pleasant', 'screwed', 'different', 'themselves', 'proven', 'combos', 'circumstances', 'working', 'cheeseburger', 'tepid', 'soundtrack', 'happy', 'English', 'accomodate', 'climbing', 'INCONSIDERATE', 'overhaul', 'Third', 'exquisite', 'plantains', 'Salad', 'waiter', 'inflate', 'ahead', 'touch', 'acknowledged', 'quickly', 'cheesecurds', 'feeling', 'classic', 'fabulous', 'doing', 'loves', 'These', 'comfortable', 'HANDS', 'still', 'subpar', 'owner', 'attached', 'bamboo', 'Probably', 'voted', 'looking', 'disrespected', 'common', 'largely', 'looked', 'golden', 'Definitely', 'changing', 'slices', 'vegetarian', 'claimed', 'gloves', 'soggy', 'until', 'yellowtail', 'mortified', 'afternoon', 'Loved', 'drinking', 'giving', 'especially', 'opposed', 'Needless', 'Today', 'relationship', 'dessert', 'warnings', 'industry', 'kitchen', 'Burger', 'average', 'Based', 'orders', 'chocolate', 'puréed', 'juice', 'Risotto', 'break', 'stale', 'Seriously', 'drunk', 'proclaimed', 'Special', 'nachos', 'tongue', 'daughter', 'possible', 'ambiance', 'Buldogis', 'putting', 'experience', 'wound', 'prices', 'mostly', 'Lastly', 'bother', 'yucky', 'Unfortunately', 'contained', 'Tucson', 'cooked', 'receives', 'couple', 'chefs', 'decided', 'pancake', 'basically', 'drawing', 'friend', 'pastry', 'employees', 'disgusted', 'undercooked', 'despicable', 'dough', 'wasting', 'Sunday', 'enthusiastic', 'ranch', 'unbelievably', 'everywhere', 'flavor', 'Pineapple', 'sandwich', 'seasoning', 'decorated', 'quantity', 'surprise', 'insanely', 'CONCLUSION', 'Eclectic', 'reasonably', 'middle', 'missing', 'fantastic', 'profound', 'disgraceful', 'venturing', 'lacking', 'texture', 'vegan', 'terrible', 'server', 'reasons', 'included', 'companions', 'Scottsdale', 'complaints', 'entire', 'grilled', 'Overpriced', 'manager', 'downright', 'started', 'Paying', 'block', 'After', 'apologize', 'Maybe', 'rancheros', 'across', 'anticipated', 'meatloaf', 'covers', 'serve', 'listed', 'worse', 'staying', 'cannot', 'steakhouse', 'melted', 'There', 'appealing', 'Mirage', 'puree', 'charcoal', 'decor', 'positive', 'wrong', 'difference', 'attentive', 'hardly', 'grandmother', 'decision', 'funny', 'easily', 'holiday', 'bellies', 'saving', 'empty', 'songs', 'burgers', 'leftover', 'unsatisfying', 'girlfriend', 'hostess', 'dipping', 'GREAT', 'FLAVOR', 'donut', 'prefer', 'others', 'Chicken', 'definately', 'lukewarm', 'dispenser', 'Delicious', 'smooth', 'extra', 'pulled', 'calamari', 'degree', 'nasty', 'juries', 'lovers', 'crowd', 'delight', 'getting', 'ethic', 'lightly', 'recall', 'salad', 'fails', 'North', 'sause', 'vanilla', 'promptly', 'greatest', 'informative', 'owners', 'liking', 'Magic', 'solidify', 'expensive', 'couldn', 'arepas', 'choux', 'article', 'desired', 'Pizza', 'Weird', 'section', 'approval', 'delivery', 'coconut', 'offers', 'Worse', 'ended', 'disappoint', 'sewer', 'think', 'callings', 'cheated', 'vegetables', 'cheap', 'unhealthy', 'tastings', 'APPETIZERS', 'mains', 'charge', 'asked', 'imaginative', 'peanuts', 'stars', 'dining', 'something', 'traditional', 'fuzzy', 'sense', 'banana', 'edible', 'words', 'strings', 'walked', 'plain', 'water', 'dusted', 'caterpillar', 'piano', 'Anyway', 'people', 'kiddos', 'stomach', 'found', 'sitting', 'platter', 'spices', 'complete', 'vinaigrette', 'event', 'describing', 'Generous', 'crawfish', 'sucks', 'struck', 'peanut', 'promise', 'disapppointment', 'apple', 'fried', 'greedy', 'count', 'rating', 'located', 'tough', 'breakfast', 'letting', 'inspired', 'understand', 'brunch', 'brought', 'double', 'pissd', 'worries', 'instead', 'effort', 'choose', 'warmer', 'these', 'today', 'NASTY', 'service', 'impressive', 'courteous', 'outdoor', 'Caballero', 'lighter', 'about', 'cranberry', 'simple', 'atrocious', 'Smashburger', 'ground', 'dishes', 'occasions', 'boxes', 'experiencing', 'incredibly', 'SHOULD', 'ribeye', 'checked', 'unwrapped', 'sweet', 'anytime', 'whether', 'lived', 'twice', 'pasta', 'nutshell', 'insulted', 'family', 'Lordy', 'neither', 'wagyu', 'genuinely', 'jalapeno', 'coming', 'impressed', 'FREEZING', 'better', 'seated', 'falling', 'seems', 'parents', 'friendly', 'yellow', 'Interesting', 'below', 'talking', 'grease', 'gross', 'driving', 'gristle', 'since', 'dealing', 'performed', 'green', 'filling', 'tailored', 'spring', 'dirty', 'highlight', 'moods', 'uninspired', 'rapidly', 'Denny', 'another', '40min', 'WASTE', 'opportunity', 'sugary', 'potato', 'profiterole', 'pumpkin', 'ladies', 'burger', 'saying', 'spicy', 'regularly', 'toasted', 'prompt', 'charming', 'certainly', 'Madison', 'poured', 'lawyers', 'ignore', 'gluten', 'meatballs', 'chicken', 'batch', 'cashier', 'times', 'glass', 'Stars', 'finish', 'Tasty', 'descriptions', 'strange', 'grocery', 'fruit', 'focused', 'Ample', 'overwhelmed', 'forever', 'music', 'eaten', 'strangers', 'hella', 'fireball', 'cashew', 'seasoned', 'fiancé', 'trips', 'lunch', 'single', 'Attack', 'extremely', 'letdown', 'eggplant', 'foods', 'onion', 'Perfect', 'Steak', 'rarely', 'smeared', 'register', 'Honestly', 'round', 'worker', 'deuchebaggery', 'soooo', 'interesting', 'buffet', 'greeted', 'never', 'relaxed', 'bartender', 'piece', 'reminds', 'Mediterranean', 'reviewer', 'beautiful', 'PEOPLE', 'everything', 'Tigerlilly', 'reheated', 'enjoy', 'usual', 'Valley', 'Baseball', 'serves', 'seasonal', 'veggie', 'person', 'complain', 'price', 'mention', 'tried', 'occasional', 'particular', 'authentic', 'dates', 'multi', 'worst', 'Wienerschnitzel', 'groups', 'summer', 'bring', 'seafood', 'connisseur', 'mussels', 'Place', 'Steve', 'there', 'plate', 'stinks', 'beateous', 'second', 'staff', 'rolls', 'concern', 'hungry', 'interior', 'Soups', 'Veggitarian', 'petty', 'maybe', 'rudely', 'roast', 'tasted', 'BLAND', 'nothing', 'velvet', 'croutons', 'unique', 'street', 'memory', 'vacant', 'Favorite', 'crispy', 'Thoroughly', 'place', 'beers', 'Greek', 'LEGIT', 'Vegetarian', 'Cotta', 'spotty', 'dreamed', 'apart', 'pricing', 'bathrooms', 'decent', 'quick', 'colder', 'around', 'highly', 'winner', 'fella', 'Level', 'First', 'avoid', 'Always', 'combination', 'website', 'replenished', 'perpared', 'modern', 'highlights', 'Disappointed', 'Pricing', 'Bussell', 'Carly', 'rather', 'pneumatic', 'return', 'exactly', 'delights', 'Maria', 'disbelief', 'literally', 'Dessert', 'extensive', 'Worst', 'crumby', 'neighborhood', 'lighting', 'arriving', 'greasy', 'fondue', 'BETTER', 'atmosphere', 'movies', 'really', 'experienced', 'chickens', 'Camelback', 'awful', 'vomited', 'behind', 'satisfying', 'waited', 'drive', 'meats', 'mixed', 'Frenchman', 'untoasted', 'college', 'handled', 'night', 'decide', 'Large', 'bartenders', 'wontons', 'least', 'outta', 'shall', 'supposed', 'myself', 'group', 'needs', 'Sushi', 'stepped', 'Paradise', 'healthy', 'elegantly', 'Vegas', 'Gourmet', 'ravoli', 'overpriced', 'Tonight', 'plastic', 'beans', 'Coming', 'customers', 'loudly', 'ratio', 'binge', 'Voodoo', 'outrageously', 'beauty', 'takeout', 'thinly', 'highlighted', 'given', 'shoots', 'doubt', 'serivce', 'Company', 'deliciously', 'Ganoush', 'expectations', 'crepe', 'papers', 'ignored', 'after', 'sangria', 'smelled', 'indoor', 'tolerance', 'point', 'cheese', 'under', 'Mediocre', 'husband', 'Bunch', 'operation', 'flavorful', 'leather', 'dropped', 'favor', 'unexperienced', 'patio', 'instantly', 'gooodd', 'unfortunately', 'hardest', 'begin', 'perfection', 'honest', 'whatsoever', 'tables', 'homemade', 'bagels', 'tomato', 'brownish', 'hilarious', 'shawarrrrrrma', 'wildly', 'fellow', 'running', 'problem', 'crisp', 'Edinburgh', 'negligent', 'Kabuki', 'polite', 'curry', 'preparing', 'black', 'Italian', 'awesome', 'stood', 'showed', 'wanted', 'sticks', 'tapas', 'Everything', 'biggest', 'sandwiches', 'jewel', 'might', 'writing', 'either', 'money', 'elsewhere', 'waste', 'moist', 'drastically', 'sucker', 'missed', 'again', 'added', 'barely', 'thirty', 'Steiners', 'sashimi', 'Horrible', 'welcome', 'options', 'Furthermore', 'freaking', 'visit', 'grain', 'tartar', 'judge', 'Strike', 'building', 'legit', 'truffle', 'Heimer', 'customize', 'cocktails', 'Update', 'rolled', 'hands', 'Plater', 'roasted', 'owned', 'gratitude', 'hummus', 'hottest', 'needed', 'biscuit', 'believe', 'sauce', 'bread', 'Restaurant', 'milkshake', 'craving', 'although', 'wonderful', 'treated', 'liked', 'delicioso', 'sunglasses', 'Appetite', 'rushed', 'similar', 'version', 'relax', 'smells', 'gratuity', 'color', 'scene', 'hopes', 'hours', 'accountant', 'stretch', 'annoying', 'larger', 'spots', 'tasty', 'perfect', 'Yelpers', 'driest', 'swung', 'OVERPRICED', 'correct', 'vodka', 'tummy', 'whenever', 'Grill', 'flavourful', 'yukon', 'Things', 'folks', 'Awesome', 'spinach', 'blown', 'Shrimp', 'bathroom', 'calligraphy', 'cakes', 'stuff', 'guacamole', 'company', 'drinks', 'priced', 'pretty', 'plethora', 'extraordinary', 'wings', 'Japanese', 'above', 'cream', 'Nothing', 'unbelievable', 'thrilled', 'accordingly', 'picture', 'review', 'should', 'sucked', 'specials', 'WORST', 'olives', 'disaster', 'affordable', 'Standard', 'ripped', 'raspberry', 'course', 'Experience', 'disappointing', 'station', 'works', 'reason', 'thanks', 'thumbs', 'prime', 'Halibut', 'towards', 'ingredients', 'pizzas', 'transcendant', 'strawberry', 'things', 'styrofoam', 'everyone', 'forty', 'Lemon', 'LOVED', 'dollars', 'steaks', 'Classy', 'exceeding', 'apparently', 'refill', 'scallop', 'Sauce', 'poorly', 'Their', 'third', 'places', 'Honeslty', 'strip', 'doughy', 'overall', 'Casino', 'military', 'salads', 'pecan', 'rowdy', 'imagine', 'NEVER', 'quaint', 'hurry', 'business', 'fancy', 'looks', 'power', 'martini', 'rotating', 'Hands', 'presentation', 'Although', 'cooking', 'imagined', 'discount', 'trimmed', 'Nicest', 'almost', 'honor', 'restaurants', 'outside', 'Lobster', 'otherwise', 'Outstanding', 'shocked', 'Prices', 'disappointed', 'blandest', 'Those', 'Burrittos', 'amount', 'cramming', 'desserts', 'hated', 'revisiting', 'Extremely', 'amazing', 'caring', 'recent', 'Waitress', 'disgrace', 'Heart', 'saffron', 'Similarly', 'somewhat', 'Cooked', 'providing', 'taste', 'hooked', 'allergy', 'including', 'would', 'saganaki', 'caught', 'spaghetti', 'fucking', 'hamburger', 'huevos', 'treat', 'somehow', 'mozzarella', 'Toast', 'bacon', 'value', 'belly', 'falafels', 'loving', 'haunt', 'combo', 'Bloody', 'bruschetta', 'Disappointing', 'Bacon', 'Mellow', 'known', 'killer', 'SCREAMS', 'postinos', 'handmade', 'salty', 'potatoes', 'going', 'Owner', 'DELICIOUS', 'breaks', 'together', 'expanded', 'pears', 'fillet', 'white', 'tacos', 'Couldn', 'those', 'constructed', 'absolute', 'packed', 'eating', 'covered', 'surprised', 'Flower', 'corporation', 'HAPPENED', 'professional', 'during', 'suggest', 'personally', 'impeccable', 'heard', 'managed', 'Avoid', 'garlic', 'massive', 'continue', 'awkwardly', 'flair', 'alone', 'Never', 'reviewing', 'Magazine', 'Strip', 'watch', 'daily', 'Ordered', 'grossed', 'ridiculous', 'avocado', 'Dylan', 'cuisine', 'dinner', 'Panna', 'crowds', 'limited', 'Sadly', 'selection', 'playing', 'sides', 'entrees', 'excellent', 'workers', 'judging', 'Check', 'table', 'salsa', 'refried', 'sushi', 'deeply', 'trippy', 'walls', 'redeeming', 'Francisco', 'before', 'worth', 'spicier', 'Penne', 'wasted', 'starving', 'Awful', 'provides', 'selections', 'flirting', 'Firehouse', 'stupid', 'Christmas', 'chains', 'store', 'outshining', 'customer', 'unwelcome', 'wedges', 'management', 'blame', 'Bisque', 'reservation', 'wants', 'recommending', 'considering', 'metro', 'bunch', 'longer', 'thought', 'could', 'Caesar', 'unless', 'weekly', 'quality', 'condiment', 'andddd', 'expert', 'steak', 'solid', 'recommend', 'ventilation', 'EXPERIENCE', 'appetizer', 'Pretty', 'beyond', 'Which', 'seating', 'downside', 'consider', 'Every', 'Please', 'couples', 'cheek', 'famous', 'dressing', 'immediately', 'accommodations', 'first', 'regular', 'weren', 'Waited', 'salmon', 'rated', 'Crust', 'peach', 'chips', 'concept', 'Maine', 'Sprouts', 'Phenomenal', 'happier', 'qualified', 'ordered', 'godfathers', 'honestly', 'enjoyable', 'businesses', 'which', 'pucks', 'pizza', 'prepared', 'bought', 'number', 'super', 'truly', 'haven', 'southwest', 'drink', 'raving', 'airline', 'recommended', 'accident', 'helpful', 'venue', 'light', 'Friend', 'thinking', 'witnessed', 'check', 'reading', 'spice', 'Subway', 'other', 'bloddy', 'smaller', 'yummy', 'hearts', 'fries', 'sporting', 'FANTASTIC', 'marrow', 'little', 'readers', 'hankering', 'uploaded', 'older', 'short', 'fresh', 'Albondigas', 'years', 'Mandalay', 'burned', 'PERFECT', 'shopping', 'Phoenix', 'correction', 'probably', 'Server', 'lover', 'bucks', 'personable', 'seemed', 'heads', 'refrained', 'disagree', 'their', 'though', 'garden', 'biscuits', 'carbs', 'realized', 'disgust', 'glance', 'turkey', 'stuffed', 'grill', 'crust', 'Customer', 'muffin', 'flavors', 'WAAAAAAyyyyyyyyy', 'public', 'excuse', 'baklava', 'large', 'closed', 'offered', 'minutes', 'waitress', 'venture', 'soooooo', 'Thumbs', 'delightful', 'whole', 'spends', 'sever', 'pleased', 'attention', 'human', 'bloodiest', 'brick', 'beautifully', 'Delight', 'buying', 'shower', 'sauces', 'sugar', 'disappointment', 'cannoli', 'location', 'house', 'succulent', 'diverse', 'bakery', 'evening', 'trying', 'delicate', 'perfectly', 'Would', 'cavier', 'returning', 'vinegrette', 'Sooooo', 'familiar', 'nigiri', 'tragedy', 'Crema', 'dried', 'horrible', 'hospitality', 'watched', 'refused', 'coupons', 'crêpe', 'portions', 'medium', 'mistake', 'Indian', 'mojitos', 'humiliated', 'STALE', 'likes', 'rinse', 'generous', 'requested', 'definitely', 'Ironman', 'asking', 'hereas', 'figured', 'original', 'waitresses', 'hoping', 'Eggplant', 'noodles', 'deserves', 'thing', 'cause', 'mesquite', 'besides', 'Sorry', 'Wonderful', 'violinists', 'actual', 'inviting', 'greens', 'Soggy', 'Hopefully', 'Highly', 'mouth', 'editing', 'REALLY', 'TOTAL', 'silently', 'Crostini', 'where', 'whelm', 'shots', 'class', 'waiting', 'having', 'avoided', 'petrified', 'mushrooms', 'smoothies', 'paper', 'Reasonably', 'shirt', 'opinion', 'equally'}\n"
     ]
    }
   ],
   "source": [
    "print(just_words)"
   ]
  },
  {
   "cell_type": "markdown",
   "metadata": {},
   "source": [
    "Let's just take a glance at the words in our data set, a ***quick*** look might give us some good ideas."
   ]
  },
  {
   "cell_type": "code",
   "execution_count": 14,
   "metadata": {},
   "outputs": [],
   "source": [
    "keywords = ['warnings', 'disaster', 'disappointed', 'terrible', 'underwhelming', \n",
    "           'lacked', 'avoid', 'waste', 'subpar', ]\n",
    "\n",
    "for key in keywords:\n",
    "    yelp_df[str(key)]=yelp_df.message.str.contains(\n",
    "    ' ' + str(key) + ' ',\n",
    "    case=False\n",
    "    )"
   ]
  },
  {
   "cell_type": "code",
   "execution_count": 15,
   "metadata": {},
   "outputs": [
    {
     "data": {
      "text/html": [
       "<div>\n",
       "<style scoped>\n",
       "    .dataframe tbody tr th:only-of-type {\n",
       "        vertical-align: middle;\n",
       "    }\n",
       "\n",
       "    .dataframe tbody tr th {\n",
       "        vertical-align: top;\n",
       "    }\n",
       "\n",
       "    .dataframe thead th {\n",
       "        text-align: right;\n",
       "    }\n",
       "</style>\n",
       "<table border=\"1\" class=\"dataframe\">\n",
       "  <thead>\n",
       "    <tr style=\"text-align: right;\">\n",
       "      <th></th>\n",
       "      <th>message</th>\n",
       "      <th>score</th>\n",
       "      <th>warnings</th>\n",
       "      <th>disaster</th>\n",
       "      <th>disappointed</th>\n",
       "      <th>terrible</th>\n",
       "      <th>underwhelming</th>\n",
       "      <th>lacked</th>\n",
       "      <th>avoid</th>\n",
       "      <th>waste</th>\n",
       "      <th>subpar</th>\n",
       "    </tr>\n",
       "  </thead>\n",
       "  <tbody>\n",
       "    <tr>\n",
       "      <th>0</th>\n",
       "      <td>Wow... Loved this place.</td>\n",
       "      <td>1</td>\n",
       "      <td>False</td>\n",
       "      <td>False</td>\n",
       "      <td>False</td>\n",
       "      <td>False</td>\n",
       "      <td>False</td>\n",
       "      <td>False</td>\n",
       "      <td>False</td>\n",
       "      <td>False</td>\n",
       "      <td>False</td>\n",
       "    </tr>\n",
       "    <tr>\n",
       "      <th>1</th>\n",
       "      <td>Crust is not good.</td>\n",
       "      <td>0</td>\n",
       "      <td>False</td>\n",
       "      <td>False</td>\n",
       "      <td>False</td>\n",
       "      <td>False</td>\n",
       "      <td>False</td>\n",
       "      <td>False</td>\n",
       "      <td>False</td>\n",
       "      <td>False</td>\n",
       "      <td>False</td>\n",
       "    </tr>\n",
       "    <tr>\n",
       "      <th>2</th>\n",
       "      <td>Not tasty and the texture was just nasty.</td>\n",
       "      <td>0</td>\n",
       "      <td>False</td>\n",
       "      <td>False</td>\n",
       "      <td>False</td>\n",
       "      <td>False</td>\n",
       "      <td>False</td>\n",
       "      <td>False</td>\n",
       "      <td>False</td>\n",
       "      <td>False</td>\n",
       "      <td>False</td>\n",
       "    </tr>\n",
       "    <tr>\n",
       "      <th>3</th>\n",
       "      <td>Stopped by during the late May bank holiday of...</td>\n",
       "      <td>1</td>\n",
       "      <td>False</td>\n",
       "      <td>False</td>\n",
       "      <td>False</td>\n",
       "      <td>False</td>\n",
       "      <td>False</td>\n",
       "      <td>False</td>\n",
       "      <td>False</td>\n",
       "      <td>False</td>\n",
       "      <td>False</td>\n",
       "    </tr>\n",
       "    <tr>\n",
       "      <th>4</th>\n",
       "      <td>The selection on the menu was great and so wer...</td>\n",
       "      <td>1</td>\n",
       "      <td>False</td>\n",
       "      <td>False</td>\n",
       "      <td>False</td>\n",
       "      <td>False</td>\n",
       "      <td>False</td>\n",
       "      <td>False</td>\n",
       "      <td>False</td>\n",
       "      <td>False</td>\n",
       "      <td>False</td>\n",
       "    </tr>\n",
       "  </tbody>\n",
       "</table>\n",
       "</div>"
      ],
      "text/plain": [
       "                                             message  score  warnings  \\\n",
       "0                           Wow... Loved this place.      1     False   \n",
       "1                                 Crust is not good.      0     False   \n",
       "2          Not tasty and the texture was just nasty.      0     False   \n",
       "3  Stopped by during the late May bank holiday of...      1     False   \n",
       "4  The selection on the menu was great and so wer...      1     False   \n",
       "\n",
       "   disaster  disappointed  terrible  underwhelming  lacked  avoid  waste  \\\n",
       "0     False         False     False          False   False  False  False   \n",
       "1     False         False     False          False   False  False  False   \n",
       "2     False         False     False          False   False  False  False   \n",
       "3     False         False     False          False   False  False  False   \n",
       "4     False         False     False          False   False  False  False   \n",
       "\n",
       "   subpar  \n",
       "0   False  \n",
       "1   False  \n",
       "2   False  \n",
       "3   False  \n",
       "4   False  "
      ]
     },
     "execution_count": 15,
     "metadata": {},
     "output_type": "execute_result"
    }
   ],
   "source": [
    "yelp_df.head()"
   ]
  },
  {
   "cell_type": "markdown",
   "metadata": {},
   "source": [
    "Those words are clearly negative, but let's check to see how they are correlated."
   ]
  },
  {
   "cell_type": "code",
   "execution_count": 16,
   "metadata": {},
   "outputs": [
    {
     "data": {
      "text/plain": [
       "<matplotlib.axes._subplots.AxesSubplot at 0xdd4be70>"
      ]
     },
     "execution_count": 16,
     "metadata": {},
     "output_type": "execute_result"
    },
    {
     "data": {
      "image/png": "[encoded data removed]",
      "text/plain": [
       "<Figure size 432x288 with 2 Axes>"
      ]
     },
     "metadata": {
      "needs_background": "light"
     },
     "output_type": "display_data"
    }
   ],
   "source": [
    "sns.heatmap(yelp_df.corr())"
   ]
  },
  {
   "cell_type": "markdown",
   "metadata": {},
   "source": [
    "Our words seem very independent, so that's good. Now let's create our data and our target."
   ]
  },
  {
   "cell_type": "code",
   "execution_count": 17,
   "metadata": {},
   "outputs": [],
   "source": [
    "data_yelp=yelp_df[keywords]\n",
    "target_yelp=yelp_df['score']"
   ]
  },
  {
   "cell_type": "code",
   "execution_count": 18,
   "metadata": {},
   "outputs": [
    {
     "name": "stdout",
     "output_type": "stream",
     "text": [
      "Number of mislabeled points out of a total 1000 points : 475\n"
     ]
    }
   ],
   "source": [
    "bnb=BernoulliNB()\n",
    "bnb.fit(data_yelp,target_yelp)\n",
    "y_pred =bnb.predict(data_yelp)\n",
    "print(\"Number of mislabeled points out of a total {} points : {}\".format(\n",
    "    data_yelp.shape[0],\n",
    "    (target_yelp != y_pred).sum()\n",
    "     ))"
   ]
  },
  {
   "cell_type": "markdown",
   "metadata": {},
   "source": [
    "It looks like our model has **~52%** accuracy in identifying negative yelp reviews. Now let's test it against a different data set."
   ]
  },
  {
   "cell_type": "code",
   "execution_count": 19,
   "metadata": {},
   "outputs": [
    {
     "data": {
      "text/plain": [
       "array([[ 25, 475],\n",
       "       [  0, 500]], dtype=int64)"
      ]
     },
     "execution_count": 19,
     "metadata": {},
     "output_type": "execute_result"
    }
   ],
   "source": [
    "\n",
    "confusion_matrix(target_yelp,y_pred)"
   ]
  },
  {
   "cell_type": "markdown",
   "metadata": {},
   "source": [
    "#### YELP Results\n",
    "Let's interpret these results:\n",
    "\n",
    "**Hypothesis (H): The selected keywords will correctly classify negative reviews.**\n",
    "\n",
    "**Null Hypothesis (NH): The selected keywords will not correctly classify negative reviews.**\n",
    "\n",
    "**Therefore:**\n",
    "- correctly classifying a negative review as negative is a ***true positive.***\n",
    "- incorrectly classifying a negative review as positive is a ***false negative.***\n",
    "- correctly classifying a positive review as positive is a ***true negative.***\n",
    "- incorrectly classifying a positive review as negative is ***false positive.***\n",
    "\n",
    "**Against the yelp data set my model produced: 25 true positives, 0 false positives, 475 false negatives, and 500 true negatives.**\n",
    "\n",
    "If we focus in on the **false** values it appears this is a very poor model, by my interpretation. It labeled non of the positive reviews as negative (**false positive**) but, it labeled almost 1/2 negative reviews as positive (**false negative**). So what's going on here?\n"
   ]
  },
  {
   "cell_type": "code",
   "execution_count": 20,
   "metadata": {},
   "outputs": [
    {
     "name": "stdout",
     "output_type": "stream",
     "text": [
      "1.0\n"
     ]
    }
   ],
   "source": [
    "Sensitivity_yelp = 500/500\n",
    "print(Sensitivity_yelp)"
   ]
  },
  {
   "cell_type": "code",
   "execution_count": 21,
   "metadata": {},
   "outputs": [
    {
     "name": "stdout",
     "output_type": "stream",
     "text": [
      "0.05\n"
     ]
    }
   ],
   "source": [
    "Specificity_yelp = 25/500\n",
    "print(Specificity_yelp)"
   ]
  },
  {
   "cell_type": "code",
   "execution_count": 22,
   "metadata": {},
   "outputs": [],
   "source": [
    "data_path = (\"C:\\\\imdb_labelled.txt\")"
   ]
  },
  {
   "cell_type": "code",
   "execution_count": 23,
   "metadata": {},
   "outputs": [],
   "source": [
    "imdb_df = pd.read_csv(data_path, delimiter= '\\t', header=None)\n",
    "imdb_df.columns = ['message', 'score']"
   ]
  },
  {
   "cell_type": "code",
   "execution_count": 24,
   "metadata": {},
   "outputs": [
    {
     "data": {
      "text/html": [
       "<div>\n",
       "<style scoped>\n",
       "    .dataframe tbody tr th:only-of-type {\n",
       "        vertical-align: middle;\n",
       "    }\n",
       "\n",
       "    .dataframe tbody tr th {\n",
       "        vertical-align: top;\n",
       "    }\n",
       "\n",
       "    .dataframe thead th {\n",
       "        text-align: right;\n",
       "    }\n",
       "</style>\n",
       "<table border=\"1\" class=\"dataframe\">\n",
       "  <thead>\n",
       "    <tr style=\"text-align: right;\">\n",
       "      <th></th>\n",
       "      <th>message</th>\n",
       "      <th>score</th>\n",
       "    </tr>\n",
       "  </thead>\n",
       "  <tbody>\n",
       "    <tr>\n",
       "      <th>0</th>\n",
       "      <td>A very, very, very slow-moving, aimless movie ...</td>\n",
       "      <td>0</td>\n",
       "    </tr>\n",
       "    <tr>\n",
       "      <th>1</th>\n",
       "      <td>Not sure who was more lost - the flat characte...</td>\n",
       "      <td>0</td>\n",
       "    </tr>\n",
       "    <tr>\n",
       "      <th>2</th>\n",
       "      <td>Attempting artiness with black &amp; white and cle...</td>\n",
       "      <td>0</td>\n",
       "    </tr>\n",
       "    <tr>\n",
       "      <th>3</th>\n",
       "      <td>Very little music or anything to speak of.</td>\n",
       "      <td>0</td>\n",
       "    </tr>\n",
       "    <tr>\n",
       "      <th>4</th>\n",
       "      <td>The best scene in the movie was when Gerardo i...</td>\n",
       "      <td>1</td>\n",
       "    </tr>\n",
       "  </tbody>\n",
       "</table>\n",
       "</div>"
      ],
      "text/plain": [
       "                                             message  score\n",
       "0  A very, very, very slow-moving, aimless movie ...      0\n",
       "1  Not sure who was more lost - the flat characte...      0\n",
       "2  Attempting artiness with black & white and cle...      0\n",
       "3       Very little music or anything to speak of.        0\n",
       "4  The best scene in the movie was when Gerardo i...      1"
      ]
     },
     "execution_count": 24,
     "metadata": {},
     "output_type": "execute_result"
    }
   ],
   "source": [
    "imdb_df.head()"
   ]
  },
  {
   "cell_type": "code",
   "execution_count": 25,
   "metadata": {},
   "outputs": [
    {
     "data": {
      "text/plain": [
       "score\n",
       "0    362\n",
       "1    386\n",
       "Name: message, dtype: int64"
      ]
     },
     "execution_count": 25,
     "metadata": {},
     "output_type": "execute_result"
    }
   ],
   "source": [
    "imdb_df.groupby(\"score\")[\"message\"].count()"
   ]
  },
  {
   "cell_type": "code",
   "execution_count": 26,
   "metadata": {},
   "outputs": [],
   "source": [
    "keywords = ['warnings', 'disaster', 'disappointed', 'terrible', 'underwhelming', \n",
    "           'lacked', 'avoid', 'waste', 'subpar']\n",
    "\n",
    "for key in keywords:\n",
    "    imdb_df[str(key)]=imdb_df.message.str.contains(\n",
    "    ' ' + str(key) + ' ',\n",
    "    case=False\n",
    "    )"
   ]
  },
  {
   "cell_type": "code",
   "execution_count": 27,
   "metadata": {},
   "outputs": [],
   "source": [
    "data_imdb=imdb_df[keywords]\n",
    "target_imdb=imdb_df['score']"
   ]
  },
  {
   "cell_type": "code",
   "execution_count": 28,
   "metadata": {},
   "outputs": [
    {
     "name": "stdout",
     "output_type": "stream",
     "text": [
      "Number of mislabeled points out of a total 748 points : 343\n"
     ]
    }
   ],
   "source": [
    "bnb=BernoulliNB()\n",
    "bnb.fit(data_imdb,target_imdb)\n",
    "y_pred =bnb.predict(data_imdb)\n",
    "print(\"Number of mislabeled points out of a total {} points : {}\".format(\n",
    "    data_imdb.shape[0],\n",
    "    (target_imdb != y_pred).sum()\n",
    "     ))"
   ]
  },
  {
   "cell_type": "markdown",
   "metadata": {},
   "source": [
    "It looks like our model has **~46%** accuracy in identifying negative imdb reviews. It seems chaning data sets diminished our models performance but not by a significant margin."
   ]
  },
  {
   "cell_type": "code",
   "execution_count": 29,
   "metadata": {},
   "outputs": [
    {
     "data": {
      "text/plain": [
       "array([[ 20, 342],\n",
       "       [  1, 385]], dtype=int64)"
      ]
     },
     "execution_count": 29,
     "metadata": {},
     "output_type": "execute_result"
    }
   ],
   "source": [
    "confusion_matrix(target_imdb,y_pred)"
   ]
  },
  {
   "cell_type": "markdown",
   "metadata": {},
   "source": [
    "#### IMDB Results\n",
    "Let's interpret these results:\n",
    "\n",
    "**Hypothesis (H): The selected keywords will correctly classify negative reviews.**\n",
    "\n",
    "**Null Hypothesis (NH): The selected keywords will not correclty classify negative reviews.**\n",
    "\n",
    "**Therefore:**\n",
    "- correctly classifying a negative review as negative is a ***true positive.***\n",
    "- incorrectly classifying a negative review as positive is a ***false negative.***\n",
    "- correctly classifying a positive review as positive is a ***true negative.***\n",
    "- incorrectly classifying a positive review as negative is ***false positive.***\n",
    "\n",
    "**Against the imdb data set my model produced: 20 true positives, 1 false positive, 342 false negatives, and 385 true negatives.**\n",
    "\n",
    "If we focus in on the **false** values it appears this is a *still* a very poor model, by my interpretation. It labeled one of the positive reviews as negative (**false positive**) but again, it labeled a large amount of negative reviews as positive (**false negative**).\n",
    "\n",
    "While performing poorly, the model is consistent.\n"
   ]
  },
  {
   "cell_type": "markdown",
   "metadata": {},
   "source": [
    "#### Manual Confusion Matrix and Calculating Sensitivity and Specificity\n",
    "Here I wanted to practice creating a 'confusion matrix' by hand and then calculate the Sensitivity and the Specificity for my model "
   ]
  },
  {
   "cell_type": "code",
   "execution_count": 30,
   "metadata": {},
   "outputs": [],
   "source": [
    "confusion_matrix = np.array([[20,342],[1,385]], np.int64)"
   ]
  },
  {
   "cell_type": "code",
   "execution_count": 31,
   "metadata": {},
   "outputs": [
    {
     "name": "stdout",
     "output_type": "stream",
     "text": [
      "[[ 20 342]\n",
      " [  1 385]]\n"
     ]
    }
   ],
   "source": [
    "print(confusion_matrix)"
   ]
  },
  {
   "cell_type": "code",
   "execution_count": 32,
   "metadata": {},
   "outputs": [
    {
     "name": "stdout",
     "output_type": "stream",
     "text": [
      "0.9974093264248705\n"
     ]
    }
   ],
   "source": [
    "Sensitivity_imdb = 385/386\n",
    "print(Sensitivity_imdb)"
   ]
  },
  {
   "cell_type": "code",
   "execution_count": 33,
   "metadata": {},
   "outputs": [
    {
     "name": "stdout",
     "output_type": "stream",
     "text": [
      "0.055248618784530384\n"
     ]
    }
   ],
   "source": [
    "Specificity_imdb = 20/362\n",
    "print(Specificity_imdb)"
   ]
  },
  {
   "cell_type": "markdown",
   "metadata": {},
   "source": [
    "At this point I know my model has **very high** ***sensitivity*** and **very low** ***specificity***. My model was designed to identify negative reviews. My model is good at classifying **true negatives** for two different data sets. But against both data sets it was very poor at classifying **true positives**.\n"
   ]
  },
  {
   "cell_type": "code",
   "execution_count": 34,
   "metadata": {},
   "outputs": [
    {
     "name": "stdout",
     "output_type": "stream",
     "text": [
      "Sensitivity_yelp: 1.0   Sensitivity_imdb: 0.9974093264248705\n",
      "Specificity_yelp: 0.05   Specificity_imdb: 0.055248618784530384\n"
     ]
    }
   ],
   "source": [
    "print(\"Sensitivity_yelp:\",Sensitivity_yelp,\" \",\"Sensitivity_imdb:\",Sensitivity_imdb)\n",
    "print(\"Specificity_yelp:\",Specificity_yelp,\" \",\"Specificity_imdb:\",Specificity_imdb)\n"
   ]
  },
  {
   "cell_type": "markdown",
   "metadata": {},
   "source": [
    "#### Testing my model for overfitting\n",
    "\n",
    "Now that we've interpreted my model's performance, let's test it for overfitting. It doesn't look to suffer from overfitting."
   ]
  },
  {
   "cell_type": "code",
   "execution_count": 35,
   "metadata": {},
   "outputs": [
    {
     "name": "stdout",
     "output_type": "stream",
     "text": [
      "With 20% Holdout: 0.48\n",
      "Testing on Sample: 0.525\n"
     ]
    }
   ],
   "source": [
    "X_train, X_test, y_train, y_test = train_test_split(data_yelp,target_yelp, test_size=0.2, random_state=30)\n",
    "print('With 20% Holdout: ' + str(bnb.fit(X_train, y_train).score(X_test, y_test)))\n",
    "print('Testing on Sample: '+ str(bnb.fit(data_yelp,target_yelp).score(data_yelp,target_yelp)))"
   ]
  },
  {
   "cell_type": "code",
   "execution_count": 36,
   "metadata": {},
   "outputs": [
    {
     "data": {
      "text/plain": [
       "array([0.51 , 0.53 , 0.515, 0.52 , 0.52 ])"
      ]
     },
     "execution_count": 36,
     "metadata": {},
     "output_type": "execute_result"
    }
   ],
   "source": [
    "cross_val_score(bnb,data_yelp,target_yelp, cv =5)"
   ]
  },
  {
   "cell_type": "markdown",
   "metadata": {},
   "source": [
    "#### Iterations\n",
    "\n",
    "Let's try and improve our model's performance by selecting new features. Let's re-print our words for quicker reference."
   ]
  },
  {
   "cell_type": "code",
   "execution_count": 37,
   "metadata": {
    "scrolled": true
   },
   "outputs": [
    {
     "name": "stdout",
     "output_type": "stream",
     "text": [
      "{'simply', 'attack', 'teamwork', 'somethat', 'later', 'tracked', 'wrapped', 'mediocre', 'become', 'recently', 'verge', 'visited', 'tater', 'nearly', 'patty', 'devine', 'tasteless', 'completely', 'reduction', 'However', 'compliments', 'Coffee', 'exceptional', 'powdered', 'months', 'Mexican', 'Fantastic', 'palate', 'Before', 'FORWARD', 'almonds', 'anyone', 'coziness', 'restaurant', 'teeth', 'leaves', 'Terrible', 'AVOID', 'reviews', 'pleasure', 'bites', 'douchey', 'Spend', 'inside', 'crazy', 'seriously', 'tribute', 'reasonable', 'provided', 'three', 'AGAIN', 'being', 'sample', 'rubber', 'monster', 'close', 'BARGAIN', 'market', 'shouldn', 'patron', 'Breeze', 'Anyways', 'Jenni', 'Tried', 'gotten', 'lacked', 'unprofessional', 'Macarons', 'sound', 'efficient', 'relleno', 'Mushroom', 'while', 'Ninja', 'Stopped', 'delish', 'latte', 'terrific', 'expected', 'weekend', 'reminded', 'blanket', 'living', 'between', 'world', 'because', 'stayed', 'pricey', 'mouthful', 'blows', 'theft', 'Filet', 'pastas', 'appalling', 'dedicated', 'cocktail', 'sharply', 'arrived', 'sergeant', 'boiled', 'Frozen', 'Bachi', 'multiple', 'passed', 'every', 'privileged', 'anything', 'typical', 'Gyros', 'feels', 'Point', 'flavored', 'appetizers', 'bottom', 'oysters', 'served', 'array', 'small', 'airport', 'bland', 'Bouchon', 'court', 'enjoyed', 'refreshing', 'bodes', 'servers', 'Overall', 'order', 'generic', 'several', 'further', 'nicest', 'Brushfire', 'restaraunt', 'obviously', 'Ramsey', 'outstanding', 'opened', 'services', 'cover', 'without', 'tender', 'great', 'gyros', 'imagination', 'sorely', 'lettuce', 'Hawaiian', 'Total', 'wines', 'Cartel', 'final', 'ambience', 'satisfied', 'Great', 'Despite', 'ensued', 'Costco', 'apology', 'boring', 'Chipotle', 'Mango', 'drenched', 'recommendation', 'Drinks', 'front', 'creamy', 'struggle', 'setting', 'placed', 'forth', 'style', 'topic', 'Chinese', 'pepper', 'pancakes', 'brisket', 'watered', 'underwhelming', 'officially', 'lovely', 'absolutley', 'containers', 'Insults', 'summary', 'indicate', 'special', 'properly', 'Ambience', 'shops', 'fluffy', 'Google', 'crusty', 'Hunan', 'menus', 'Excalibur', 'MANAGEMENT', 'buffets', 'smoke', 'Omelets', 'dressed', 'prepare', 'shrimp', 'joint', 'chipolte', 'consistent', 'pictures', 'deliver', 'Jamaican', 'suggestions', 'margaritas', 'yourself', 'poisoning', 'actually', 'mouths', 'assure', 'Buffet', 'guest', 'always', 'tiramisu', 'favorite', 'forgetting', 'coffee', 'awkward', 'capers', 'wayyy', 'angry', 'enough', 'giant', 'overcooked', 'classics', 'finger', 'Seafood', 'expect', 'establishment', 'dinners', 'convenient', 'Tasted', 'clean', 'serving', 'arrives', 'guess', 'wouldn', 'means', 'quite', 'ESTABLISHMENT', 'making', 'flavorless', 'fairly', 'leave', 'speedy', 'received', 'connoisseur', 'publicly', 'ourselves', 'Bland', 'tartare', 'helped', 'chewy', 'UNREAL', 'absolutely', 'rings', 'heart', 'handling', 'please', 'tenders', 'Green', 'returned', 'frustrated', 'right', 'contain', 'Gordon', 'Perhaps', 'carpaccio', 'ordering', 'boyfriend', 'batter', 'Really', 'Philadelphia', 'charged', 'portion', 'skimp', 'happened', 'thick', 'incredible', 'butter', 'brings', 'relocated', 'Waiter', 'thats', 'space', 'Crystals', 'Service', 'lined', 'frozen', 'finally', 'Everyone', 'Bellagio', 'employee', 'email', 'loyal', 'sliced', 'Gringos', 'anymore', 'maintaining', 'BITCHES', 'parties', 'brother', 'suffers', 'summarize', 'loved', 'meals', 'attitudes', 'someone', 'satifying', 'totally', 'friends', 'delicious', 'Salads', 'OWNERS', 'guests', 'Fridays', 'disgusting', 'bigger', 'itself', 'hello', 'events', 'downtown', 'madhouse', 'remember', 'dripping', 'upgrading', 'signs', 'party', 'Nargile', 'handed', 'inexpensive', 'touched', 'pleasant', 'screwed', 'different', 'themselves', 'proven', 'combos', 'circumstances', 'working', 'cheeseburger', 'tepid', 'soundtrack', 'happy', 'English', 'accomodate', 'climbing', 'INCONSIDERATE', 'overhaul', 'Third', 'exquisite', 'plantains', 'Salad', 'waiter', 'inflate', 'ahead', 'touch', 'acknowledged', 'quickly', 'cheesecurds', 'feeling', 'classic', 'fabulous', 'doing', 'loves', 'These', 'comfortable', 'HANDS', 'still', 'subpar', 'owner', 'attached', 'bamboo', 'Probably', 'voted', 'looking', 'disrespected', 'common', 'largely', 'looked', 'golden', 'Definitely', 'changing', 'slices', 'vegetarian', 'claimed', 'gloves', 'soggy', 'until', 'yellowtail', 'mortified', 'afternoon', 'Loved', 'drinking', 'giving', 'especially', 'opposed', 'Needless', 'Today', 'relationship', 'dessert', 'warnings', 'industry', 'kitchen', 'Burger', 'average', 'Based', 'orders', 'chocolate', 'puréed', 'juice', 'Risotto', 'break', 'stale', 'Seriously', 'drunk', 'proclaimed', 'Special', 'nachos', 'tongue', 'daughter', 'possible', 'ambiance', 'Buldogis', 'putting', 'experience', 'wound', 'prices', 'mostly', 'Lastly', 'bother', 'yucky', 'Unfortunately', 'contained', 'Tucson', 'cooked', 'receives', 'couple', 'chefs', 'decided', 'pancake', 'basically', 'drawing', 'friend', 'pastry', 'employees', 'disgusted', 'undercooked', 'despicable', 'dough', 'wasting', 'Sunday', 'enthusiastic', 'ranch', 'unbelievably', 'everywhere', 'flavor', 'Pineapple', 'sandwich', 'seasoning', 'decorated', 'quantity', 'surprise', 'insanely', 'CONCLUSION', 'Eclectic', 'reasonably', 'middle', 'missing', 'fantastic', 'profound', 'disgraceful', 'venturing', 'lacking', 'texture', 'vegan', 'terrible', 'server', 'reasons', 'included', 'companions', 'Scottsdale', 'complaints', 'entire', 'grilled', 'Overpriced', 'manager', 'downright', 'started', 'Paying', 'block', 'After', 'apologize', 'Maybe', 'rancheros', 'across', 'anticipated', 'meatloaf', 'covers', 'serve', 'listed', 'worse', 'staying', 'cannot', 'steakhouse', 'melted', 'There', 'appealing', 'Mirage', 'puree', 'charcoal', 'decor', 'positive', 'wrong', 'difference', 'attentive', 'hardly', 'grandmother', 'decision', 'funny', 'easily', 'holiday', 'bellies', 'saving', 'empty', 'songs', 'burgers', 'leftover', 'unsatisfying', 'girlfriend', 'hostess', 'dipping', 'GREAT', 'FLAVOR', 'donut', 'prefer', 'others', 'Chicken', 'definately', 'lukewarm', 'dispenser', 'Delicious', 'smooth', 'extra', 'pulled', 'calamari', 'degree', 'nasty', 'juries', 'lovers', 'crowd', 'delight', 'getting', 'ethic', 'lightly', 'recall', 'salad', 'fails', 'North', 'sause', 'vanilla', 'promptly', 'greatest', 'informative', 'owners', 'liking', 'Magic', 'solidify', 'expensive', 'couldn', 'arepas', 'choux', 'article', 'desired', 'Pizza', 'Weird', 'section', 'approval', 'delivery', 'coconut', 'offers', 'Worse', 'ended', 'disappoint', 'sewer', 'think', 'callings', 'cheated', 'vegetables', 'cheap', 'unhealthy', 'tastings', 'APPETIZERS', 'mains', 'charge', 'asked', 'imaginative', 'peanuts', 'stars', 'dining', 'something', 'traditional', 'fuzzy', 'sense', 'banana', 'edible', 'words', 'strings', 'walked', 'plain', 'water', 'dusted', 'caterpillar', 'piano', 'Anyway', 'people', 'kiddos', 'stomach', 'found', 'sitting', 'platter', 'spices', 'complete', 'vinaigrette', 'event', 'describing', 'Generous', 'crawfish', 'sucks', 'struck', 'peanut', 'promise', 'disapppointment', 'apple', 'fried', 'greedy', 'count', 'rating', 'located', 'tough', 'breakfast', 'letting', 'inspired', 'understand', 'brunch', 'brought', 'double', 'pissd', 'worries', 'instead', 'effort', 'choose', 'warmer', 'these', 'today', 'NASTY', 'service', 'impressive', 'courteous', 'outdoor', 'Caballero', 'lighter', 'about', 'cranberry', 'simple', 'atrocious', 'Smashburger', 'ground', 'dishes', 'occasions', 'boxes', 'experiencing', 'incredibly', 'SHOULD', 'ribeye', 'checked', 'unwrapped', 'sweet', 'anytime', 'whether', 'lived', 'twice', 'pasta', 'nutshell', 'insulted', 'family', 'Lordy', 'neither', 'wagyu', 'genuinely', 'jalapeno', 'coming', 'impressed', 'FREEZING', 'better', 'seated', 'falling', 'seems', 'parents', 'friendly', 'yellow', 'Interesting', 'below', 'talking', 'grease', 'gross', 'driving', 'gristle', 'since', 'dealing', 'performed', 'green', 'filling', 'tailored', 'spring', 'dirty', 'highlight', 'moods', 'uninspired', 'rapidly', 'Denny', 'another', '40min', 'WASTE', 'opportunity', 'sugary', 'potato', 'profiterole', 'pumpkin', 'ladies', 'burger', 'saying', 'spicy', 'regularly', 'toasted', 'prompt', 'charming', 'certainly', 'Madison', 'poured', 'lawyers', 'ignore', 'gluten', 'meatballs', 'chicken', 'batch', 'cashier', 'times', 'glass', 'Stars', 'finish', 'Tasty', 'descriptions', 'strange', 'grocery', 'fruit', 'focused', 'Ample', 'overwhelmed', 'forever', 'music', 'eaten', 'strangers', 'hella', 'fireball', 'cashew', 'seasoned', 'fiancé', 'trips', 'lunch', 'single', 'Attack', 'extremely', 'letdown', 'eggplant', 'foods', 'onion', 'Perfect', 'Steak', 'rarely', 'smeared', 'register', 'Honestly', 'round', 'worker', 'deuchebaggery', 'soooo', 'interesting', 'buffet', 'greeted', 'never', 'relaxed', 'bartender', 'piece', 'reminds', 'Mediterranean', 'reviewer', 'beautiful', 'PEOPLE', 'everything', 'Tigerlilly', 'reheated', 'enjoy', 'usual', 'Valley', 'Baseball', 'serves', 'seasonal', 'veggie', 'person', 'complain', 'price', 'mention', 'tried', 'occasional', 'particular', 'authentic', 'dates', 'multi', 'worst', 'Wienerschnitzel', 'groups', 'summer', 'bring', 'seafood', 'connisseur', 'mussels', 'Place', 'Steve', 'there', 'plate', 'stinks', 'beateous', 'second', 'staff', 'rolls', 'concern', 'hungry', 'interior', 'Soups', 'Veggitarian', 'petty', 'maybe', 'rudely', 'roast', 'tasted', 'BLAND', 'nothing', 'velvet', 'croutons', 'unique', 'street', 'memory', 'vacant', 'Favorite', 'crispy', 'Thoroughly', 'place', 'beers', 'Greek', 'LEGIT', 'Vegetarian', 'Cotta', 'spotty', 'dreamed', 'apart', 'pricing', 'bathrooms', 'decent', 'quick', 'colder', 'around', 'highly', 'winner', 'fella', 'Level', 'First', 'avoid', 'Always', 'combination', 'website', 'replenished', 'perpared', 'modern', 'highlights', 'Disappointed', 'Pricing', 'Bussell', 'Carly', 'rather', 'pneumatic', 'return', 'exactly', 'delights', 'Maria', 'disbelief', 'literally', 'Dessert', 'extensive', 'Worst', 'crumby', 'neighborhood', 'lighting', 'arriving', 'greasy', 'fondue', 'BETTER', 'atmosphere', 'movies', 'really', 'experienced', 'chickens', 'Camelback', 'awful', 'vomited', 'behind', 'satisfying', 'waited', 'drive', 'meats', 'mixed', 'Frenchman', 'untoasted', 'college', 'handled', 'night', 'decide', 'Large', 'bartenders', 'wontons', 'least', 'outta', 'shall', 'supposed', 'myself', 'group', 'needs', 'Sushi', 'stepped', 'Paradise', 'healthy', 'elegantly', 'Vegas', 'Gourmet', 'ravoli', 'overpriced', 'Tonight', 'plastic', 'beans', 'Coming', 'customers', 'loudly', 'ratio', 'binge', 'Voodoo', 'outrageously', 'beauty', 'takeout', 'thinly', 'highlighted', 'given', 'shoots', 'doubt', 'serivce', 'Company', 'deliciously', 'Ganoush', 'expectations', 'crepe', 'papers', 'ignored', 'after', 'sangria', 'smelled', 'indoor', 'tolerance', 'point', 'cheese', 'under', 'Mediocre', 'husband', 'Bunch', 'operation', 'flavorful', 'leather', 'dropped', 'favor', 'unexperienced', 'patio', 'instantly', 'gooodd', 'unfortunately', 'hardest', 'begin', 'perfection', 'honest', 'whatsoever', 'tables', 'homemade', 'bagels', 'tomato', 'brownish', 'hilarious', 'shawarrrrrrma', 'wildly', 'fellow', 'running', 'problem', 'crisp', 'Edinburgh', 'negligent', 'Kabuki', 'polite', 'curry', 'preparing', 'black', 'Italian', 'awesome', 'stood', 'showed', 'wanted', 'sticks', 'tapas', 'Everything', 'biggest', 'sandwiches', 'jewel', 'might', 'writing', 'either', 'money', 'elsewhere', 'waste', 'moist', 'drastically', 'sucker', 'missed', 'again', 'added', 'barely', 'thirty', 'Steiners', 'sashimi', 'Horrible', 'welcome', 'options', 'Furthermore', 'freaking', 'visit', 'grain', 'tartar', 'judge', 'Strike', 'building', 'legit', 'truffle', 'Heimer', 'customize', 'cocktails', 'Update', 'rolled', 'hands', 'Plater', 'roasted', 'owned', 'gratitude', 'hummus', 'hottest', 'needed', 'biscuit', 'believe', 'sauce', 'bread', 'Restaurant', 'milkshake', 'craving', 'although', 'wonderful', 'treated', 'liked', 'delicioso', 'sunglasses', 'Appetite', 'rushed', 'similar', 'version', 'relax', 'smells', 'gratuity', 'color', 'scene', 'hopes', 'hours', 'accountant', 'stretch', 'annoying', 'larger', 'spots', 'tasty', 'perfect', 'Yelpers', 'driest', 'swung', 'OVERPRICED', 'correct', 'vodka', 'tummy', 'whenever', 'Grill', 'flavourful', 'yukon', 'Things', 'folks', 'Awesome', 'spinach', 'blown', 'Shrimp', 'bathroom', 'calligraphy', 'cakes', 'stuff', 'guacamole', 'company', 'drinks', 'priced', 'pretty', 'plethora', 'extraordinary', 'wings', 'Japanese', 'above', 'cream', 'Nothing', 'unbelievable', 'thrilled', 'accordingly', 'picture', 'review', 'should', 'sucked', 'specials', 'WORST', 'olives', 'disaster', 'affordable', 'Standard', 'ripped', 'raspberry', 'course', 'Experience', 'disappointing', 'station', 'works', 'reason', 'thanks', 'thumbs', 'prime', 'Halibut', 'towards', 'ingredients', 'pizzas', 'transcendant', 'strawberry', 'things', 'styrofoam', 'everyone', 'forty', 'Lemon', 'LOVED', 'dollars', 'steaks', 'Classy', 'exceeding', 'apparently', 'refill', 'scallop', 'Sauce', 'poorly', 'Their', 'third', 'places', 'Honeslty', 'strip', 'doughy', 'overall', 'Casino', 'military', 'salads', 'pecan', 'rowdy', 'imagine', 'NEVER', 'quaint', 'hurry', 'business', 'fancy', 'looks', 'power', 'martini', 'rotating', 'Hands', 'presentation', 'Although', 'cooking', 'imagined', 'discount', 'trimmed', 'Nicest', 'almost', 'honor', 'restaurants', 'outside', 'Lobster', 'otherwise', 'Outstanding', 'shocked', 'Prices', 'disappointed', 'blandest', 'Those', 'Burrittos', 'amount', 'cramming', 'desserts', 'hated', 'revisiting', 'Extremely', 'amazing', 'caring', 'recent', 'Waitress', 'disgrace', 'Heart', 'saffron', 'Similarly', 'somewhat', 'Cooked', 'providing', 'taste', 'hooked', 'allergy', 'including', 'would', 'saganaki', 'caught', 'spaghetti', 'fucking', 'hamburger', 'huevos', 'treat', 'somehow', 'mozzarella', 'Toast', 'bacon', 'value', 'belly', 'falafels', 'loving', 'haunt', 'combo', 'Bloody', 'bruschetta', 'Disappointing', 'Bacon', 'Mellow', 'known', 'killer', 'SCREAMS', 'postinos', 'handmade', 'salty', 'potatoes', 'going', 'Owner', 'DELICIOUS', 'breaks', 'together', 'expanded', 'pears', 'fillet', 'white', 'tacos', 'Couldn', 'those', 'constructed', 'absolute', 'packed', 'eating', 'covered', 'surprised', 'Flower', 'corporation', 'HAPPENED', 'professional', 'during', 'suggest', 'personally', 'impeccable', 'heard', 'managed', 'Avoid', 'garlic', 'massive', 'continue', 'awkwardly', 'flair', 'alone', 'Never', 'reviewing', 'Magazine', 'Strip', 'watch', 'daily', 'Ordered', 'grossed', 'ridiculous', 'avocado', 'Dylan', 'cuisine', 'dinner', 'Panna', 'crowds', 'limited', 'Sadly', 'selection', 'playing', 'sides', 'entrees', 'excellent', 'workers', 'judging', 'Check', 'table', 'salsa', 'refried', 'sushi', 'deeply', 'trippy', 'walls', 'redeeming', 'Francisco', 'before', 'worth', 'spicier', 'Penne', 'wasted', 'starving', 'Awful', 'provides', 'selections', 'flirting', 'Firehouse', 'stupid', 'Christmas', 'chains', 'store', 'outshining', 'customer', 'unwelcome', 'wedges', 'management', 'blame', 'Bisque', 'reservation', 'wants', 'recommending', 'considering', 'metro', 'bunch', 'longer', 'thought', 'could', 'Caesar', 'unless', 'weekly', 'quality', 'condiment', 'andddd', 'expert', 'steak', 'solid', 'recommend', 'ventilation', 'EXPERIENCE', 'appetizer', 'Pretty', 'beyond', 'Which', 'seating', 'downside', 'consider', 'Every', 'Please', 'couples', 'cheek', 'famous', 'dressing', 'immediately', 'accommodations', 'first', 'regular', 'weren', 'Waited', 'salmon', 'rated', 'Crust', 'peach', 'chips', 'concept', 'Maine', 'Sprouts', 'Phenomenal', 'happier', 'qualified', 'ordered', 'godfathers', 'honestly', 'enjoyable', 'businesses', 'which', 'pucks', 'pizza', 'prepared', 'bought', 'number', 'super', 'truly', 'haven', 'southwest', 'drink', 'raving', 'airline', 'recommended', 'accident', 'helpful', 'venue', 'light', 'Friend', 'thinking', 'witnessed', 'check', 'reading', 'spice', 'Subway', 'other', 'bloddy', 'smaller', 'yummy', 'hearts', 'fries', 'sporting', 'FANTASTIC', 'marrow', 'little', 'readers', 'hankering', 'uploaded', 'older', 'short', 'fresh', 'Albondigas', 'years', 'Mandalay', 'burned', 'PERFECT', 'shopping', 'Phoenix', 'correction', 'probably', 'Server', 'lover', 'bucks', 'personable', 'seemed', 'heads', 'refrained', 'disagree', 'their', 'though', 'garden', 'biscuits', 'carbs', 'realized', 'disgust', 'glance', 'turkey', 'stuffed', 'grill', 'crust', 'Customer', 'muffin', 'flavors', 'WAAAAAAyyyyyyyyy', 'public', 'excuse', 'baklava', 'large', 'closed', 'offered', 'minutes', 'waitress', 'venture', 'soooooo', 'Thumbs', 'delightful', 'whole', 'spends', 'sever', 'pleased', 'attention', 'human', 'bloodiest', 'brick', 'beautifully', 'Delight', 'buying', 'shower', 'sauces', 'sugar', 'disappointment', 'cannoli', 'location', 'house', 'succulent', 'diverse', 'bakery', 'evening', 'trying', 'delicate', 'perfectly', 'Would', 'cavier', 'returning', 'vinegrette', 'Sooooo', 'familiar', 'nigiri', 'tragedy', 'Crema', 'dried', 'horrible', 'hospitality', 'watched', 'refused', 'coupons', 'crêpe', 'portions', 'medium', 'mistake', 'Indian', 'mojitos', 'humiliated', 'STALE', 'likes', 'rinse', 'generous', 'requested', 'definitely', 'Ironman', 'asking', 'hereas', 'figured', 'original', 'waitresses', 'hoping', 'Eggplant', 'noodles', 'deserves', 'thing', 'cause', 'mesquite', 'besides', 'Sorry', 'Wonderful', 'violinists', 'actual', 'inviting', 'greens', 'Soggy', 'Hopefully', 'Highly', 'mouth', 'editing', 'REALLY', 'TOTAL', 'silently', 'Crostini', 'where', 'whelm', 'shots', 'class', 'waiting', 'having', 'avoided', 'petrified', 'mushrooms', 'smoothies', 'paper', 'Reasonably', 'shirt', 'opinion', 'equally'}\n"
     ]
    }
   ],
   "source": [
    "print(just_words)"
   ]
  },
  {
   "cell_type": "markdown",
   "metadata": {},
   "source": [
    "### Model V2\n"
   ]
  },
  {
   "cell_type": "code",
   "execution_count": 38,
   "metadata": {},
   "outputs": [],
   "source": [
    "data_path = (\"C:\\\\yelp_labelled.txt\")\n",
    "yelp_v2_df = pd.read_csv(data_path, delimiter= '\\t', header=None)\n",
    "yelp_v2_df.columns = ['message', 'score']"
   ]
  },
  {
   "cell_type": "code",
   "execution_count": 39,
   "metadata": {},
   "outputs": [],
   "source": [
    "keywords_v2 = ['deliciously', 'super', 'GREAT', 'PERFECT', 'flavorful', 'awesome', \n",
    "               'recommend', 'unique', 'pleasant', 'incredible', 'suggest',  \n",
    "              'connoisseur', 'Delight']\n",
    "\n",
    "for key in keywords_v2:\n",
    "    yelp_v2_df[str(key)]=yelp_v2_df.message.str.contains(\n",
    "    ' ' + str(key) + ' ',\n",
    "    case=False\n",
    "    )"
   ]
  },
  {
   "cell_type": "code",
   "execution_count": 40,
   "metadata": {},
   "outputs": [
    {
     "data": {
      "text/html": [
       "<div>\n",
       "<style scoped>\n",
       "    .dataframe tbody tr th:only-of-type {\n",
       "        vertical-align: middle;\n",
       "    }\n",
       "\n",
       "    .dataframe tbody tr th {\n",
       "        vertical-align: top;\n",
       "    }\n",
       "\n",
       "    .dataframe thead th {\n",
       "        text-align: right;\n",
       "    }\n",
       "</style>\n",
       "<table border=\"1\" class=\"dataframe\">\n",
       "  <thead>\n",
       "    <tr style=\"text-align: right;\">\n",
       "      <th></th>\n",
       "      <th>message</th>\n",
       "      <th>score</th>\n",
       "      <th>deliciously</th>\n",
       "      <th>super</th>\n",
       "      <th>GREAT</th>\n",
       "      <th>PERFECT</th>\n",
       "      <th>flavorful</th>\n",
       "      <th>awesome</th>\n",
       "      <th>recommend</th>\n",
       "      <th>unique</th>\n",
       "      <th>pleasant</th>\n",
       "      <th>incredible</th>\n",
       "      <th>suggest</th>\n",
       "      <th>connoisseur</th>\n",
       "      <th>Delight</th>\n",
       "    </tr>\n",
       "  </thead>\n",
       "  <tbody>\n",
       "  </tbody>\n",
       "</table>\n",
       "</div>"
      ],
      "text/plain": [
       "Empty DataFrame\n",
       "Columns: [message, score, deliciously, super, GREAT, PERFECT, flavorful, awesome, recommend, unique, pleasant, incredible, suggest, connoisseur, Delight]\n",
       "Index: []"
      ]
     },
     "execution_count": 40,
     "metadata": {},
     "output_type": "execute_result"
    }
   ],
   "source": [
    "yelp_v2_df.head(0)"
   ]
  },
  {
   "cell_type": "code",
   "execution_count": 41,
   "metadata": {},
   "outputs": [
    {
     "data": {
      "text/plain": [
       "score\n",
       "0    500\n",
       "1    500\n",
       "Name: message, dtype: int64"
      ]
     },
     "execution_count": 41,
     "metadata": {},
     "output_type": "execute_result"
    }
   ],
   "source": [
    "yelp_v2_df.groupby(\"score\")[\"message\"].count()"
   ]
  },
  {
   "cell_type": "code",
   "execution_count": 42,
   "metadata": {},
   "outputs": [
    {
     "data": {
      "text/plain": [
       "<matplotlib.axes._subplots.AxesSubplot at 0xdd63a50>"
      ]
     },
     "execution_count": 42,
     "metadata": {},
     "output_type": "execute_result"
    },
    {
     "data": {
      "image/png": "[encoded data removed]",
      "text/plain": [
       "<Figure size 432x288 with 2 Axes>"
      ]
     },
     "metadata": {
      "needs_background": "light"
     },
     "output_type": "display_data"
    }
   ],
   "source": [
    "sns.heatmap(yelp_v2_df.corr(),square=True)"
   ]
  },
  {
   "cell_type": "code",
   "execution_count": 43,
   "metadata": {},
   "outputs": [],
   "source": [
    "data_yelp_v2=yelp_v2_df[keywords_v2]\n",
    "target_yelp_v2=yelp_v2_df['score']"
   ]
  },
  {
   "cell_type": "code",
   "execution_count": 44,
   "metadata": {},
   "outputs": [
    {
     "name": "stdout",
     "output_type": "stream",
     "text": [
      "Number of mislabeled points out of a total 1000 points : 443\n"
     ]
    }
   ],
   "source": [
    "bnb=BernoulliNB()\n",
    "bnb.fit(data_yelp_v2,target_yelp_v2)\n",
    "y_pred =bnb.predict(data_yelp_v2)\n",
    "print(\"Number of mislabeled points out of a total {} points : {}\".format(\n",
    "    data_yelp_v2.shape[0],\n",
    "    (target_yelp_v2 != y_pred).sum()\n",
    "     ))"
   ]
  },
  {
   "cell_type": "markdown",
   "metadata": {},
   "source": [
    "It looks like our model has **~56%** accuracy in identifying positive yelp reviews. Let's take a look at our confusion matrix."
   ]
  },
  {
   "cell_type": "code",
   "execution_count": 45,
   "metadata": {},
   "outputs": [
    {
     "data": {
      "text/plain": [
       "array([[493,   7],\n",
       "       [436,  64]], dtype=int64)"
      ]
     },
     "execution_count": 45,
     "metadata": {},
     "output_type": "execute_result"
    }
   ],
   "source": [
    "from sklearn.metrics import confusion_matrix\n",
    "confusion_matrix(target_yelp_v2,y_pred)"
   ]
  },
  {
   "attachments": {},
   "cell_type": "markdown",
   "metadata": {},
   "source": [
    "#### YELP_V2 Results\n",
    "Let's interpret these results:\n",
    "\n",
    "**Hypothesis (H): The selected keywords will correctly classify positive reviews.**\n",
    "\n",
    "**Null Hypothesis (NH): The selected keywords will not correclty classify positive reviews.**\n",
    "\n",
    "**Therefore:**\n",
    "- correctly classifying a positive review as positive is a ***true positive.***\n",
    "- incorrectly classifying a positive review as negative is a ***false negative.***\n",
    "- correctly classifying a negative review as negative is a ***true negative.***\n",
    "- incorrectly classifying a negative review as positive is ***false positive.***\n",
    "\n",
    "**Against the yelp data set my model produced: 493 true positives, 444 false positives, 7 false negatives, and 56 true negatives.**\n",
    "\n",
    "Now, if we focus in on the **positive** values it appears this continues to be a very poor model, by my interpretation. It correctly labeled a large amount of positive reviews but had an almost equal number of  negative reviews labeled positive (**false positive**). So what's going on here?\n"
   ]
  },
  {
   "cell_type": "code",
   "execution_count": 46,
   "metadata": {},
   "outputs": [
    {
     "name": "stdout",
     "output_type": "stream",
     "text": [
      "0.128\n"
     ]
    }
   ],
   "source": [
    "Sensitivity_yelp_v2 = 64/500\n",
    "print(Sensitivity_yelp_v2)"
   ]
  },
  {
   "cell_type": "code",
   "execution_count": 47,
   "metadata": {},
   "outputs": [
    {
     "name": "stdout",
     "output_type": "stream",
     "text": [
      "0.986\n"
     ]
    }
   ],
   "source": [
    "Specificity_yelp_v2 = 493/500\n",
    "print(Specificity_yelp_v2)"
   ]
  },
  {
   "cell_type": "markdown",
   "metadata": {},
   "source": [
    "#### Testing my model for overfitting\n",
    "\n",
    "Now that we've interpreted my model's performance, let's test it for overfitting. It doesn't look to suffer from overfitting."
   ]
  },
  {
   "cell_type": "code",
   "execution_count": 48,
   "metadata": {},
   "outputs": [
    {
     "name": "stdout",
     "output_type": "stream",
     "text": [
      "With 20% Holdout: 0.56\n",
      "Testing on Sample: 0.557\n"
     ]
    }
   ],
   "source": [
    "X_train, X_test, y_train, y_test = train_test_split(data_yelp_v2,target_yelp_v2, test_size=0.2, random_state=30)\n",
    "print('With 20% Holdout: ' + str(bnb.fit(X_train, y_train).score(X_test, y_test)))\n",
    "print('Testing on Sample: '+ str(bnb.fit(data_yelp_v2,target_yelp_v2).score(data_yelp_v2,target_yelp_v2)))"
   ]
  },
  {
   "cell_type": "code",
   "execution_count": 49,
   "metadata": {},
   "outputs": [
    {
     "data": {
      "text/plain": [
       "array([0.56 , 0.515, 0.53 , 0.575, 0.59 ])"
      ]
     },
     "execution_count": 49,
     "metadata": {},
     "output_type": "execute_result"
    }
   ],
   "source": [
    "cross_val_score(bnb,data_yelp_v2,target_yelp_v2, cv =5)"
   ]
  },
  {
   "cell_type": "markdown",
   "metadata": {},
   "source": [
    "### Model V3"
   ]
  },
  {
   "cell_type": "code",
   "execution_count": 50,
   "metadata": {},
   "outputs": [],
   "source": [
    "data_path = (\"C:\\\\yelp_labelled.txt\")\n",
    "yelp_v3_df = pd.read_csv(data_path, delimiter= '\\t', header=None)\n",
    "yelp_v3_df.columns = ['message', 'score']"
   ]
  },
  {
   "cell_type": "code",
   "execution_count": 51,
   "metadata": {},
   "outputs": [],
   "source": [
    "keywords_v3 = ['super', 'GREAT', 'flavorful', 'awesome', \n",
    "               'recommend', 'unique', 'pleasant', 'incredible', 'suggest', 'connoisseur', \n",
    "               'Delight', 'warnings', 'disaster', 'disappointed', 'terrible', 'underwhelming', \n",
    "               'lacked', 'avoid', 'waste', 'subpar']\n",
    "\n",
    "for key in keywords_v3:\n",
    "    yelp_v3_df[str(key)]=yelp_v3_df.message.str.contains(\n",
    "    ' ' + str(key) + ' ',\n",
    "    case=False\n",
    "    )"
   ]
  },
  {
   "cell_type": "code",
   "execution_count": 52,
   "metadata": {},
   "outputs": [
    {
     "data": {
      "text/html": [
       "<div>\n",
       "<style scoped>\n",
       "    .dataframe tbody tr th:only-of-type {\n",
       "        vertical-align: middle;\n",
       "    }\n",
       "\n",
       "    .dataframe tbody tr th {\n",
       "        vertical-align: top;\n",
       "    }\n",
       "\n",
       "    .dataframe thead th {\n",
       "        text-align: right;\n",
       "    }\n",
       "</style>\n",
       "<table border=\"1\" class=\"dataframe\">\n",
       "  <thead>\n",
       "    <tr style=\"text-align: right;\">\n",
       "      <th></th>\n",
       "      <th>message</th>\n",
       "      <th>score</th>\n",
       "      <th>super</th>\n",
       "      <th>GREAT</th>\n",
       "      <th>flavorful</th>\n",
       "      <th>awesome</th>\n",
       "      <th>recommend</th>\n",
       "      <th>unique</th>\n",
       "      <th>pleasant</th>\n",
       "      <th>incredible</th>\n",
       "      <th>...</th>\n",
       "      <th>Delight</th>\n",
       "      <th>warnings</th>\n",
       "      <th>disaster</th>\n",
       "      <th>disappointed</th>\n",
       "      <th>terrible</th>\n",
       "      <th>underwhelming</th>\n",
       "      <th>lacked</th>\n",
       "      <th>avoid</th>\n",
       "      <th>waste</th>\n",
       "      <th>subpar</th>\n",
       "    </tr>\n",
       "  </thead>\n",
       "  <tbody>\n",
       "  </tbody>\n",
       "</table>\n",
       "<p>0 rows × 22 columns</p>\n",
       "</div>"
      ],
      "text/plain": [
       "Empty DataFrame\n",
       "Columns: [message, score, super, GREAT, flavorful, awesome, recommend, unique, pleasant, incredible, suggest, connoisseur, Delight, warnings, disaster, disappointed, terrible, underwhelming, lacked, avoid, waste, subpar]\n",
       "Index: []\n",
       "\n",
       "[0 rows x 22 columns]"
      ]
     },
     "execution_count": 52,
     "metadata": {},
     "output_type": "execute_result"
    }
   ],
   "source": [
    "yelp_v3_df.head(0)"
   ]
  },
  {
   "cell_type": "code",
   "execution_count": 53,
   "metadata": {},
   "outputs": [
    {
     "data": {
      "text/plain": [
       "score\n",
       "0    500\n",
       "1    500\n",
       "Name: message, dtype: int64"
      ]
     },
     "execution_count": 53,
     "metadata": {},
     "output_type": "execute_result"
    }
   ],
   "source": [
    "yelp_v3_df.groupby(\"score\")[\"message\"].count()"
   ]
  },
  {
   "cell_type": "code",
   "execution_count": 54,
   "metadata": {},
   "outputs": [
    {
     "data": {
      "text/plain": [
       "<matplotlib.axes._subplots.AxesSubplot at 0xdd63a70>"
      ]
     },
     "execution_count": 54,
     "metadata": {},
     "output_type": "execute_result"
    },
    {
     "data": {
      "image/png": "[encoded data removed]",
      "text/plain": [
       "<Figure size 432x288 with 2 Axes>"
      ]
     },
     "metadata": {
      "needs_background": "light"
     },
     "output_type": "display_data"
    }
   ],
   "source": [
    "sns.heatmap(yelp_v3_df.corr())"
   ]
  },
  {
   "cell_type": "code",
   "execution_count": 55,
   "metadata": {},
   "outputs": [],
   "source": [
    "data_yelp_v3=yelp_v3_df[keywords_v3]\n",
    "target_yelp_v3=yelp_v3_df['score']"
   ]
  },
  {
   "cell_type": "code",
   "execution_count": 56,
   "metadata": {},
   "outputs": [
    {
     "name": "stdout",
     "output_type": "stream",
     "text": [
      "Number of mislabeled points out of a total 1000 points : 447\n"
     ]
    }
   ],
   "source": [
    "bnb=BernoulliNB()\n",
    "bnb.fit(data_yelp_v3,target_yelp_v3)\n",
    "y_pred =bnb.predict(data_yelp_v3)\n",
    "print(\"Number of mislabeled points out of a total {} points : {}\".format(\n",
    "    data_yelp_v3.shape[0],\n",
    "    (target_yelp_v3 != y_pred).sum()\n",
    "     ))"
   ]
  },
  {
   "cell_type": "markdown",
   "metadata": {},
   "source": [
    "It looks like our model's accuracy remains **~55%** accuracy in identifying any type of yelp review, positive or negative. Now, let's take a look at our confusion matrix"
   ]
  },
  {
   "cell_type": "code",
   "execution_count": 57,
   "metadata": {},
   "outputs": [
    {
     "data": {
      "text/plain": [
       "array([[493,   7],\n",
       "       [440,  60]], dtype=int64)"
      ]
     },
     "execution_count": 57,
     "metadata": {},
     "output_type": "execute_result"
    }
   ],
   "source": [
    "from sklearn.metrics import confusion_matrix\n",
    "confusion_matrix(target_yelp_v3,y_pred)"
   ]
  },
  {
   "cell_type": "markdown",
   "metadata": {},
   "source": [
    "#### YELP_V3 Results\n",
    "\n",
    "Let's interpret these results:\n",
    "\n",
    "**Hypothesis (H): The selected keywords will correctly classify positive or negative reviews.**\n",
    "\n",
    "**Null Hypothesis (NH): The selected keywords will not correctly classify negative or positive reviews.**\n",
    "\n",
    "**Therefore:**\n",
    "- correctly classifying a review is a ***true positive*** or a ***true negative***.\n",
    "- incorrectly classifying a review is a ***false negative*** or a ***false positive***. \n",
    "\n",
    "**Against the yelp data set my model produced: 493 true positives, 440 false positives, 7 false negatives, and 60 true negatives.**\n",
    "\n",
    "The model's performance marginally decreased when the **\"positive\"** words and the **\"negative\"** words were combined. It appears that having a variety of words did not improve performance. The question is have I just not identified the right words?\n",
    "\n"
   ]
  },
  {
   "cell_type": "code",
   "execution_count": 58,
   "metadata": {},
   "outputs": [
    {
     "name": "stdout",
     "output_type": "stream",
     "text": [
      "0.12\n"
     ]
    }
   ],
   "source": [
    "Sensitivity_yelp_v3 = 60/500\n",
    "print(Sensitivity_yelp_v3)"
   ]
  },
  {
   "cell_type": "code",
   "execution_count": 59,
   "metadata": {},
   "outputs": [
    {
     "name": "stdout",
     "output_type": "stream",
     "text": [
      "0.986\n"
     ]
    }
   ],
   "source": [
    "Specificity_yelp_v3 = 493/500\n",
    "print(Specificity_yelp_v3)"
   ]
  },
  {
   "cell_type": "markdown",
   "metadata": {},
   "source": [
    "#### Testing my model for overfitting\n",
    "\n",
    "Now that we've interpreted my model's performance, let's test it for overfitting. It doesn't look to suffer from overfitting."
   ]
  },
  {
   "cell_type": "code",
   "execution_count": 60,
   "metadata": {},
   "outputs": [
    {
     "name": "stdout",
     "output_type": "stream",
     "text": [
      "With 20% Holdout: 0.56\n",
      "Testing on Sample: 0.553\n"
     ]
    }
   ],
   "source": [
    "X_train, X_test, y_train, y_test = train_test_split(data_yelp_v3,target_yelp_v3, test_size=0.2, random_state=30)\n",
    "print('With 20% Holdout: ' + str(bnb.fit(X_train, y_train).score(X_test, y_test)))\n",
    "print('Testing on Sample: '+ str(bnb.fit(data_yelp_v3,target_yelp_v3).score(data_yelp_v3,target_yelp_v3)))"
   ]
  },
  {
   "cell_type": "code",
   "execution_count": 61,
   "metadata": {},
   "outputs": [
    {
     "data": {
      "text/plain": [
       "array([0.56 , 0.515, 0.52 , 0.565, 0.585])"
      ]
     },
     "execution_count": 61,
     "metadata": {},
     "output_type": "execute_result"
    }
   ],
   "source": [
    "cross_val_score(bnb,data_yelp_v3,target_yelp_v3, cv =5)"
   ]
  },
  {
   "cell_type": "markdown",
   "metadata": {},
   "source": [
    "### Model V4"
   ]
  },
  {
   "cell_type": "code",
   "execution_count": 62,
   "metadata": {},
   "outputs": [],
   "source": [
    "data_path = (\"C:\\\\yelp_labelled.txt\")\n",
    "yelp_v4_df = pd.read_csv(data_path, delimiter= '\\t', header=None)\n",
    "yelp_v4_df.columns = ['message', 'score']"
   ]
  },
  {
   "cell_type": "code",
   "execution_count": 63,
   "metadata": {},
   "outputs": [],
   "source": [
    "yelp_v4_df['allcaps'] = yelp_v4_df.message.str.isupper()\n",
    "keywords_v4 = ['super', 'flavorful', 'awesome', 'recommend', 'pleasant', 'incredible', 'suggest', 'connoisseur', \n",
    "               'Delight', 'warnings', 'disaster', 'disappointed', 'underwhelming', 'lacked', \n",
    "               'avoid', 'subpar', 'prime', 'mediocre']\n",
    "\n",
    "for key in keywords_v4:\n",
    "    yelp_v4_df[str(key)]=yelp_v4_df.message.str.contains(\n",
    "    ' ' + str(key) + ' ',\n",
    "    case=False\n",
    "    )"
   ]
  },
  {
   "cell_type": "code",
   "execution_count": 64,
   "metadata": {},
   "outputs": [
    {
     "data": {
      "text/plain": [
       "<matplotlib.axes._subplots.AxesSubplot at 0xdd8cfb0>"
      ]
     },
     "execution_count": 64,
     "metadata": {},
     "output_type": "execute_result"
    },
    {
     "data": {
      "image/png": "[encoded data removed]",
      "text/plain": [
       "<Figure size 432x288 with 2 Axes>"
      ]
     },
     "metadata": {
      "needs_background": "light"
     },
     "output_type": "display_data"
    }
   ],
   "source": [
    "sns.heatmap(yelp_v4_df.corr())"
   ]
  },
  {
   "cell_type": "code",
   "execution_count": 65,
   "metadata": {},
   "outputs": [],
   "source": [
    "data_yelp_v4=yelp_v4_df[keywords_v4 + ['allcaps']]\n",
    "target_yelp_v4=yelp_v4_df['score']"
   ]
  },
  {
   "cell_type": "code",
   "execution_count": 66,
   "metadata": {},
   "outputs": [
    {
     "name": "stdout",
     "output_type": "stream",
     "text": [
      "Number of mislabeled points out of a total 1000 points : 474\n"
     ]
    }
   ],
   "source": [
    "bnb=BernoulliNB()\n",
    "bnb.fit(data_yelp_v4,target_yelp_v4)\n",
    "y_pred =bnb.predict(data_yelp_v4)\n",
    "print(\"Number of mislabeled points out of a total {} points : {}\".format(\n",
    "    data_yelp_v4.shape[0],\n",
    "    (target_yelp_v4 != y_pred).sum()\n",
    "     ))"
   ]
  },
  {
   "cell_type": "markdown",
   "metadata": {},
   "source": [
    "It looks like our model's accuracy dropped to **~53%** accuracy in identifying any type of yelp review, positive or negative. Now let's take look at our confusion matrix."
   ]
  },
  {
   "cell_type": "code",
   "execution_count": 67,
   "metadata": {},
   "outputs": [
    {
     "data": {
      "text/plain": [
       "array([[ 27, 473],\n",
       "       [  1, 499]], dtype=int64)"
      ]
     },
     "execution_count": 67,
     "metadata": {},
     "output_type": "execute_result"
    }
   ],
   "source": [
    "from sklearn.metrics import confusion_matrix\n",
    "confusion_matrix(target_yelp_v4,y_pred)"
   ]
  },
  {
   "cell_type": "markdown",
   "metadata": {},
   "source": [
    "#### YELP_V4 Results\n",
    "\n",
    "Let's interpret these results:\n",
    "\n",
    "**Hypothesis (H): The selected keywords will correctly classify positive or negative reviews.**\n",
    "\n",
    "**Null Hypothesis (NH): The selected keywords will not correctly classify negative or positive reviews.**\n",
    "\n",
    "**Therefore:**\n",
    "- correctly classifying a review is a ***true positive*** or a ***true negative***.\n",
    "- incorrectly classifying a review is a ***false negative*** or a ***false positive***. \n",
    "\n",
    "**Against the yelp data set my model produced: 27 true positives, 1 false positive, 473 false negatives, and 499 true negatives.**\n",
    "\n",
    "The model's performance closely resembles the performance of yelp_v1, which had ***only*** negative words. The only significant difference between yelp_v3 and yelp_v4 is the addition of ***'allcaps'***. To me, that suggest ***'allcaps'*** may be able to replace all of the negative words in the keyword list. Replacing the negative words with new positive words while retaining the ***'allcaps'*** variable may balance our model's performance."
   ]
  },
  {
   "cell_type": "code",
   "execution_count": 68,
   "metadata": {},
   "outputs": [
    {
     "name": "stdout",
     "output_type": "stream",
     "text": [
      "0.998\n"
     ]
    }
   ],
   "source": [
    "Sensitivity_yelp_v4 = 499/500\n",
    "print(Sensitivity_yelp_v4)"
   ]
  },
  {
   "cell_type": "code",
   "execution_count": 69,
   "metadata": {},
   "outputs": [
    {
     "name": "stdout",
     "output_type": "stream",
     "text": [
      "0.054\n"
     ]
    }
   ],
   "source": [
    "Specificity_yelp_v4 = 27/500\n",
    "print(Specificity_yelp_v4)"
   ]
  },
  {
   "cell_type": "markdown",
   "metadata": {},
   "source": [
    "#### Testing my model for overfitting\n",
    "\n",
    "Now that we've interpreted my model's performance, let's test it for overfitting. It doesn't look to suffer from overfitting."
   ]
  },
  {
   "cell_type": "code",
   "execution_count": 70,
   "metadata": {},
   "outputs": [
    {
     "name": "stdout",
     "output_type": "stream",
     "text": [
      "With 20% Holdout: 0.48\n",
      "Testing on Sample: 0.526\n"
     ]
    }
   ],
   "source": [
    "X_train, X_test, y_train, y_test = train_test_split(data_yelp_v4,target_yelp_v4, test_size=0.2, random_state=30)\n",
    "print('With 20% Holdout: ' + str(bnb.fit(X_train, y_train).score(X_test, y_test)))\n",
    "print('Testing on Sample: '+ str(bnb.fit(data_yelp_v4,target_yelp_v4).score(data_yelp_v4,target_yelp_v4)))"
   ]
  },
  {
   "cell_type": "code",
   "execution_count": 71,
   "metadata": {},
   "outputs": [
    {
     "data": {
      "text/plain": [
       "array([0.505, 0.525, 0.52 , 0.505, 0.52 ])"
      ]
     },
     "execution_count": 71,
     "metadata": {},
     "output_type": "execute_result"
    }
   ],
   "source": [
    "cross_val_score(bnb,data_yelp_v4,target_yelp_v4, cv =5)"
   ]
  },
  {
   "cell_type": "markdown",
   "metadata": {},
   "source": [
    "### Model V5"
   ]
  },
  {
   "cell_type": "code",
   "execution_count": 72,
   "metadata": {},
   "outputs": [],
   "source": [
    "data_path = (\"C:\\\\yelp_labelled.txt\")\n",
    "yelp_v5_df = pd.read_csv(data_path, delimiter= '\\t', header=None)\n",
    "yelp_v5_df.columns = ['message', 'score']"
   ]
  },
  {
   "cell_type": "code",
   "execution_count": 73,
   "metadata": {},
   "outputs": [],
   "source": [
    "yelp_v5_df['allcaps'] = yelp_v5_df.message.str.isupper()\n",
    "keywords_v5 = ['super', 'flavorful', 'awesome', 'recommend', 'pleasant', 'incredible', 'suggest', 'connoisseur', \n",
    "               'Delight', 'satisfying', 'loves', 'unique', 'loyal', 'fabulous', \n",
    "               'incredible', 'handmade', 'prime', 'raving']\n",
    "\n",
    "for key in keywords_v5:\n",
    "    yelp_v5_df[str(key)]=yelp_v5_df.message.str.contains(\n",
    "    ' ' + str(key) + ' ',\n",
    "    case=False\n",
    "    )"
   ]
  },
  {
   "cell_type": "code",
   "execution_count": 74,
   "metadata": {},
   "outputs": [
    {
     "data": {
      "text/plain": [
       "<matplotlib.axes._subplots.AxesSubplot at 0xdd62210>"
      ]
     },
     "execution_count": 74,
     "metadata": {},
     "output_type": "execute_result"
    },
    {
     "data": {
      "image/png": "[encoded data removed]",
      "text/plain": [
       "<Figure size 432x288 with 2 Axes>"
      ]
     },
     "metadata": {
      "needs_background": "light"
     },
     "output_type": "display_data"
    }
   ],
   "source": [
    "sns.heatmap(yelp_v5_df.corr())"
   ]
  },
  {
   "cell_type": "code",
   "execution_count": 75,
   "metadata": {},
   "outputs": [],
   "source": [
    "data_yelp_v5=yelp_v5_df[keywords_v5 + ['allcaps']]\n",
    "target_yelp_v5=yelp_v5_df['score']"
   ]
  },
  {
   "cell_type": "code",
   "execution_count": 76,
   "metadata": {},
   "outputs": [
    {
     "name": "stdout",
     "output_type": "stream",
     "text": [
      "Number of mislabeled points out of a total 1000 points : 478\n"
     ]
    }
   ],
   "source": [
    "bnb=BernoulliNB()\n",
    "bnb.fit(data_yelp_v5,target_yelp_v5)\n",
    "y_pred =bnb.predict(data_yelp_v5)\n",
    "print(\"Number of mislabeled points out of a total {} points : {}\".format(\n",
    "    data_yelp_v5.shape[0],\n",
    "    (target_yelp_v5 != y_pred).sum()\n",
    "     ))"
   ]
  },
  {
   "cell_type": "markdown",
   "metadata": {},
   "source": [
    "It looks like our model's accuracy dropped to **~52%** accuracy in identifying any type of yelp review, positive or negative. Now let's take look at our confusion matrix."
   ]
  },
  {
   "cell_type": "code",
   "execution_count": 77,
   "metadata": {},
   "outputs": [
    {
     "data": {
      "text/plain": [
       "array([[493,   7],\n",
       "       [471,  29]], dtype=int64)"
      ]
     },
     "execution_count": 77,
     "metadata": {},
     "output_type": "execute_result"
    }
   ],
   "source": [
    "from sklearn.metrics import confusion_matrix\n",
    "confusion_matrix(target_yelp_v5,y_pred)"
   ]
  },
  {
   "cell_type": "markdown",
   "metadata": {},
   "source": [
    "#### YELP_V5 Results\n",
    "\n",
    "Let's interpret these results:\n",
    "\n",
    "**Hypothesis (H): The selected keywords will correctly classify positive or negative reviews.**\n",
    "\n",
    "**Null Hypothesis (NH): The selected keywords will not correctly classify negative or positive reviews.**\n",
    "\n",
    "**Therefore:**\n",
    "- correctly classifying a review is a ***true positive*** or a ***true negative***.\n",
    "- incorrectly classifying a review is a ***false negative*** or a ***false positive***. \n",
    "\n",
    "**Against the yelp data set my model produced: 493 true positives, 471 false positive, 7 false negatives, and 29 true negatives.**\n",
    "\n",
    "The model's performance closely resembles the performance of yelp_v3, which had a mix of positive and negative words. This further suggest the ***'allcaps'*** variable does largely represent **negative** reviews. At this point though, I'm not sure how to reduce both the number of ***false positive*** and ***false negative*** simultaneously."
   ]
  },
  {
   "cell_type": "code",
   "execution_count": 78,
   "metadata": {},
   "outputs": [
    {
     "name": "stdout",
     "output_type": "stream",
     "text": [
      "0.058\n"
     ]
    }
   ],
   "source": [
    "Sensitivity_yelp_v5 = 29/500\n",
    "print(Sensitivity_yelp_v5)"
   ]
  },
  {
   "cell_type": "code",
   "execution_count": 79,
   "metadata": {},
   "outputs": [
    {
     "name": "stdout",
     "output_type": "stream",
     "text": [
      "0.986\n"
     ]
    }
   ],
   "source": [
    "Specificity_yelp_v5 = 493/500\n",
    "print(Specificity_yelp_v5)"
   ]
  },
  {
   "cell_type": "markdown",
   "metadata": {},
   "source": [
    "#### Testing my model for overfitting\n",
    "\n",
    "Now that we've interpreted my model's performance, let's test it for overfitting. It doesn't look to suffer from overfitting."
   ]
  },
  {
   "cell_type": "code",
   "execution_count": 80,
   "metadata": {},
   "outputs": [
    {
     "name": "stdout",
     "output_type": "stream",
     "text": [
      "With 20% Holdout: 0.445\n",
      "Testing on Sample: 0.522\n"
     ]
    }
   ],
   "source": [
    "X_train, X_test, y_train, y_test = train_test_split(data_yelp_v5,target_yelp_v5, test_size=0.2, random_state=30)\n",
    "print('With 20% Holdout: ' + str(bnb.fit(X_train, y_train).score(X_test, y_test)))\n",
    "print('Testing on Sample: '+ str(bnb.fit(data_yelp_v5,target_yelp_v5).score(data_yelp_v5,target_yelp_v5)))"
   ]
  },
  {
   "cell_type": "code",
   "execution_count": 81,
   "metadata": {},
   "outputs": [
    {
     "data": {
      "text/plain": [
       "array([0.5  , 0.505, 0.5  , 0.525, 0.54 ])"
      ]
     },
     "execution_count": 81,
     "metadata": {},
     "output_type": "execute_result"
    }
   ],
   "source": [
    "cross_val_score(bnb,data_yelp_v5,target_yelp_v5, cv =5)"
   ]
  },
  {
   "cell_type": "markdown",
   "metadata": {},
   "source": [
    "### Conclusion\n",
    "\n",
    "***1.) Do any of your classifiers seem to overfit?***\n",
    "None of my models seem to suffer from overfitting. The dataset was distributed evenely, with 500 positive reviews and 500 negative reviews.\n",
    "\n",
    "***2.) Which seem to perform the best? Why?***\n",
    "\n",
    "Each one of my models either correctly identified positives at a high rate ***or*** correctly identified negatives at a high rate, but ***none of my models did both***.\n",
    "\n",
    "Model versions ***1*** and ***4*** have ***very*** similar outputs. Model version 1 was ***only negative words*** while Model version 4 was a ***mix between positive, negative, and allcaps words***.\n",
    "\n",
    "Model versions ***2*** and ***3*** have ***very*** similar outputs. Model version 2 was ***only positive words*** while Model version 3 was ***a mix of positive and negative words***.\n",
    "\n",
    "Model version ***5*** had **identical Specificity** to Model versions ***2*** and ***3***, but a noticeable **Sensitivity difference**. \n",
    "\n",
    "I'm not sure which model performed ***\"best\"*** but based on the **Sensitivity** and **Specificity** results it appears Model version 2 performs best in each of those categories, but still doesn't perform well.\n",
    "\n",
    "- Sensitivity_yelp = 500/500 (***1***) Specificity_yelp = 25/500(***0.05***)\n",
    "\n",
    "- Sensitivity_yelp_v2 = 64/500 (***0.128***) Specificity_yelp_v2 = 493/500 (***0.986***)\n",
    "\n",
    "- Sensitivity_yelp_v3 = 60/500 (***0.12***) Specificity_yelp_v3 = 493/500 (***0.986***)\n",
    "\n",
    "- Sensitivity_yelp_v4 = 499/500 (***0.998***) Specificity_yelp_v4 = 27/500 (***0.054***)\n",
    "\n",
    "- Sensitivity_yelp_v5 = 29/500 (***0.058***) Specificity_yelp_v5 = 493/500 (***0.986***)\n",
    "\n",
    "\n",
    "***3.) Which features seemed to be most impactful to performance?*** \n",
    "\n",
    "Positive and negative words both seemed to impact the model substantially.\n"
   ]
  },
  {
   "cell_type": "code",
   "execution_count": null,
   "metadata": {},
   "outputs": [],
   "source": []
  }
 ],
 "metadata": {
  "kernelspec": {
   "display_name": "Python 3",
   "language": "python",
   "name": "python3"
  },
  "language_info": {
   "codemirror_mode": {
    "name": "ipython",
    "version": 3
   },
   "file_extension": ".py",
   "mimetype": "text/x-python",
   "name": "python",
   "nbconvert_exporter": "python",
   "pygments_lexer": "ipython3",
   "version": "3.7.3"
  }
 },
 "nbformat": 4,
 "nbformat_minor": 2
}
