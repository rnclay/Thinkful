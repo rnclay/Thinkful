{
 "cells": [
  {
   "cell_type": "markdown",
   "metadata": {},
   "source": [
    "**The Sith Lords are concerned that their recruiting slogan, \"Give In to Your Anger,\" isn't very effective. Darth Vader develops an alternative slogan, \"Together We Can Rule the Galaxy.\" They compare the slogans on two groups of 50 captured droids each. In one group, Emperor Palpatine delivers the \"Anger\" slogan. In the other, Darth Vader presents the \"Together\" slogan. 20 droids convert to the Dark Side after hearing Palpatine's slogan, while only 5 droids convert after hearing Vader's. The Sith's data scientist concludes that \"Anger\" is a more effective slogan and should continue to be used.**\n",
    "\n",
    "The decision to use the **\"Anger\"** slogan may have been premature. There were two groups and two speakers, but each group only heard one slogan, from one speaker. As a result, we can't accurately assess if the **\"Anger\"** slogan is better or if Palpatine is a better speaker (*He was definitely more eloquent in the movies*). Also, there is no indication the two Droid groups were assessed for **\"pro\"** or **\"anti\"** Sith sentiment. \n",
    "\n",
    "I would correct this by first combining the two Droid groups into one large group and then ***randomly*** dividing them into ***four*** smaller groups, the groups would be kept separate. I would then attempt to establish if any of the groups possessed very skewed **\"pro\"** or **\"anti\"** sentiment toward the Sith. \n",
    "\n",
    "These new groups would hear each slogan twice, once from Lord Vader, and once from Emperor Palpatine. We are increasing the number of times the Droids are subjected to Sith slogans, and we need to try and mitigate **recruitment by nagging**. So, two of the groups will hear the **\"Anger\"** slogan first, each with different speakers, and two groups will hear the **\"Together\"** slogan first, each with different speakers. This could help us determine whether the effectiveness of either slogan was due to slogan bombardment versus genuine inspiration. \n",
    "\n",
    "To evaluate the effectiveness converters would be counted after each slogan hearing. The slogan with the highest conversion rate is likely the best slogan. You would also have data on slogan order that you could evaluate for deeper insights.\n",
    "\n",
    "\n"
   ]
  },
  {
   "cell_type": "markdown",
   "metadata": {},
   "source": [
    "**In the past, the Jedi have had difficulty with public relations. They send two envoys, Jar Jar Binks and Mace Windu, to four friendly and four unfriendly planets respectively, with the goal of promoting favorable feelings toward the Jedi. Upon their return, the envoys learn that Jar Jar was much more effective than Windu: Over 75% of the people surveyed said their attitudes had become more favorable after speaking with Jar Jar, while only 65% said their attitudes had become more favorable after speaking with Windu. This makes Windu angry, because he is sure that he had a better success rate than Jar Jar on every planet. The Jedi choose Jar Jar to be their representative in the future.**\n",
    "\n",
    "This experiment does not appear to have ***defined*** success, or put controls in place to properly ***measure*** whether or not success was achieved. These oversights appear to make the selection of Jar Jar as ambassador premature. The decision makers appear to be relying on feedback from their to envoys, not on collected data. \n",
    "\n",
    "In order to address this I would request the decision makers to sit down and explicitly define ***\"success\"*** in regards to public relations. If that turns out to be more than one thing, I would request the decision makers to rank the successes in order of desirability. \n",
    "\n",
    "After the successes were defined, I would request the Jedi data scientist design questionnaires to assess whether or not those successes were achieved. I would then send the Jedi data scientist ***with*** Jar Jar and Wince to handle data collection and evaluation in an objective way. The decision makers should still collect feedback from Jar Jar and Wince, but that should be only be a *part* of their process. The decision, in large part, should be based on what the data science gleaned from the data. \n"
   ]
  },
  {
   "cell_type": "markdown",
   "metadata": {},
   "source": [
    "**A company with work sites in five different countries has sent you data on employee satisfaction rates for workers in Human Resources and workers in Information Technology. Most HR workers are concentrated in three of the countries, while IT workers are equally distributed across worksites. The company requests a report on satisfaction for each job type. You calculate average job satisfaction for HR and for IT and present the report.**\n",
    "\n",
    "Averaging the the job satisfaction rate significantly reduces the importance of job location on job satisfaction, and presents the data as mainly dependent on job role. In order to preserve the fidelity of the job satisfaction per location, each location should retain their own results per job role. \n",
    "\n",
    "If you would like to present the averages as an **overall** measure of job satisfaction by role then ***seaborn*** is an option. Two ***histogram plots***, with vertical lines added to represent the mean could show the distribution of job satisfaction per location and the means. A ***boxplot*** with all eight locations plotted on it, could allow the company to readily compare the sites and identify outliers per location.\n",
    "\n",
    "\n",
    "\n"
   ]
  },
  {
   "cell_type": "markdown",
   "metadata": {},
   "source": [
    "**When people install the Happy Days Fitness Tracker app, they are asked to \"opt in\" to a data collection scheme where their level of physical activity data is automatically sent to the company for product research purposes. During your interview with the company, they tell you that the app is very effective because after installing the app, the data show that people's activity levels rise steadily.**\n",
    "\n",
    "It **could** be true that the company's app is encouraging increased activity, but a steady rise in activity levels among wearers doesn't *necessarily* indicate it's due to the app. It is possible that a large portion of the app's installers were ***already*** high activity indivduals and wanted a way to track their activities. It's also possible that the app's installers planned a goal that required lots of exercise i.e. (marathon, triathlon, century ride) and got the app to track their training progress.\n",
    "\n",
    "There is also no control group and no measure of the app installer's previous activity history. There is also a scale question in their statement ***that people's activity levels rise steadily***, is that compared to zero, which is what the app knows about the individual before the individual consents to share their data, and is that *'rise'* perpetual? Also, this is an \"***opt in\"*** endeavor, it would be prudent to investigate the differences between those that ***opt out*** and those that ***opt in***. \n",
    "\n",
    "Overall, it is ***very difficult*** to assess causality, there are just so many factors to address and isolate. \n"
   ]
  },
  {
   "cell_type": "markdown",
   "metadata": {},
   "source": [
    "**To prevent cheating, a teacher writes three versions of a test. She stacks the three versions together, first all copies of Version A, then all copies of Version B, then all copies of Version C. As students arrive for the exam, each student takes a test. When grading the test, the teacher finds that students who took Version B scored higher than students who took either Version A or Version C. She concludes from this that Version B is easier, and discards it.** \n",
    "\n",
    "The teacher did not systematically distribute the exams. She could have randomly assigned them by seat and then she could have recorded the exam grade by student per exam version. This strategy would have given her a more accurate assessment of how the test compared in difficulty.\n"
   ]
  }
 ],
 "metadata": {
  "kernelspec": {
   "display_name": "Python 3",
   "language": "python",
   "name": "python3"
  },
  "language_info": {
   "codemirror_mode": {
    "name": "ipython",
    "version": 3
   },
   "file_extension": ".py",
   "mimetype": "text/x-python",
   "name": "python",
   "nbconvert_exporter": "python",
   "pygments_lexer": "ipython3",
   "version": "3.7.3"
  }
 },
 "nbformat": 4,
 "nbformat_minor": 2
}
