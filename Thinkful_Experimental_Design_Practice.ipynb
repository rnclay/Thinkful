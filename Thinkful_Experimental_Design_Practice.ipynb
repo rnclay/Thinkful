{
 "cells": [
  {
   "cell_type": "markdown",
   "metadata": {},
   "source": [
    "### The Problem:\n",
    "*Multi-national companies have a hard time creating ***'one size-fits-all'*** *solutions to employee job satisfaction* \n",
    "\n",
    "The **Caring Company** is a multi-national corporation investigating job satisfaction among company employees, enterprise wide.\n",
    "The know maintaining an atmosphere of high job satisfaction likely has benefits on employee retention and work quality.  \n",
    "\n",
    "How do you create a way to make effective changes per office location to improve job satisfaction?\n",
    "\n",
    "### The Potential Solution\n",
    "Implement ***custom*** changes per location that raise job satisfaction scores.\n",
    "\n",
    "### The Method of Testing the Solution\n",
    "First, create custom questionnaires for each location (informed by what local HR knows about those places and cultural norms) to capture the *baseline* of job satisfaction per location. On these questionnaires be sure to include employee information like: **manager, job role, and length of employment**. Incentivize questionnaire completion with a prize of some sort to increase the number of responses. Keep this questionnaire *'open'* for **two months**. \n",
    "\n",
    "Second, analyze the responses overall for each job location and by, manager, job role, and length of employment. Identify outliers within these groups as well. Ultimately, you want to be able to develop a unique job score for each location.\n",
    "\n",
    "Third, from your analysis of the questionnaire responses develop a strategy and actions designed to improve job satisfaction. If by location, job satisfaction appears to be consistent per job role, manager, and length of employment then randomly separate your employees into two groups. If there are big differences between job satisfaction per location within the subgroups of job role, manager, and length of employment, then you may have to deploy the same experiment, but per subgroup, randomly separate the subgroups into two groups.\n",
    "\n",
    "Once your groups have been randomly separated, deploy your strategies on one of the two groups for ***two months***. After ***one month*** randomly select the same number of individuals from both groups to assess job satisfaction, and calculate a job score, exactly as you did before. Then do the same thing after the ***second month*** but make sure the randomly selected inviduals were not individuals seleced for the one month questionnaire, and calculate a job score, exactly as you did before.\n",
    "\n",
    "Finally, evaluate the baseline, the one month, and the two month job scores for each location or for each subgroup within location. If the job satisfaction scores ***improve by 5% after month one*** and ***remain at least 5% higher than the baseline score after month two***, then implement the strategy for all employees in that location, or within that subgroup per location. Were your strategies and actions effective in creating an environment that can sustain high levels of job satisfaction? What interesting or unexpected things did you identify that you can use to improve additional things around the company?\n",
    "\n"
   ]
  },
  {
   "cell_type": "code",
   "execution_count": null,
   "metadata": {},
   "outputs": [],
   "source": []
  }
 ],
 "metadata": {
  "kernelspec": {
   "display_name": "Python 3",
   "language": "python",
   "name": "python3"
  },
  "language_info": {
   "codemirror_mode": {
    "name": "ipython",
    "version": 3
   },
   "file_extension": ".py",
   "mimetype": "text/x-python",
   "name": "python",
   "nbconvert_exporter": "python",
   "pygments_lexer": "ipython3",
   "version": "3.7.3"
  }
 },
 "nbformat": 4,
 "nbformat_minor": 2
}
