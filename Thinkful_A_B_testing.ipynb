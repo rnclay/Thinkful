{
 "cells": [
  {
   "cell_type": "markdown",
   "metadata": {},
   "source": [
    "## Question 1: Does a new supplement help people sleep better?\n",
    "\n",
    "### Two Versions:\n",
    "The ***Control*** version is the version in use. The ***test version*** introduces a change to the control version. We want to know if that change brings about a desired outcome.\n",
    "**Supplement A:** Established and in use, with an identified customer base.\n",
    "**Supplement B:** Not in use, currently. But, will be introduced soon. \n",
    "### Sample:\n",
    "In order to measure if a supplement helps people sleep better there needs to be an ***established baseline*** which has been used to measure the quality of an individual's sleep. Hopefully, this baseline has been established for current customers of Supplement A. If it has, then it makes more sense to do the A/B testing on existing customers. ***Randomly*** offer ***all*** of your customers the opportunity to try a new version of the supplement, throwing in some kind of perk may help. Once the number of people who agree to try the upgrade equals half of the total customer population, end the offer.\n",
    "### Hypothesis:\n",
    "We expect patients taking Supplement B to show improved ***sleep baselines***. by measuring the these baselines in the same way they were measured before.\n",
    "### Outcomes:\n",
    "We will not change the way we measured the effectiveness of Supplement A. Therefore we should be able to determine what changes Supplement B had on patients who used to take Supplement A, and we should be able to determine differences between Supplement A and B users.\n",
    "### Other measured variables:\n",
    "Improved results may lead to an increase in new customers, longer customer retention, and increased sales."
   ]
  },
  {
   "cell_type": "markdown",
   "metadata": {},
   "source": [
    "## Question 2: Will new uniforms help a gym's business?\n",
    "\n",
    "### Two Versions:\n",
    "The ***control*** version is the current uniform. The ***test version*** is the new uniform.\n",
    "### Sample:\n",
    "The sample depends on if the gym has multiple locations or a single location, and the background that went into selecting those locations. **IF** there is a single location it is best to alternate the uniforms in a way that allows you to measure the impact without biasing the sample. If not already determined, try to identify peak times for gym attendance and test your new uniform around those times. The sample question is much more complex if you add additional locations, but you may want to test your new uniforms at the locations that generate the smallest and the largest amount of revenue.\n",
    "### Hypothesis:\n",
    "Gym uniforms will have no long term impact on the gym's business.\n",
    "\n",
    "### Outcomes:\n",
    "I do not expect there will be an increase in revenue as a result of new gym uniforms.\n",
    "\n",
    "### Other measured variables:\n",
    "The cost of production for the new uniforms may be lower than the old uniforms. If the new uniforms have no impact on revenue, it may still be better to use them, if it reduces cost on uniform production."
   ]
  },
  {
   "cell_type": "markdown",
   "metadata": {},
   "source": [
    "## Question 3: Will a new homepage improve my online exotic pet rental business?\n",
    "\n",
    "### Two Versions:\n",
    "The ***control*** version is the current homepage design. The ***test version*** is the new homepage design.\n",
    "### Sample:\n",
    "Randomly redirect half of your websites visitors to the new webstie homepage. Be sure to be mindful of possible differences in customer shopping behavior based on the time of day they visit your website and the locations they reside.\n",
    "### Hypothesis:\n",
    "This depends entirely on which specific changes were made, what is ***'new'*** about the website?\n",
    "\n",
    "### Outcomes:\n",
    "This echoes the answer to the hypothesis question. Some changes probably won't make a difference, some could help business, and others could hurt business.\n",
    "\n",
    "### Other measured variables:\n",
    "You may discover that using both websites at specific times improves business, or that certain products benefit from the new design and other products are better suited to the old design. You may find that it makes sense to have more than one website altogether."
   ]
  },
  {
   "cell_type": "markdown",
   "metadata": {},
   "source": [
    "## Question 4: If I put 'please read' in the email subject will more people read my emails?\n",
    "\n",
    "### Two Versions:\n",
    "This A/B testing can be done without a current version. You simply write two versions of your email. \n",
    "### Sample:\n",
    "Split your email recipients into groups and send half of all the people on your distribution list the email with the phrase 'please read'. This test should be run for at least two weeks.\n",
    "### Hypothesis:\n",
    "Emails with the phrase 'please read', will be opened more frequently. There will need to be additional steps added to this test to determine if emails with the phrase 'please read' are actually read more frequently.\n",
    "\n",
    "### Outcomes:\n",
    "You should be able to determine whether or not 'please read' is a useful attention grabber, by analyzing and comparing the number of emails opened between the two groups. If 'please read' led to more emails being opened, you could design an experiment to determine how many of those opened emails converted to read emails. \n",
    "\n",
    "### Other measured variables:\n",
    "Emails with the phrase 'please read' may have a small uptick in openings, but that phrase may not provide the 'bump' you were looking for. Other phrases can be tested to determine which, if any, produce desired results on number of emails read."
   ]
  },
  {
   "cell_type": "code",
   "execution_count": null,
   "metadata": {},
   "outputs": [],
   "source": []
  }
 ],
 "metadata": {
  "kernelspec": {
   "display_name": "Python 3",
   "language": "python",
   "name": "python3"
  },
  "language_info": {
   "codemirror_mode": {
    "name": "ipython",
    "version": 3
   },
   "file_extension": ".py",
   "mimetype": "text/x-python",
   "name": "python",
   "nbconvert_exporter": "python",
   "pygments_lexer": "ipython3",
   "version": "3.7.3"
  }
 },
 "nbformat": 4,
 "nbformat_minor": 2
}
