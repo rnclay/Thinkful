{
 "cells": [
  {
   "cell_type": "markdown",
   "metadata": {},
   "source": [
    "### Question 1: You're testing advertising emails for a bathing suit company and you test one version of the email in February and the other in May?\n",
    "\n",
    "This experiment seems to be designed  to evaluate *which* advertisements are most effective for increasing swimsuit sales. Unfortunately, the experiment design did not take into account how the weather may impact a person's decision to interact with an advertisement about swimsuits. If the target sample is composed of individuals who live in tropical climates year round, you would have a chance to test the effectiveness of the swimsuit advertisements. If the ads were not specifically targeted to that demographic, then you're also testing the question, 'What time of year are swimsuit ads most effective for increasing swimsuit sales?'\n",
    "\n"
   ]
  },
  {
   "cell_type": "markdown",
   "metadata": {},
   "source": [
    "### Question 2: You open a clinic to treat anxiety and find that the people who visit show a higher rate of anxiety than the general population. \n",
    "\n",
    "One the surface this looks like an obvious takeaway, and it is, but not because people who visit the clinic have a higher rate of anxiety than general population. People who visit the clinic have the *opportunity to be diagnosed* with anxiety. Therefore, the prevalency of anxiety among clinic attendees is defined, known, and measurable. There is not a comprehensive way to measure the rate of anxiety in the general population. Individuals who suffer from anxiety, may not know that's what it is, may not have ever considered visiting a clinic, or may not know how to get help. An interesting question might be, 'How have attendance statistics at the clinic changed since the clinic was opened?' If that number increases monthly, and annually, it could indicate that people suffering from anxiety didn't have a resource suited to their needs, and, or, wishes. \n",
    " "
   ]
  },
  {
   "cell_type": "markdown",
   "metadata": {},
   "source": [
    "### Question 3: You launch a new ad billboard based campaign and see an increase in website visits in the first week.\n",
    "\n",
    "It would be great if the billboard was responsible for the increased visits to your website. Though, it would be prudent to make sure the rise in website visits was caused by the new ad billboard. There are a couple of things you could investigate to help determine what role the billboard ad played in increased website visits. With *web analytics* software perhaps you can identify the ***where*** of your website visitors location. If a high number of website visits during the ad campaign occured within a predetermined geographic proximity to the billboard, that's definitely worth more exploration. Another area worth investigating would if you had an identified *conversion rate* for the products or services advertised, and measured an **increase** in the conversion rate for those products or services during the ad campaign. To top it all off, you could combine the **location** your users reside in relation to the billboard and the **conversion rate** of those users in regards to what was being advertised. If there was a substantial increase in that **combined** activity, perhaps your billboard was effective."
   ]
  },
  {
   "cell_type": "markdown",
   "metadata": {},
   "source": [
    "### Question 4: You launch a loyalty program but see no change in visits in the first week.\n",
    "\n",
    "My first question regarding this strategy is,*'Was your loyalty program designed to increase visits or extend customer retention?'* It can achieve both, but extending customer retention will take longer to measure, and a week may not be long enough to assess whether or not the loyalty program is increasing visits. My second question is, *Were all of your customers notified about the loyalty program?* If not, then maybe you haven't selected the right type of customer. \n",
    "\n"
   ]
  }
 ],
 "metadata": {
  "kernelspec": {
   "display_name": "Python 3",
   "language": "python",
   "name": "python3"
  },
  "language_info": {
   "codemirror_mode": {
    "name": "ipython",
    "version": 3
   },
   "file_extension": ".py",
   "mimetype": "text/x-python",
   "name": "python",
   "nbconvert_exporter": "python",
   "pygments_lexer": "ipython3",
   "version": "3.7.3"
  }
 },
 "nbformat": 4,
 "nbformat_minor": 2
}
