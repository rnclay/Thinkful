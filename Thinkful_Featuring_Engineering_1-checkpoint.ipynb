{
 "cells": [
  {
   "cell_type": "code",
   "execution_count": 1,
   "metadata": {},
   "outputs": [],
   "source": [
    "import matplotlib.pyplot as plt\n",
    "import seaborn as sns\n",
    "import numpy as np\n",
    "import pandas as pd\n",
    "import seaborn as sns\n",
    "import scipy.stats as stats\n",
    "from scipy.stats import jarque_bera\n",
    "from scipy.stats import normaltest\n",
    "from scipy.stats.mstats import winsorize\n",
    "from scipy.stats import boxcox\n",
    "from sklearn.preprocessing import normalize\n",
    "from sklearn.preprocessing import scale\n",
    "from sqlalchemy import create_engine\n",
    "import warnings\n",
    "\n",
    "warnings.filterwarnings('ignore')\n",
    "sns.set(style=\"whitegrid\")"
   ]
  },
  {
   "cell_type": "code",
   "execution_count": 2,
   "metadata": {},
   "outputs": [],
   "source": [
    "postgres_user = 'dsbc_student'\n",
    "postgres_pw = '7*.8G9QH21'\n",
    "postgres_host = '142.93.121.174'\n",
    "postgres_port = '5432'\n",
    "postgres_db = 'studentsperformance'\n",
    "\n",
    "engine = create_engine('postgresql://{}:{}@{}:{}/{}'.format(\n",
    "    postgres_user, postgres_pw, postgres_host, postgres_port, postgres_db))\n",
    "\n",
    "student_df = pd.read_sql_query('select * from studentsperformance',con=engine)\n",
    "\n",
    "engine.dispose()"
   ]
  },
  {
   "cell_type": "code",
   "execution_count": 3,
   "metadata": {
    "scrolled": true
   },
   "outputs": [
    {
     "data": {
      "text/html": [
       "<div>\n",
       "<style scoped>\n",
       "    .dataframe tbody tr th:only-of-type {\n",
       "        vertical-align: middle;\n",
       "    }\n",
       "\n",
       "    .dataframe tbody tr th {\n",
       "        vertical-align: top;\n",
       "    }\n",
       "\n",
       "    .dataframe thead th {\n",
       "        text-align: right;\n",
       "    }\n",
       "</style>\n",
       "<table border=\"1\" class=\"dataframe\">\n",
       "  <thead>\n",
       "    <tr style=\"text-align: right;\">\n",
       "      <th></th>\n",
       "      <th>gender</th>\n",
       "      <th>race/ethnicity</th>\n",
       "      <th>parental level of education</th>\n",
       "      <th>lunch</th>\n",
       "      <th>test preparation course</th>\n",
       "      <th>math score</th>\n",
       "      <th>reading score</th>\n",
       "      <th>writing score</th>\n",
       "    </tr>\n",
       "  </thead>\n",
       "  <tbody>\n",
       "    <tr>\n",
       "      <th>0</th>\n",
       "      <td>female</td>\n",
       "      <td>group B</td>\n",
       "      <td>bachelor's degree</td>\n",
       "      <td>standard</td>\n",
       "      <td>none</td>\n",
       "      <td>72</td>\n",
       "      <td>72</td>\n",
       "      <td>74</td>\n",
       "    </tr>\n",
       "    <tr>\n",
       "      <th>1</th>\n",
       "      <td>female</td>\n",
       "      <td>group C</td>\n",
       "      <td>some college</td>\n",
       "      <td>standard</td>\n",
       "      <td>completed</td>\n",
       "      <td>69</td>\n",
       "      <td>90</td>\n",
       "      <td>88</td>\n",
       "    </tr>\n",
       "    <tr>\n",
       "      <th>2</th>\n",
       "      <td>female</td>\n",
       "      <td>group B</td>\n",
       "      <td>master's degree</td>\n",
       "      <td>standard</td>\n",
       "      <td>none</td>\n",
       "      <td>90</td>\n",
       "      <td>95</td>\n",
       "      <td>93</td>\n",
       "    </tr>\n",
       "    <tr>\n",
       "      <th>3</th>\n",
       "      <td>male</td>\n",
       "      <td>group A</td>\n",
       "      <td>associate's degree</td>\n",
       "      <td>free/reduced</td>\n",
       "      <td>none</td>\n",
       "      <td>47</td>\n",
       "      <td>57</td>\n",
       "      <td>44</td>\n",
       "    </tr>\n",
       "    <tr>\n",
       "      <th>4</th>\n",
       "      <td>male</td>\n",
       "      <td>group C</td>\n",
       "      <td>some college</td>\n",
       "      <td>standard</td>\n",
       "      <td>none</td>\n",
       "      <td>76</td>\n",
       "      <td>78</td>\n",
       "      <td>75</td>\n",
       "    </tr>\n",
       "  </tbody>\n",
       "</table>\n",
       "</div>"
      ],
      "text/plain": [
       "   gender race/ethnicity parental level of education         lunch  \\\n",
       "0  female        group B           bachelor's degree      standard   \n",
       "1  female        group C                some college      standard   \n",
       "2  female        group B             master's degree      standard   \n",
       "3    male        group A          associate's degree  free/reduced   \n",
       "4    male        group C                some college      standard   \n",
       "\n",
       "  test preparation course  math score  reading score  writing score  \n",
       "0                    none          72             72             74  \n",
       "1               completed          69             90             88  \n",
       "2                    none          90             95             93  \n",
       "3                    none          47             57             44  \n",
       "4                    none          76             78             75  "
      ]
     },
     "execution_count": 3,
     "metadata": {},
     "output_type": "execute_result"
    }
   ],
   "source": [
    "student_df.head()"
   ]
  },
  {
   "cell_type": "code",
   "execution_count": 4,
   "metadata": {},
   "outputs": [],
   "source": [
    "student_df.rename(columns={'race/ethnicity':'ethnicity','parental level of education':'parents education',\n",
    "                          'test preparation course': 'prep course', 'math score': 'math',\n",
    "                          'reading score': 'reading', 'writing score':'writing'},inplace =True)"
   ]
  },
  {
   "cell_type": "code",
   "execution_count": 5,
   "metadata": {},
   "outputs": [
    {
     "data": {
      "text/html": [
       "<div>\n",
       "<style scoped>\n",
       "    .dataframe tbody tr th:only-of-type {\n",
       "        vertical-align: middle;\n",
       "    }\n",
       "\n",
       "    .dataframe tbody tr th {\n",
       "        vertical-align: top;\n",
       "    }\n",
       "\n",
       "    .dataframe thead th {\n",
       "        text-align: right;\n",
       "    }\n",
       "</style>\n",
       "<table border=\"1\" class=\"dataframe\">\n",
       "  <thead>\n",
       "    <tr style=\"text-align: right;\">\n",
       "      <th></th>\n",
       "      <th>gender</th>\n",
       "      <th>ethnicity</th>\n",
       "      <th>parents education</th>\n",
       "      <th>lunch</th>\n",
       "      <th>prep course</th>\n",
       "      <th>math</th>\n",
       "      <th>reading</th>\n",
       "      <th>writing</th>\n",
       "    </tr>\n",
       "  </thead>\n",
       "  <tbody>\n",
       "    <tr>\n",
       "      <th>0</th>\n",
       "      <td>female</td>\n",
       "      <td>group B</td>\n",
       "      <td>bachelor's degree</td>\n",
       "      <td>standard</td>\n",
       "      <td>none</td>\n",
       "      <td>72</td>\n",
       "      <td>72</td>\n",
       "      <td>74</td>\n",
       "    </tr>\n",
       "    <tr>\n",
       "      <th>1</th>\n",
       "      <td>female</td>\n",
       "      <td>group C</td>\n",
       "      <td>some college</td>\n",
       "      <td>standard</td>\n",
       "      <td>completed</td>\n",
       "      <td>69</td>\n",
       "      <td>90</td>\n",
       "      <td>88</td>\n",
       "    </tr>\n",
       "    <tr>\n",
       "      <th>2</th>\n",
       "      <td>female</td>\n",
       "      <td>group B</td>\n",
       "      <td>master's degree</td>\n",
       "      <td>standard</td>\n",
       "      <td>none</td>\n",
       "      <td>90</td>\n",
       "      <td>95</td>\n",
       "      <td>93</td>\n",
       "    </tr>\n",
       "    <tr>\n",
       "      <th>3</th>\n",
       "      <td>male</td>\n",
       "      <td>group A</td>\n",
       "      <td>associate's degree</td>\n",
       "      <td>free/reduced</td>\n",
       "      <td>none</td>\n",
       "      <td>47</td>\n",
       "      <td>57</td>\n",
       "      <td>44</td>\n",
       "    </tr>\n",
       "    <tr>\n",
       "      <th>4</th>\n",
       "      <td>male</td>\n",
       "      <td>group C</td>\n",
       "      <td>some college</td>\n",
       "      <td>standard</td>\n",
       "      <td>none</td>\n",
       "      <td>76</td>\n",
       "      <td>78</td>\n",
       "      <td>75</td>\n",
       "    </tr>\n",
       "  </tbody>\n",
       "</table>\n",
       "</div>"
      ],
      "text/plain": [
       "   gender ethnicity   parents education         lunch prep course  math  \\\n",
       "0  female   group B   bachelor's degree      standard        none    72   \n",
       "1  female   group C        some college      standard   completed    69   \n",
       "2  female   group B     master's degree      standard        none    90   \n",
       "3    male   group A  associate's degree  free/reduced        none    47   \n",
       "4    male   group C        some college      standard        none    76   \n",
       "\n",
       "   reading  writing  \n",
       "0       72       74  \n",
       "1       90       88  \n",
       "2       95       93  \n",
       "3       57       44  \n",
       "4       78       75  "
      ]
     },
     "execution_count": 5,
     "metadata": {},
     "output_type": "execute_result"
    }
   ],
   "source": [
    "student_df.head()"
   ]
  },
  {
   "cell_type": "code",
   "execution_count": 6,
   "metadata": {
    "scrolled": true
   },
   "outputs": [
    {
     "data": {
      "text/plain": [
       "gender               0\n",
       "ethnicity            0\n",
       "parents education    0\n",
       "lunch                0\n",
       "prep course          0\n",
       "math                 0\n",
       "reading              0\n",
       "writing              0\n",
       "dtype: int64"
      ]
     },
     "execution_count": 6,
     "metadata": {},
     "output_type": "execute_result"
    }
   ],
   "source": [
    "student_df.isna().sum()"
   ]
  },
  {
   "cell_type": "code",
   "execution_count": 7,
   "metadata": {},
   "outputs": [
    {
     "name": "stdout",
     "output_type": "stream",
     "text": [
      "<class 'pandas.core.frame.DataFrame'>\n",
      "RangeIndex: 1000 entries, 0 to 999\n",
      "Data columns (total 8 columns):\n",
      "gender               1000 non-null object\n",
      "ethnicity            1000 non-null object\n",
      "parents education    1000 non-null object\n",
      "lunch                1000 non-null object\n",
      "prep course          1000 non-null object\n",
      "math                 1000 non-null int64\n",
      "reading              1000 non-null int64\n",
      "writing              1000 non-null int64\n",
      "dtypes: int64(3), object(5)\n",
      "memory usage: 43.0+ KB\n"
     ]
    }
   ],
   "source": [
    "student_df.info()"
   ]
  },
  {
   "cell_type": "code",
   "execution_count": 8,
   "metadata": {},
   "outputs": [
    {
     "data": {
      "text/plain": [
       "Int64Index([59], dtype='int64')"
      ]
     },
     "execution_count": 8,
     "metadata": {},
     "output_type": "execute_result"
    }
   ],
   "source": [
    "student_df[student_df['math']<=0].index"
   ]
  },
  {
   "cell_type": "code",
   "execution_count": 9,
   "metadata": {},
   "outputs": [],
   "source": [
    "mathnegative = student_df[student_df['math']<=0].index"
   ]
  },
  {
   "cell_type": "code",
   "execution_count": 10,
   "metadata": {},
   "outputs": [],
   "source": [
    "student_df.drop(mathnegative, inplace=True)"
   ]
  },
  {
   "cell_type": "code",
   "execution_count": 11,
   "metadata": {},
   "outputs": [
    {
     "data": {
      "text/plain": [
       "Int64Index([], dtype='int64')"
      ]
     },
     "execution_count": 11,
     "metadata": {},
     "output_type": "execute_result"
    }
   ],
   "source": [
    "student_df[student_df['reading']<=0].index"
   ]
  },
  {
   "cell_type": "code",
   "execution_count": 12,
   "metadata": {},
   "outputs": [
    {
     "data": {
      "text/plain": [
       "Int64Index([], dtype='int64')"
      ]
     },
     "execution_count": 12,
     "metadata": {},
     "output_type": "execute_result"
    }
   ],
   "source": [
    "student_df[student_df['writing']<=0].index"
   ]
  },
  {
   "cell_type": "markdown",
   "metadata": {},
   "source": [
    "**Question 1:** Are the exam score variables normally distributed? If not, apply a Box-Cox transformation. Does anything change?\n",
    "\n",
    "The score variables are not normally distributed and after applying a boxcox transformation the score's distributions shifted closer to normal, but ultimately, they weren't not normally distributed. "
   ]
  },
  {
   "cell_type": "code",
   "execution_count": 13,
   "metadata": {},
   "outputs": [
    {
     "data": {
      "image/png": "[encoded data removed]",
      "text/plain": [
       "<Figure size 1296x1080 with 6 Axes>"
      ]
     },
     "metadata": {
      "needs_background": "light"
     },
     "output_type": "display_data"
    }
   ],
   "source": [
    "math_score_boxcox,_ = boxcox(student_df['math'])\n",
    "reading_score_boxcox,_ = boxcox(student_df['reading'])\n",
    "writing_score_boxcox,_ = boxcox(student_df['writing'])\n",
    "\n",
    "plt.figure(figsize=(18,15))\n",
    "\n",
    "plt.subplot(3,3,1)\n",
    "plt.hist(student_df[\"math\"])\n",
    "plt.title(\"Histogram of Math Score\")\n",
    "\n",
    "plt.subplot(3,3,2)\n",
    "plt.hist(student_df[\"reading\"])\n",
    "plt.title(\"Histogram of Reading Score\")\n",
    "\n",
    "plt.subplot(3,3,3)\n",
    "plt.hist(student_df[\"writing\"])\n",
    "plt.title(\"Histogram of Writing Score\")\n",
    "\n",
    "plt.subplot(3,3,4)\n",
    "plt.hist(math_score_boxcox)\n",
    "plt.title(\"Histogram of Math Score (boxcox transformed)\")\n",
    "\n",
    "plt.subplot(3,3,5)\n",
    "plt.hist(reading_score_boxcox)\n",
    "plt.title(\"Histogram of Reading Score (boxcox transformed)\")\n",
    "\n",
    "plt.subplot(3,3,6)\n",
    "plt.hist(writing_score_boxcox)\n",
    "plt.title(\"Histogram of writing Score (boxcox transformed)\")\n",
    "\n",
    "plt.show()"
   ]
  },
  {
   "cell_type": "markdown",
   "metadata": {},
   "source": [
    "**Question 2:** Say we want to use a single variable for the exam scores as our target. For this purpose, create a new variable by taking a weighted average of the exam scores. Check whether this new variable is normally distributed. If it's not normally distributed, apply a Box-Cox transformation and check whether or not the transformed variable is normally distributed.\n",
    "\n",
    "The new variable *exam_scores* is **not** normally distributed, and a boxcox application did not convert the distribution to normal. This is confirmed by *jarque_bera* and *normaltest*."
   ]
  },
  {
   "cell_type": "code",
   "execution_count": 14,
   "metadata": {},
   "outputs": [],
   "source": [
    "exam_scores = student_df['math'] + student_df['reading'] + student_df['writing']/3"
   ]
  },
  {
   "cell_type": "code",
   "execution_count": 15,
   "metadata": {},
   "outputs": [
    {
     "data": {
      "image/png": "[encoded data removed]",
      "text/plain": [
       "<Figure size 1296x360 with 2 Axes>"
      ]
     },
     "metadata": {
      "needs_background": "light"
     },
     "output_type": "display_data"
    }
   ],
   "source": [
    "exam_scores_boxcox,_ = boxcox(exam_scores)\n",
    "plt.figure(figsize=(18,5))\n",
    "\n",
    "plt.subplot(1,2,1)\n",
    "plt.hist(exam_scores)\n",
    "plt.title(\"Histogram of Exam Scores\")\n",
    "\n",
    "plt.subplot(1,2,2)\n",
    "plt.hist(exam_scores_boxcox)\n",
    "plt.title(\"Histogram of Exam Scores (boxcox transformed)\")\n",
    "\n",
    "plt.show()\n",
    "\n"
   ]
  },
  {
   "cell_type": "code",
   "execution_count": 16,
   "metadata": {},
   "outputs": [
    {
     "name": "stdout",
     "output_type": "stream",
     "text": [
      "--------Exam Scores Distribution--------\n",
      "Jarque-Bera test statistic is 80.47002655981514 and p-value is 0.0\n",
      "Normality test statistic is 80.47002655981514 and p-value is0.0\n",
      "--------Exam Scores BoxCox Distribution--------\n",
      "Jarque-Bera test statistic is 41.94835978464601 and p-value is 7.78089259689807e-10\n",
      "Normality test statistic is 41.94835978464601 and p-value is7.78089259689807e-10\n"
     ]
    }
   ],
   "source": [
    "print(\"--------Exam Scores Distribution--------\")\n",
    "\n",
    "jb_stats = jarque_bera(np.sqrt(exam_scores))\n",
    "norm_stats = normaltest(np.sqrt(exam_scores))\n",
    "\n",
    "print(\"Jarque-Bera test statistic is {0} and p-value is {1}\".format(jb_stats[0],jb_stats[1]))\n",
    "print(\"Normality test statistic is {0} and p-value is{1}\".format(jb_stats[0],jb_stats[1]))\n",
    "\n",
    "print(\"--------Exam Scores BoxCox Distribution--------\")\n",
    "\n",
    "jb_stats = jarque_bera(np.sqrt(exam_scores_boxcox))\n",
    "norm_stats = normaltest(np.sqrt(exam_scores_boxcox))\n",
    "\n",
    "print(\"Jarque-Bera test statistic is {0} and p-value is {1}\".format(jb_stats[0],jb_stats[1]))\n",
    "print(\"Normality test statistic is {0} and p-value is{1}\".format(jb_stats[0],jb_stats[1]))\n"
   ]
  },
  {
   "cell_type": "code",
   "execution_count": 17,
   "metadata": {},
   "outputs": [],
   "source": [
    "student_df['exam_score'] = exam_scores\n"
   ]
  },
  {
   "cell_type": "code",
   "execution_count": 18,
   "metadata": {},
   "outputs": [
    {
     "data": {
      "text/html": [
       "<div>\n",
       "<style scoped>\n",
       "    .dataframe tbody tr th:only-of-type {\n",
       "        vertical-align: middle;\n",
       "    }\n",
       "\n",
       "    .dataframe tbody tr th {\n",
       "        vertical-align: top;\n",
       "    }\n",
       "\n",
       "    .dataframe thead th {\n",
       "        text-align: right;\n",
       "    }\n",
       "</style>\n",
       "<table border=\"1\" class=\"dataframe\">\n",
       "  <thead>\n",
       "    <tr style=\"text-align: right;\">\n",
       "      <th></th>\n",
       "      <th>gender</th>\n",
       "      <th>ethnicity</th>\n",
       "      <th>parents education</th>\n",
       "      <th>lunch</th>\n",
       "      <th>prep course</th>\n",
       "      <th>math</th>\n",
       "      <th>reading</th>\n",
       "      <th>writing</th>\n",
       "      <th>exam_score</th>\n",
       "    </tr>\n",
       "  </thead>\n",
       "  <tbody>\n",
       "    <tr>\n",
       "      <th>0</th>\n",
       "      <td>female</td>\n",
       "      <td>group B</td>\n",
       "      <td>bachelor's degree</td>\n",
       "      <td>standard</td>\n",
       "      <td>none</td>\n",
       "      <td>72</td>\n",
       "      <td>72</td>\n",
       "      <td>74</td>\n",
       "      <td>168.666667</td>\n",
       "    </tr>\n",
       "    <tr>\n",
       "      <th>1</th>\n",
       "      <td>female</td>\n",
       "      <td>group C</td>\n",
       "      <td>some college</td>\n",
       "      <td>standard</td>\n",
       "      <td>completed</td>\n",
       "      <td>69</td>\n",
       "      <td>90</td>\n",
       "      <td>88</td>\n",
       "      <td>188.333333</td>\n",
       "    </tr>\n",
       "    <tr>\n",
       "      <th>2</th>\n",
       "      <td>female</td>\n",
       "      <td>group B</td>\n",
       "      <td>master's degree</td>\n",
       "      <td>standard</td>\n",
       "      <td>none</td>\n",
       "      <td>90</td>\n",
       "      <td>95</td>\n",
       "      <td>93</td>\n",
       "      <td>216.000000</td>\n",
       "    </tr>\n",
       "    <tr>\n",
       "      <th>3</th>\n",
       "      <td>male</td>\n",
       "      <td>group A</td>\n",
       "      <td>associate's degree</td>\n",
       "      <td>free/reduced</td>\n",
       "      <td>none</td>\n",
       "      <td>47</td>\n",
       "      <td>57</td>\n",
       "      <td>44</td>\n",
       "      <td>118.666667</td>\n",
       "    </tr>\n",
       "    <tr>\n",
       "      <th>4</th>\n",
       "      <td>male</td>\n",
       "      <td>group C</td>\n",
       "      <td>some college</td>\n",
       "      <td>standard</td>\n",
       "      <td>none</td>\n",
       "      <td>76</td>\n",
       "      <td>78</td>\n",
       "      <td>75</td>\n",
       "      <td>179.000000</td>\n",
       "    </tr>\n",
       "  </tbody>\n",
       "</table>\n",
       "</div>"
      ],
      "text/plain": [
       "   gender ethnicity   parents education         lunch prep course  math  \\\n",
       "0  female   group B   bachelor's degree      standard        none    72   \n",
       "1  female   group C        some college      standard   completed    69   \n",
       "2  female   group B     master's degree      standard        none    90   \n",
       "3    male   group A  associate's degree  free/reduced        none    47   \n",
       "4    male   group C        some college      standard        none    76   \n",
       "\n",
       "   reading  writing  exam_score  \n",
       "0       72       74  168.666667  \n",
       "1       90       88  188.333333  \n",
       "2       95       93  216.000000  \n",
       "3       57       44  118.666667  \n",
       "4       78       75  179.000000  "
      ]
     },
     "execution_count": 18,
     "metadata": {},
     "output_type": "execute_result"
    }
   ],
   "source": [
    "student_df.head()"
   ]
  },
  {
   "cell_type": "code",
   "execution_count": 19,
   "metadata": {},
   "outputs": [],
   "source": [
    "student_df.replace({\"bachelor's degree\":\"bachelors\",\"some college\": \"college\",\"master's degree\": \"masters\", \n",
    "                    \"associate's degree\": \"associates\", \"high school\":\"hs\", \n",
    "                    \"some high school\":\"hs not comp\"}, inplace = True)"
   ]
  },
  {
   "cell_type": "markdown",
   "metadata": {},
   "source": [
    "**Question 3:** Which variables seem related to the target variable (the newly created variable in the previous question)? If our goal is to explain the determinants of success in exams, which variables in our dataset might be useful?\n",
    "\n",
    "There seems to be a positive relationship between exam scores and ethnicity, gender, lunch type, and prep course."
   ]
  },
  {
   "cell_type": "code",
   "execution_count": 20,
   "metadata": {},
   "outputs": [
    {
     "data": {
      "image/png": "[encoded data removed]",
      "text/plain": [
       "<Figure size 1800x2016 with 10 Axes>"
      ]
     },
     "metadata": {
      "needs_background": "light"
     },
     "output_type": "display_data"
    }
   ],
   "source": [
    "plt.figure(figsize=(25,28))\n",
    "\n",
    "plt.subplot(4,4,1)\n",
    "sns.barplot(student_df[\"ethnicity\"], student_df[\"exam_score\"])\n",
    "plt.title(\"Ethnicity and Exam Scores\")\n",
    "\n",
    "plt.subplot(4,4,2)\n",
    "sns.barplot(student_df.groupby(\"ethnicity\")\n",
    "        [\"exam_score\"].mean().index,student_df.groupby(\"ethnicity\")[\"exam_score\"].mean())\n",
    "plt.title(\"Average Exam Scores and Ethnicity\")\n",
    "\n",
    "plt.subplot(4,4,3)\n",
    "sns.barplot(student_df[\"gender\"], student_df[\"exam_score\"])\n",
    "plt.title(\"Gender and Exam Scores\")\n",
    "\n",
    "plt.subplot(4,4,4)\n",
    "sns.barplot(student_df.groupby(\"gender\")\n",
    "        [\"exam_score\"].mean().index,student_df.groupby(\"gender\")[\"exam_score\"].mean())\n",
    "plt.title(\"Average Exam Scores and Gender\")\n",
    "\n",
    "plt.subplot(4,4,5)\n",
    "sns.barplot(student_df[\"parents education\"], student_df[\"exam_score\"])\n",
    "plt.title(\"Parents Education and Exam Scores\")\n",
    "\n",
    "plt.subplot(4,4,6)\n",
    "sns.barplot(student_df.groupby(\"parents education\")\n",
    "        [\"exam_score\"].mean().index,student_df.groupby(\"parents education\")[\"exam_score\"].mean())\n",
    "plt.title(\"Average Exam Scores and Parents Education\")\n",
    "\n",
    "plt.subplot(4,4,7)\n",
    "sns.barplot(student_df[\"lunch\"], student_df[\"exam_score\"])\n",
    "plt.title(\"Lunch and Exam Scores\")\n",
    "\n",
    "plt.subplot(4,4,8)\n",
    "sns.barplot(student_df.groupby(\"lunch\")\n",
    "        [\"exam_score\"].mean().index,student_df.groupby(\"lunch\")[\"exam_score\"].mean())\n",
    "plt.title(\"Average Exam Scores and Lunch\")\n",
    "\n",
    "plt.subplot(4,4,9)\n",
    "sns.barplot(student_df[\"prep course\"], student_df[\"exam_score\"])\n",
    "plt.title(\"Prep Course and Exam Scores\")\n",
    "\n",
    "plt.subplot(4,4,10)\n",
    "sns.barplot(student_df.groupby(\"prep course\")\n",
    "        [\"exam_score\"].mean().index,student_df.groupby(\"prep course\")[\"exam_score\"].mean())\n",
    "plt.title(\"Average Exam Scores and Prep Course\")\n",
    "\n",
    "plt.show()"
   ]
  },
  {
   "cell_type": "code",
   "execution_count": null,
   "metadata": {},
   "outputs": [],
   "source": []
  }
 ],
 "metadata": {
  "kernelspec": {
   "display_name": "Python 3",
   "language": "python",
   "name": "python3"
  },
  "language_info": {
   "codemirror_mode": {
    "name": "ipython",
    "version": 3
   },
   "file_extension": ".py",
   "mimetype": "text/x-python",
   "name": "python",
   "nbconvert_exporter": "python",
   "pygments_lexer": "ipython3",
   "version": "3.7.3"
  }
 },
 "nbformat": 4,
 "nbformat_minor": 2
}
